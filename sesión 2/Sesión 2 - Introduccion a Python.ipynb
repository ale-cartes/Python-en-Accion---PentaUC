{
 "cells": [
  {
   "cell_type": "markdown",
   "metadata": {},
   "source": [
    "<div style=\"display: flex; justify-content: space-between; align-items: center;\">\n",
    "    <div style=\"display: flex; flex-direction: column;\">\n",
    "        <h1>Introducción a Python y a su Sintaxis</h1>\n",
    "    </div>\n",
    "    <h3 style=\"margin: 0; white-space: nowrap;\">Prof.: Alejandro Cartes</h3>\n",
    "    <img src=\"https://academiadetalentos.uc.cl/wp-content/uploads/2024/01/cropped-ACADEMIA-TALENTOS-UC_02.png\" height=\"75px\">\n",
    "</div>\n",
    "\n",
    "---"
   ]
  },
  {
   "cell_type": "markdown",
   "metadata": {},
   "source": [
    "## Operaciones Matemáticas\n",
    "\n",
    "En la sesión anterior vimos que podemos definir números. Python puede realizar operaciones básicas y avanzadas con ellos"
   ]
  },
  {
   "cell_type": "markdown",
   "metadata": {},
   "source": [
    "### Adición y Sustracción"
   ]
  },
  {
   "cell_type": "code",
   "execution_count": null,
   "metadata": {},
   "outputs": [],
   "source": [
    "# Consideremos dos números: a y b\n",
    "a = 9\n",
    "b = 17\n",
    "\n",
    "# +: suma\n",
    "suma = a + b\n",
    "\n",
    "print(f\"suma: {a} + {b} = {suma}\")\n",
    "\n",
    "\n",
    "# -: resta\n",
    "resta_1 = a - b\n",
    "resta_2 = b - a\n",
    "\n",
    "print(f\"resta: {a} - {b} = {resta_1}\")\n",
    "print(f\"       {b} - {a} = {resta_2}\")\n",
    "\n",
    "# notar que:\n",
    "#     1. la suma conmuta, i.e.: a + b = b + a\n",
    "#     2. la resta no conmuta, i.e.: a - b != b - a"
   ]
  },
  {
   "cell_type": "markdown",
   "metadata": {},
   "source": [
    "#### <font style=\"color: rgb(255, 255, 0);\">**Actividad:**</font>\n",
    "\n",
    "Sea $x \\in \\mathbb{R}$, el **opuesto** de $x$ es $-x$.\n",
    "\n",
    "- Defina una variable que almacene el opuesto del número almacenado en la variable `a` de la celda anterior\n",
    "- ¿Qué sucede si suma `a` y su opuesto?"
   ]
  },
  {
   "cell_type": "code",
   "execution_count": null,
   "metadata": {},
   "outputs": [],
   "source": [
    "# su código va aquí\n"
   ]
  },
  {
   "cell_type": "markdown",
   "metadata": {},
   "source": [
    "- Defina una variable que almacene el opuesto de `a+b`"
   ]
  },
  {
   "cell_type": "code",
   "execution_count": null,
   "metadata": {},
   "outputs": [],
   "source": [
    "# su código va aquí\n"
   ]
  },
  {
   "cell_type": "markdown",
   "metadata": {},
   "source": [
    "### Multiplicación y División"
   ]
  },
  {
   "cell_type": "code",
   "execution_count": null,
   "metadata": {},
   "outputs": [],
   "source": [
    "# Consideremos dos números: a y b\n",
    "a = 18\n",
    "b = 5\n",
    "\n",
    "# *: multiplicación\n",
    "multiplicacion = a * b\n",
    "\n",
    "print(f\"Multiplicación: {a} * {b} = {multiplicacion}\")\n",
    "\n",
    "\n",
    "# /: división\n",
    "division_1 = a / b\n",
    "division_2 = b / a\n",
    "\n",
    "print(f\"División: {a} / {b} = {division_1}\")\n",
    "print(f\"          {b} / {a} = {division_2}\")\n",
    "\n",
    "# notar que:\n",
    "#     1. la multiplicación conmuta, i.e.: a * b = b * a\n",
    "#     2. la división no conmuta, i.e.: a / b != b / a"
   ]
  },
  {
   "cell_type": "markdown",
   "metadata": {},
   "source": [
    "#### <font style=\"color: rgb(255, 255, 0);\">**Actividad:**</font>\n",
    "\n",
    "Sea $x \\in \\mathbb{R}$, el **inverso** de $x$ es $1/x$.\n",
    "\n",
    "- Defina una variable que almacene el inverso del número almacenado en la variable `a` de la celda anterior\n",
    "- ¿Qué sucede si multiplica `a` y su inverso?"
   ]
  },
  {
   "cell_type": "code",
   "execution_count": null,
   "metadata": {},
   "outputs": [],
   "source": [
    "# su código va aquí\n"
   ]
  },
  {
   "cell_type": "markdown",
   "metadata": {},
   "source": [
    "### Potenciación\n",
    "\n",
    "En Python, podemos calcular potencias del estilo $a^b$. Aunque la notación matemática estándar para esta operación es $a\\^{\\quad}b$, en Python el símbolo **$\\^{\\quad}$** tiene otro uso. Por esta razón, los creadores de Python decidieron utilizar **$**$** para la exponenciación. Así, para calcular $a^b$ en Python, usamos la sintaxis `a ** b`.\n"
   ]
  },
  {
   "cell_type": "code",
   "execution_count": null,
   "metadata": {},
   "outputs": [],
   "source": [
    "# Consideremos una base y un exponente a^b\n",
    "\n",
    "base = 3\n",
    "exponente = 3\n",
    "\n",
    "# **: potenciación\n",
    "\n",
    "potencia = base ** exponente\n",
    "print(f\"Potencia: {base}^{exponente} = {potencia}\")\n",
    "\n",
    "\n",
    "# otra forma de hacerlo es mediante la función \"pow\"\n",
    "potencia_pow = pow(base, exponente)\n",
    "print(f\"Potencia (pow): {base}^{exponente} = {potencia_pow}\")"
   ]
  },
  {
   "cell_type": "code",
   "execution_count": null,
   "metadata": {},
   "outputs": [],
   "source": [
    "help(pow)"
   ]
  },
  {
   "cell_type": "markdown",
   "metadata": {},
   "source": [
    "#### <font style=\"color: rgb(255, 255, 0);\">**Actividad:**</font>\n",
    "\n",
    "Consideremos la base definida en la celda anterior:\n",
    "\n",
    "- Defina una variable que almacene el inverso de la base\n",
    "- Defina una variable que almacene la base elevada a -1\n",
    "\n",
    "Muestre ambos resultados usando `print` y comente dentro del mismo código\n",
    "[Para crear un comentario, basta escribir tras un `#`]"
   ]
  },
  {
   "cell_type": "code",
   "execution_count": null,
   "metadata": {},
   "outputs": [],
   "source": [
    "# Su código va aquí\n"
   ]
  },
  {
   "cell_type": "markdown",
   "metadata": {},
   "source": [
    "- Defina una variable que almacene la base elevada a 0\n",
    "- ¿Qué pasa si la base es 0?\n",
    "\n",
    "Muestre ambos resultados usando `print` y comente dentro del mismo código"
   ]
  },
  {
   "cell_type": "code",
   "execution_count": null,
   "metadata": {},
   "outputs": [],
   "source": [
    "# Su código va aquí\n"
   ]
  },
  {
   "cell_type": "markdown",
   "metadata": {},
   "source": [
    "- ¿Cómo lo haría para obtener la raíz cuadrada de la base?\n",
    "- Calcule la raíz cuadrada y la raíz cuarta de la base\n",
    "\n",
    "**Advertencia:** Tenga cuidado con la diferencia entre `** 1/2` y `** (1/2)`. Prueba ambos y observe los resultados\n",
    "\n",
    "Muestre los resultados usando `print` y comente dentro del mismo código"
   ]
  },
  {
   "cell_type": "code",
   "execution_count": null,
   "metadata": {},
   "outputs": [],
   "source": [
    "# Su código va aquí\n"
   ]
  },
  {
   "cell_type": "markdown",
   "metadata": {},
   "source": [
    "### División entera y Operador Módulo"
   ]
  },
  {
   "cell_type": "code",
   "execution_count": null,
   "metadata": {},
   "outputs": [],
   "source": [
    "a = 7\n",
    "b = 2\n",
    "\n",
    "# //: división entera\n",
    "div_int = a // b\n",
    "print(f\"División entera: {a} // {b} = \", div_int)\n",
    "\n",
    "# %: operador módulo\n",
    "modulo = a % b\n",
    "print(f\"Módulo: {a} % {b} = \", modulo)\n",
    "\n",
    "\n",
    "# notar lo siguiente:\n",
    "#     1. a = b * (a // b) + (a % b)\n",
    "\n",
    "print(\"Notar que:\", f\"{a} = {b} * ({a} // {b}) + ({a} % {b}) = \",\n",
    "      b * (a // b) + (a % b))"
   ]
  },
  {
   "cell_type": "markdown",
   "metadata": {},
   "source": [
    "#### <font style=\"color: rgb(255, 255, 0);\">**Actividad:**</font> Ejemplo de aritmética modular\n",
    "\n",
    "Considere que está con un fuerte resfriado, por lo que tiene que tomar un medicamento cada 8 horas. En su reloj de formato de 12 horas, ve que marca las 7:00\n",
    "\n",
    "- Si toma el medicamento a las 7:00, ¿qué hora marcará el reloj la siguiente vez que deba tomarlo?\n",
    "- ¿Qué hora marcará el reloj la 9na vez que deba tomar el medicamento?\n",
    "\n",
    "<img src=\"https://upload.wikimedia.org/wikipedia/commons/c/c8/Reloj_07_00.svg\" height=\"250px\">\n"
   ]
  },
  {
   "cell_type": "code",
   "execution_count": null,
   "metadata": {},
   "outputs": [],
   "source": [
    "# su código va aquí\n"
   ]
  },
  {
   "cell_type": "markdown",
   "metadata": {},
   "source": [
    "### Prioridad de Operadores Aritméticos\n",
    "\n",
    "En Python, la prioridad de los operadores aritméticos determina el orden en que se evalúan las expresiones. A continuación, se presenta la jerarquía de operadores, de mayor a menor prioridad:\n",
    "\n",
    "1. Paréntesis `()`\n",
    "\n",
    "2. Potenciación `**`\n",
    "\n",
    "3. Multiplicación `*`, División `/`, División entera `//`, Módulo `%`\\\n",
    "Estos operadores tienen la misma prioridad y se evalúan de izquierda a derecha.\n",
    "\n",
    "4. Suma `+`, Resta `-`"
   ]
  },
  {
   "cell_type": "markdown",
   "metadata": {},
   "source": [
    "#### <font style=\"color: rgb(255, 255, 0);\">**Actividad:**</font>\n",
    "\n",
    "Dado el ejemplo en la celda siguiente\n",
    "\n",
    "¿Cuál fue el orden en el cual se evaluó la expresión?"
   ]
  },
  {
   "cell_type": "code",
   "execution_count": null,
   "metadata": {},
   "outputs": [],
   "source": [
    "resultado = 3 + 2 * (2 ** 3) // 4 - 1\n",
    "print(resultado)"
   ]
  },
  {
   "cell_type": "markdown",
   "metadata": {},
   "source": [
    "**responda en esta celda**"
   ]
  },
  {
   "cell_type": "markdown",
   "metadata": {},
   "source": [
    "## Booleanos\n",
    "\n",
    "Tipo de datos en programación que puede almacenar uno de dos valores: `True` ó `False`"
   ]
  },
  {
   "cell_type": "code",
   "execution_count": null,
   "metadata": {},
   "outputs": [],
   "source": [
    "bool_true = True\n",
    "bool_false = False\n",
    "\n",
    "print(f\"Variable: {bool_true} - Tipo: {type(bool_true)}\")\n",
    "print(f\"Variable: {bool_false} - Tipo: {type(bool_false)}\")"
   ]
  },
  {
   "cell_type": "markdown",
   "metadata": {},
   "source": [
    "### Operadores lógicos: and & or"
   ]
  },
  {
   "cell_type": "markdown",
   "metadata": {},
   "source": [
    "#### `and`\n",
    "\n",
    "| A | B | A and B |\n",
    "|:-:|:-:|:-------:|\n",
    "| T | T |    T    |\n",
    "| T | F |    F    |\n",
    "| F | T |    F    |\n",
    "| F | F |    F    |"
   ]
  },
  {
   "cell_type": "code",
   "execution_count": null,
   "metadata": {},
   "outputs": [],
   "source": [
    "# and: operador lógico \"y\"\n",
    "\n",
    "print(f\"{True} and {True} = {True and True}\")\n",
    "print(f\"{True} and {False} = {True and False}\")\n",
    "print(f\"{False} and {True} = {False and True}\")\n",
    "print(f\"{False} and {False} = {False and False}\")"
   ]
  },
  {
   "cell_type": "markdown",
   "metadata": {},
   "source": [
    "#### `or`\n",
    "\n",
    "| A | B | A or B |\n",
    "|:-:|:-:|:-------:|\n",
    "| T | T |    T    |\n",
    "| T | F |    T    |\n",
    "| F | T |    T    |\n",
    "| F | F |    F    |"
   ]
  },
  {
   "cell_type": "code",
   "execution_count": null,
   "metadata": {},
   "outputs": [],
   "source": [
    "# or: operador lógico \"o\"\n",
    "\n",
    "print(f\"{True} or {True} = {True or True}\")\n",
    "print(f\"{True} or {False} = {True or False}\")\n",
    "print(f\"{False} or {True} = {False or True}\")\n",
    "print(f\"{False} or {False} = {False or False}\")"
   ]
  },
  {
   "cell_type": "markdown",
   "metadata": {},
   "source": [
    "#### `not`"
   ]
  },
  {
   "cell_type": "code",
   "execution_count": null,
   "metadata": {},
   "outputs": [],
   "source": [
    "# not: operador lógico \"no\"\n",
    "\n",
    "print(f\"not {True} = {not True}\")\n",
    "print(f\"not {False} = {not False}\")"
   ]
  },
  {
   "cell_type": "markdown",
   "metadata": {},
   "source": [
    "## Operaciones de Comparación\n",
    "\n",
    "Operadores que se utilizan para comparar dos o más valores, entregando siempre un resultado booleano, i.e., `True` o `False`"
   ]
  },
  {
   "cell_type": "code",
   "execution_count": null,
   "metadata": {},
   "outputs": [],
   "source": [
    "# Definamos los siguientes números a, b, c y d\n",
    "a, b = 5, 5\n",
    "c, d = 3, 7"
   ]
  },
  {
   "cell_type": "markdown",
   "metadata": {},
   "source": [
    "### Igualdad: `==`\n",
    "\n",
    "Si queremos comparar si una variable es igual a otra, no podemos usar simplemente `=`, esto porque Python lo interpreta como si estuviéramos definiendo una variable. Para ello, Python tiene el operador `==`"
   ]
  },
  {
   "cell_type": "code",
   "execution_count": null,
   "metadata": {},
   "outputs": [],
   "source": [
    "# Igualdad: ==\n",
    "print(f\"{a} == {b}: {a == b}\")\n",
    "print(f\"{a} == {c}: {a == c}\")"
   ]
  },
  {
   "cell_type": "markdown",
   "metadata": {},
   "source": [
    "### Desigualdad: `!=`\n",
    "\n",
    "En notación matemática, la desigualdad se representa como $\\neq$. Sin embargo, no podemos escribir esto directamente con caracteres de teclado estándar. Por este motivo, Python utiliza el operador `!=` para indicar desigualdad."
   ]
  },
  {
   "cell_type": "code",
   "execution_count": null,
   "metadata": {},
   "outputs": [],
   "source": [
    "# Desigualdad: !=\n",
    "print(f\"{a} != {b}: {a != b}\")\n",
    "print(f\"{a} != {c}: {a != c}\")"
   ]
  },
  {
   "cell_type": "markdown",
   "metadata": {},
   "source": [
    "### Mayor `>` | Mayor o igual `>=`"
   ]
  },
  {
   "cell_type": "code",
   "execution_count": null,
   "metadata": {},
   "outputs": [],
   "source": [
    "# Mayor que: >\n",
    "print(f\"{a} > {b}: {a > b}\")\n",
    "print(f\"{a} > {c}: {a > c}\", end=\"\\n\\n\")\n",
    "\n",
    "# Mayor o igual que: >=\n",
    "print(f\"{a} >= {b}: {a >= b}\")\n",
    "print(f\"{a} >= {c}: {a >= c}\")"
   ]
  },
  {
   "cell_type": "markdown",
   "metadata": {},
   "source": [
    "### Menor `<` | Menor o igual `<=`"
   ]
  },
  {
   "cell_type": "code",
   "execution_count": null,
   "metadata": {},
   "outputs": [],
   "source": [
    "# Menor que: <\n",
    "print(f\"{a} < {b}: {a < b}\")\n",
    "print(f\"{a} < {c}: {a < c}\", end=\"\\n\\n\")\n",
    "\n",
    "# Menor o igual que: <=\n",
    "print(f\"{a} <= {b}: {a <= b}\")\n",
    "print(f\"{a} <= {c}: {a <= c}\")"
   ]
  },
  {
   "cell_type": "markdown",
   "metadata": {},
   "source": [
    "## Sentencias Condicionales\n",
    "\n",
    "Las sentencias condicionales en Python permiten ejecutar diferentes bloques de código según ciertas condiciones, siendo fundamentales para controlar el flujo de un programa."
   ]
  },
  {
   "cell_type": "markdown",
   "metadata": {},
   "source": [
    "### `if`\n",
    "La sentencia `if` evalúa una condición y, si es verdadera, ejecuta el bloque de código correspondiente.\n",
    "\n",
    "<font style=\"color: green;\">Sintaxis</font>\n",
    "\n",
    "> if **[condición]**:\n",
    ">> **[haz algo]**"
   ]
  },
  {
   "cell_type": "code",
   "execution_count": null,
   "metadata": {},
   "outputs": [],
   "source": [
    "x = 10\n",
    "\n",
    "if x > 5:\n",
    "    print(\"x es mayor que 5\")"
   ]
  },
  {
   "cell_type": "code",
   "execution_count": null,
   "metadata": {},
   "outputs": [],
   "source": [
    "y = 4\n",
    "\n",
    "if y % 2 != 0:\n",
    "    print(\"y es impar\")"
   ]
  },
  {
   "cell_type": "code",
   "execution_count": null,
   "metadata": {},
   "outputs": [],
   "source": [
    "if True:\n",
    "    print(\"Esto siempre se imprime\")"
   ]
  },
  {
   "cell_type": "code",
   "execution_count": null,
   "metadata": {},
   "outputs": [],
   "source": [
    "if False:\n",
    "    print(\"Esto nunca se imprime\")"
   ]
  },
  {
   "cell_type": "markdown",
   "metadata": {},
   "source": [
    "### `if` - `else`\n",
    "\n",
    "La sentencia `if - else` proporciona una alternativa en caso de que la condición `if` sea falsa.\n",
    "\n",
    "<font style=\"color: green;\">Sintaxis</font>\n",
    "\n",
    "> if **[condición]**:\n",
    ">> **[haz algo]**\n",
    "\n",
    "> else:\n",
    ">> **[haz esto otro]**"
   ]
  },
  {
   "cell_type": "code",
   "execution_count": null,
   "metadata": {},
   "outputs": [],
   "source": [
    "x = 2\n",
    "\n",
    "if x > 5:\n",
    "    print(\"x es mayor que 5\")\n",
    "\n",
    "else:\n",
    "    print(\"x no es mayor que 5\")"
   ]
  },
  {
   "cell_type": "code",
   "execution_count": null,
   "metadata": {},
   "outputs": [],
   "source": [
    "y = 4\n",
    "\n",
    "if y % 2 != 0:\n",
    "    print(\"y es impar\")\n",
    "\n",
    "else:\n",
    "    print(\"y es par\")"
   ]
  },
  {
   "cell_type": "code",
   "execution_count": null,
   "metadata": {},
   "outputs": [],
   "source": [
    "if False:\n",
    "    print(\"Esto nunca se imprime\")\n",
    "\n",
    "else:\n",
    "    print(\"Esto se mostrará\")"
   ]
  },
  {
   "cell_type": "markdown",
   "metadata": {},
   "source": [
    "### `if` - `elif` - `else`\n",
    "\n",
    "La sentencia `if - elif - else` permite evaluar múltiples condiciones en secuencia. `elif` es la abreviatura de “else if”.\n",
    "\n",
    "<font style=\"color: green;\">Sintaxis</font>\n",
    "\n",
    "> if **[condición]**:\n",
    ">> **[haz algo]**\n",
    "\n",
    "> elif **[otra condición]**:\n",
    ">> **[haz esto otro]**\n",
    "\n",
    "> $\\vdots$ Pueden haber varias sentencias `elif`\n",
    "\n",
    "> else:\n",
    ">> **[haz esto otro otro]**"
   ]
  },
  {
   "cell_type": "code",
   "execution_count": null,
   "metadata": {},
   "outputs": [],
   "source": [
    "x = -23\n",
    "\n",
    "if x > 0:\n",
    "    print(\"x es positivo\")\n",
    "\n",
    "elif x < 0:\n",
    "    print(\"x es negativo\")\n",
    "\n",
    "else:\n",
    "    print(\"x es 0\")"
   ]
  },
  {
   "cell_type": "markdown",
   "metadata": {},
   "source": [
    "## Funciones\n",
    "\n",
    "Las funciones en Python son bloques de código reutilizables que realizan una tarea específica. Definir funciones permite organizar el código, hacerlo más legible y evitar la repetición.\n",
    "\n",
    "<font style=\"color: green;\">Sintaxis</font>\n",
    "> **def** nombre_de_la_función(**[parámetros]**):\n",
    ">> **[haz algo]**"
   ]
  },
  {
   "cell_type": "markdown",
   "metadata": {},
   "source": [
    "### Definición y llamada"
   ]
  },
  {
   "cell_type": "code",
   "execution_count": null,
   "metadata": {},
   "outputs": [],
   "source": [
    "def nombre_funcion():\n",
    "    print(\"Hola, soy una función\")\n",
    "\n",
    "# Llamamos a la función\n",
    "nombre_funcion()"
   ]
  },
  {
   "cell_type": "markdown",
   "metadata": {},
   "source": [
    "### Función con Parámetros"
   ]
  },
  {
   "cell_type": "code",
   "execution_count": null,
   "metadata": {},
   "outputs": [],
   "source": [
    "# Definimos una función que recibe un parámetro\n",
    "\n",
    "def saludar(nombre):\n",
    "    print(f\"Hola, {nombre}\")\n",
    "\n",
    "saludar(\"Juanito\")"
   ]
  },
  {
   "cell_type": "code",
   "execution_count": null,
   "metadata": {},
   "outputs": [],
   "source": [
    "# notemos lo siguiente\n",
    "\n",
    "saludo = saludar(\"Juanito\")\n",
    "\n",
    "# exploremos el valor de \"saludo\"\n",
    "print(f\"Variable: {saludo} - Tipo: {type(saludo)}\")"
   ]
  },
  {
   "cell_type": "markdown",
   "metadata": {},
   "source": [
    "### `return`"
   ]
  },
  {
   "cell_type": "markdown",
   "metadata": {},
   "source": [
    "En este caso la función no está retornando nada, solo muestra en consola. Por lo general queremos trabajar con los resultados generados por una función, para ello tenemos `return`"
   ]
  },
  {
   "cell_type": "code",
   "execution_count": null,
   "metadata": {},
   "outputs": [],
   "source": [
    "def cuadrado_binomio(a, b):\n",
    "    cuadrado_a = a ** 2\n",
    "    cuadrado_b = b ** 2\n",
    "    return cuadrado_a + 2 * a * b + cuadrado_b\n",
    "\n",
    "resultado = cuadrado_binomio(3, 5)\n",
    "print(f\"Variable: {resultado} - Tipo: {type(resultado)}\")"
   ]
  },
  {
   "cell_type": "markdown",
   "metadata": {},
   "source": [
    "### Parámetros Predeterminados\n",
    "\n",
    "Las funciones con parámetros predeterminados permiten definir valores por defecto para uno o más parámetros. Esto es útil cuando se busca que una función tenga un comportamiento estándar, pero también se quiera la flexibilidad de cambiar ese comportamiento cuando sea necesario.\n",
    "\n",
    "<font style=\"color: green;\">Sintaxis</font>\n",
    "\n",
    "> def funcion([parámetros], **[parametro_default]**=algo)"
   ]
  },
  {
   "cell_type": "code",
   "execution_count": null,
   "metadata": {},
   "outputs": [],
   "source": [
    "def calcular_precio(precio_base, impuesto_porcentaje=19):\n",
    "    impuesto = impuesto_porcentaje / 100\n",
    "    return precio_base * (1 + impuesto)\n",
    "\n",
    "# Llamadas a la función\n",
    "precio_default = calcular_precio(1000)\n",
    "precio_10_25 = calcular_precio(1000, 10.25)\n",
    "\n",
    "# incluso, para hacerlo más claro, podemos hacer lo siguiente\n",
    "precio_10_25 = calcular_precio(1000, impuesto_porcentaje=10.25)\n",
    "\n",
    "# o más aún\n",
    "precio_10_25 = calcular_precio(precio_base=1000, impuesto_porcentaje=10.25)\n",
    "\n",
    "print(f\"Precio con impuesto por defecto (19%): {precio_default}\")\n",
    "print(f\"Precio con impuesto 10.25%: {precio_10_25}\")"
   ]
  },
  {
   "cell_type": "markdown",
   "metadata": {},
   "source": [
    "### Docstrings\n",
    "\n",
    "Como vimos en la sesión anterior, podemos preguntarle a Python qué es lo que hace una función usando `help` o `?`.\n",
    "\n",
    "¿Qué pasa si le preguntamos sobre una función definida por nosotros hasta el momento?"
   ]
  },
  {
   "cell_type": "code",
   "execution_count": null,
   "metadata": {},
   "outputs": [],
   "source": [
    "help(calcular_precio)"
   ]
  },
  {
   "cell_type": "markdown",
   "metadata": {},
   "source": [
    "Notemos que la única información que nos entrega es sobre los parámetros que tiene como input.\n",
    "\n",
    "¿Cómo podemos complementarla?\\\n",
    "Para hacer eso tenemos los denominados **Docstrings**\n",
    "\n",
    "Los docstrings Se utilizan para describir brevemente el propósito y el comportamiento del código, facilitando su comprensión y mantenimiento.\n",
    "\n",
    "<font style=\"color: green;\">Sintaxis</font>\\\n",
    "Un docstring se define utilizando comillas triples (`\"\"\"` o `'''`) y se coloca inmediatamente después de la definición de una función.\n",
    "\n",
    "> def funcion(inputs):\n",
    ">> \"\"\"\\\n",
    ">> Descripción\\\n",
    ">> \"\"\""
   ]
  },
  {
   "cell_type": "code",
   "execution_count": null,
   "metadata": {},
   "outputs": [],
   "source": [
    "# Ejemplo\n",
    "\n",
    "def suma(a, b):\n",
    "    \"\"\"\n",
    "    Esta función toma dos números y devuelve su suma.\n",
    "\n",
    "    Inputs:\n",
    "    a (int, float): El primer número.\n",
    "    b (int, float): El segundo número.\n",
    "\n",
    "    Output:\n",
    "    int, float: La suma de los dos números.\n",
    "    \"\"\"\n",
    "    return a + b\n",
    "\n",
    "help(suma)"
   ]
  },
  {
   "cell_type": "markdown",
   "metadata": {},
   "source": [
    "### <font style=\"color: rgb(255, 255, 0);\">**Actividad:**</font>\n",
    "\n",
    "Define una función que:\n",
    "- Reciba como input un número\n",
    "- Retorne como output un mensaje si el número es par o impar\n",
    "- Añada un docstring que describa su función\n",
    "\n",
    "Ejemplo de uso:\\\n",
    "Suponiendo que su función se llama `par_o_impar`\n",
    "\n",
    "`par_o_impar(4)` debe retornar `'El número 4 es par'`\\\n",
    "`par_o_impar(7)` debe retornar `'El número 7 es impar'`"
   ]
  },
  {
   "cell_type": "code",
   "execution_count": null,
   "metadata": {},
   "outputs": [],
   "source": [
    "# Su código va aquí\n"
   ]
  }
 ],
 "metadata": {
  "kernelspec": {
   "display_name": ".venv",
   "language": "python",
   "name": "python3"
  },
  "language_info": {
   "codemirror_mode": {
    "name": "ipython",
    "version": 3
   },
   "file_extension": ".py",
   "mimetype": "text/x-python",
   "name": "python",
   "nbconvert_exporter": "python",
   "pygments_lexer": "ipython3",
   "version": "3.9.19"
  }
 },
 "nbformat": 4,
 "nbformat_minor": 2
}

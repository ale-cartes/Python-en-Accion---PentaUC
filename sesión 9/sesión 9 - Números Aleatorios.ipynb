{
 "cells": [
  {
   "cell_type": "markdown",
   "metadata": {},
   "source": [
    "<div style=\"display: flex; justify-content: space-between; align-items: center;\">\n",
    "    <div style=\"display: flex; flex-direction: column;\">\n",
    "        <h1>Números (pseudo)aleatorios\n",
    "            <a href=\"https://colab.research.google.com/github/ale-cartes/Python-en-Accion---PentaUC/blob/main/sesión 9/sesión 9 - Números Aleatorios.ipynb\" target=\"_parent\">\n",
    "            <img src=\"https://colab.research.google.com/assets/colab-badge.svg\" alt=\"Open In Colab\"/>\n",
    "            </a>\n",
    "        </h1>\n",
    "    </div>\n",
    "    <h3 style=\"margin: 0; white-space: nowrap;\">\n",
    "        <p>Prof.: Alejandro Cartes</p>\n",
    "        <p>Ayud.: Laura Aspee</p>\n",
    "    </h3>\n",
    "    <img src=\"https://academiadetalentos.uc.cl/wp-content/uploads/2024/01/cropped-ACADEMIA-TALENTOS-UC_02.png\" height=\"75px\">\n",
    "</div>\n",
    "\n",
    "---"
   ]
  },
  {
   "cell_type": "markdown",
   "metadata": {},
   "source": [
    "En esta sesión abordaremos la construcción de números **(pseudo)aleatorios** en Python.\n",
    "\n",
    "En la sesión anterior vimos cómo calcular áreas mediante *Sumas de Riemann*. Volveremos a este tópico, pero con un nuevo método llamado **Método de Montecarlo**. Con este método, cuyo nombre proviene de un famoso casino, seremos capaces de determinar áreas con un enfoque completamente distinto, en donde usaremos (muchos) números aleatorios."
   ]
  },
  {
   "cell_type": "markdown",
   "metadata": {},
   "source": [
    "## ¿Cómo generar números aleatorios en Python?"
   ]
  },
  {
   "cell_type": "markdown",
   "metadata": {},
   "source": [
    "En Python, como sabemos, contamos con muchas librerías, entre ellas está el paquete preinstalado `random`. En esta sesión usaremos la extensión `random` del paquete Numpy.\n",
    "\n",
    "Se invita a explorar la librería `random` y reproducir lo que haremos en esta sesión."
   ]
  },
  {
   "cell_type": "markdown",
   "metadata": {},
   "source": [
    "Importemos nuestras liberías\n",
    "\n",
    "| Paquete                | Descripción                          |\n",
    "|------------------------|--------------------------------------|\n",
    "| **numpy**              | para manipular arreglos              |\n",
    "| **numpy.random**       | para explorar n° aleatorios          |\n",
    "| **matplotlib.pyplot**  | para generar gráficos                |\n",
    "| **utils**              | funciones vistas en el curso         |"
   ]
  },
  {
   "cell_type": "code",
   "execution_count": null,
   "metadata": {},
   "outputs": [],
   "source": [
    "import numpy as np\n",
    "import numpy.random as np_rand\n",
    "import matplotlib.pyplot as plt\n",
    "\n",
    "import os\n",
    "if not os.path.isfile(\"utils.py\"):\n",
    "    link = (\"https://raw.githubusercontent.com/ale-cartes/\"\n",
    "            \"Python-en-Accion---PentaUC/refs/heads/main/utils.py\")\n",
    "    os.system(f\"wget {link}\")\n",
    "\n",
    "from utils import *"
   ]
  },
  {
   "cell_type": "markdown",
   "metadata": {},
   "source": [
    "La sublibrería random nos permite generar números aleatorias de muchas maneras:"
   ]
  },
  {
   "cell_type": "markdown",
   "metadata": {},
   "source": [
    "#### **Función**: `random`\n",
    "\n",
    "<font color='lime'> **Descripción** </font>:\n",
    "Retorna *floats* aleatorios en el intervalo $\\left[0, 1\\right)$\n",
    "\n",
    "<font color='lime'> **Inputs** </font>:\n",
    "- `size` **(opcional)**: cantidad de números aleatorios\n",
    "    - si no se entrega, se retornará solo 1 número aleatorio"
   ]
  },
  {
   "cell_type": "code",
   "execution_count": null,
   "metadata": {},
   "outputs": [],
   "source": [
    "# help(np_rand.random)  # descomente esta línea para ver el docstring\n",
    "\n",
    "for i in range(5):\n",
    "    # generamos el número aleatorio\n",
    "    n_aleatorio = np_rand.random()\n",
    "    \n",
    "    print(\"N° generado:\", n_aleatorio)"
   ]
  },
  {
   "cell_type": "code",
   "execution_count": null,
   "metadata": {},
   "outputs": [],
   "source": [
    "n = 15\n",
    "\n",
    "# generamos n números aleatorios entre 0 y 1\n",
    "n_aleatorios = np_rand.random(size=n)\n",
    "\n",
    "print(n_aleatorios)"
   ]
  },
  {
   "cell_type": "markdown",
   "metadata": {},
   "source": [
    "#### **Función**: `randint`\n",
    "\n",
    "<font color='lime'> **Descripción** </font>:\n",
    "Retorna **enteros aleatorios** en el intervalo en el intervalo $\\left[\\text{low}, \\text{high} \\right)$\n",
    "\n",
    "<font color='lime'> **Inputs** </font>:\n",
    "\n",
    "- `low`: inicio del intervalo\n",
    "\n",
    "- `high` **(opcional)**: fin del intervalo\n",
    "    - si no se entrega, se entregará un entero aleatorio en el intervalo $\\left[0, \\text{low}\\right)$\n",
    "\n",
    "- `size` **(opcional)**: cantidad de números aleatorios\n",
    "    - si no se entrega, se retornará solo 1 número aleatorio"
   ]
  },
  {
   "cell_type": "code",
   "execution_count": null,
   "metadata": {},
   "outputs": [],
   "source": [
    "# help(np_rand.randint)  # descomente esta línea para ver el docstring\n",
    "\n",
    "low, high = -2, 5\n",
    "\n",
    "for i in range(5):\n",
    "    # generamos el n° aleatorio entre [low, high)\n",
    "    n_aleatorio = np_rand.randint(low, high)\n",
    "    \n",
    "    print(\"N° generado:\", n_aleatorio)"
   ]
  },
  {
   "cell_type": "code",
   "execution_count": null,
   "metadata": {},
   "outputs": [],
   "source": [
    "low = 10\n",
    "\n",
    "for i in range(5):\n",
    "    # generamos el n° aleatorio entre [0, low)\n",
    "    n_aleatorio = np_rand.randint(low)\n",
    "    \n",
    "    print(\"N° generado:\", n_aleatorio)"
   ]
  },
  {
   "cell_type": "code",
   "execution_count": null,
   "metadata": {},
   "outputs": [],
   "source": [
    "low, high = -5, 5\n",
    "n = 15\n",
    "\n",
    "# generamos n números aleatorios en el intervalo [low, high)\n",
    "n_aleatorios = np_rand.randint(low, high, n)\n",
    "\n",
    "print(n_aleatorios)"
   ]
  },
  {
   "cell_type": "markdown",
   "metadata": {},
   "source": [
    "#### **Función**:  `uniform`\n",
    "\n",
    "<font color='lime'> **Descripción** </font>:\n",
    "Retorna valores aleatorios distribuidos uniformemente en el intervalo $\\left[\\text{low}, \\text{high} \\right)$\n",
    "\n",
    "<font color='lime'> **Inputs** </font>:\n",
    "\n",
    "- `low`: inicio del intervalo\n",
    "\n",
    "- `high` **(opcional)**: fin del intervalo\n",
    "    - si no se entrega, se entregará un número aleatorio en el intervalo $\\left[0, \\text{low}\\right)$\n",
    "\n",
    "- `size` **(opcional)**: cantidad de números aleatorios\n",
    "    - si no se entrega, se retornará solo 1 número aleatorio\n"
   ]
  },
  {
   "cell_type": "code",
   "execution_count": null,
   "metadata": {},
   "outputs": [],
   "source": [
    "# help(np_rand.uniform) # descomente esta línea para ver el docstring\n",
    "\n",
    "low, high = -2, 5\n",
    "\n",
    "for i in range(5):\n",
    "    # generamos el n° aleatorio entre [low, high)\n",
    "    n_aleatorio = np_rand.uniform(low, high)\n",
    "    \n",
    "    print(\"N° generado:\", n_aleatorio)"
   ]
  },
  {
   "cell_type": "code",
   "execution_count": null,
   "metadata": {},
   "outputs": [],
   "source": [
    "low = 10\n",
    "\n",
    "for i in range(5):\n",
    "    # generamos el n° aleatorio entre [0, low)\n",
    "    n_aleatorio = np_rand.uniform(low)\n",
    "    \n",
    "    print(\"N° generado:\", n_aleatorio)"
   ]
  },
  {
   "cell_type": "code",
   "execution_count": null,
   "metadata": {},
   "outputs": [],
   "source": [
    "low, high = -5, 5\n",
    "n = 15\n",
    "\n",
    "# generamos n números aleatorios en el intervalo [low, high)\n",
    "n_aleatorios = np_rand.uniform(low, high, n)\n",
    "\n",
    "print(n_aleatorios)"
   ]
  },
  {
   "cell_type": "markdown",
   "metadata": {},
   "source": [
    "### <font color=yellow> Análisis </font>\n",
    "\n",
    "- Compare los números aleatorios generados en estas celdas con los valores obtenidos por las personas cercana a usted.\n",
    "    - ¿Son iguales?\n",
    "    - En caso de ser iguales, ¿están en el mismo orden?\n",
    "- ¿Qué sucede si ejecuta las celdas nuevamente? ¿Obtiene los mismos valores?"
   ]
  },
  {
   "cell_type": "markdown",
   "metadata": {},
   "source": [
    "## Semilla: *seed*"
   ]
  },
  {
   "cell_type": "markdown",
   "metadata": {},
   "source": [
    "Muchas veces queremos comparar nuestros resultados con nuestros pares, o queremos que nuestros resultados sean **reproducibles**.\n",
    "\n",
    "Para lograr esto, debemos especificar una **semilla (seed)** con la cual se generarán estos números. Es por esto que los números aleatorios generados de forma computacional se denominan pseudo-aleatorios, pues existe un algoritmo que sigue un patrón para generarlos.\n",
    "\n",
    "Una semilla es un número natural que, para numpy, va entre $0$ a $2^{32} -1$. Este valor actúa como un punto de partida para la secuencia de números aleatorios generados por el algoritmo\n",
    "\n",
    "Fijemos una semilla:"
   ]
  },
  {
   "cell_type": "code",
   "execution_count": null,
   "metadata": {},
   "outputs": [],
   "source": [
    "seed = 42\n",
    "np_rand.seed(seed)\n",
    "\n",
    "numeros_random = np_rand.randint(0, 100, size=15)\n",
    "print(numeros_random)"
   ]
  },
  {
   "cell_type": "markdown",
   "metadata": {},
   "source": [
    "### <font color=yellow> Análisis </font>\n",
    "\n",
    "- Compare los números aleatorios generados en la celda anterior con los valores obtenidos por las personas cercana a usted.\n",
    "    - ¿Son iguales?\n",
    "    - En caso de ser iguales, ¿están en el mismo orden?\n",
    "- ¿Qué sucede si ejecuta la celda nuevamente? ¿Obtiene los mismos valores?\n",
    "\n",
    "- ¿Qué ocurre si modifica la semilla?"
   ]
  },
  {
   "cell_type": "markdown",
   "metadata": {},
   "source": [
    "### <font color=yellow> Actividad Avanzada </font>"
   ]
  },
  {
   "cell_type": "markdown",
   "metadata": {},
   "source": [
    "Seguramente haya observado cómo una partícula de polvo se mueve en una habitación cuando entra un rayo de luz. Este fenómeno se llama **movimiento Browniano**, el cual es un tipo de movimiento conocido como *random walk*.\n",
    "\n",
    "Vamos a modelar este movimiento en Python. Para ello:\n",
    "\n",
    "- Consideraremos que el movimiento es bidimensional $(x, y)$\n",
    "- Cada paso en ambas direcciones tiene un tamaño aleatorio con una distribución normal.\n",
    "\n",
    "    Es decir:\n",
    "\n",
    "    $x_{actual} = x_{anterior} + n_{random}$\n",
    "    \n",
    "    $y_{actual} = y_{anterior} + n_{random}$\n",
    "\n",
    "    Para generar números aleatorios con esta distribución, utilice la función `normal(0, 1)`\n",
    "\n",
    "Para evitar usar bucles iterativos, genere una cantidad grande de números aleatorios y súmelos con la función `normal(0, 1, size=n).cumsum()` para ambas direcciones\n",
    "\n",
    "Es decir:\n",
    "\n",
    "```python\n",
    "x = np_rand.normal(0, 1, size=...).cumsum()\n",
    "y = np_rand.normal(0, 1, size=...).cumsum()\n",
    "```\n",
    "\n",
    "Grafique el par $(x, y)$"
   ]
  },
  {
   "cell_type": "code",
   "execution_count": null,
   "metadata": {},
   "outputs": [],
   "source": [
    "# su código va aquí"
   ]
  },
  {
   "cell_type": "markdown",
   "metadata": {},
   "source": [
    "## Concepto de Probabilidad"
   ]
  },
  {
   "cell_type": "markdown",
   "metadata": {},
   "source": [
    "La **probabilidad** es un concepto matemático que se ocupa en el análisis de **eventos aleatorios** y la cuantificación de la incertidumbre. En otras palabras, mide la **posibilidad de que ocurra un evento en un contexto específico**.\n",
    "\n",
    "Su formulación básica se define, dado un evento $E$, como:\n",
    "\n",
    "$$\\mathbb{P}(E) = \\frac{\\text{n° de casos favorables}}{\\text{n° de casos totales}}$$\n",
    "\n",
    "Notar que, por definición, tenemos que:\n",
    "$$0 \\leq \\mathbb{P}(E) \\leq 1$$"
   ]
  },
  {
   "cell_type": "markdown",
   "metadata": {},
   "source": [
    "Ejemplos:\n",
    "\n",
    "- Consideremos una **moneda** ideal, la cual cuenta con una cara y un sello\n",
    "\n",
    "    <div style=\"text-align: center;\">\n",
    "        <img src=\"https://www.minutod.com/u/fotografias/m/2024/5/27/f768x1-122643_122770_5050.jpg\" alt=\"Alt text\" width=\"200\">\n",
    "    </div>\n",
    "    \n",
    "    La probabilidad de obtener un **sello** al lanzar la moneda está dada por:\n",
    "\n",
    "$$\\mathbb{P}(\\text{sello}) = \\frac{1}{2}$$\n",
    "\n",
    "- Consideremos un **dado** ideal, el cual cuenta con 6 caras\n",
    "\n",
    "    <div style=\"text-align: center;\">\n",
    "        <img src=\"https://www.soyvisual.org/sites/default/files/styles/twitter_card/public/images/photos/jue_0018.jpg?itok=4YFq5Aar\" alt=\"Alt text\" width=\"150\">\n",
    "    </div>\n",
    "\n",
    "    La probabilidad de obtener el número 4 está dada por:\n",
    "\n",
    "$$\\mathbb{P}(\\text{obtener 4}) = \\frac{1}{6}$$\n",
    "\n"
   ]
  },
  {
   "cell_type": "markdown",
   "metadata": {},
   "source": [
    "Modelemos el lanzamiento de una moneda!"
   ]
  },
  {
   "cell_type": "code",
   "execution_count": null,
   "metadata": {},
   "outputs": [],
   "source": [
    "moneda = ['cara', 'sello']\n",
    "\n",
    "# n lanzamientos\n",
    "n = 8\n",
    "\n",
    "# np_rand.seed(seed)  # descomente esta línea para fijar la semilla\n",
    "\n",
    "# generamos n lanzamientos de una moneda\n",
    "lanzamientos = np_rand.choice(moneda, size=n)\n",
    "print(lanzamientos)\n",
    "\n",
    "# conteo de caras y sellos\n",
    "sellos = 0\n",
    "caras = 0\n",
    "\n",
    "for lanzamiento in lanzamientos:\n",
    "    if lanzamiento == 'cara':\n",
    "        caras += 1\n",
    "    else:\n",
    "        sellos += 1\n",
    "\n",
    "print(\"Caras:\", caras)\n",
    "print(\"Sellos:\", sellos)\n",
    "print(\"Total:\", caras + sellos)  # notar que caras + sellos = n\n",
    "\n",
    "print(\"Probabilidad de cara:\", caras / n)\n",
    "print(\"Probabilidad de sello:\", sellos / n)"
   ]
  },
  {
   "cell_type": "markdown",
   "metadata": {},
   "source": [
    "### <font color=yellow> Análisis </font>\n",
    "\n",
    "1. Sin fijar una semilla, ejecute varias veces la celda anterior\n",
    "    - ¿Qué pasa con la probabilidad de obtener sello? ¿y con la probabilidad de obtener cara? ¿Es igual a $1/2$?\n",
    "    - ¿Qué pasa si suma ambas probabilidades?\n",
    "\n",
    "2. Ahora fije una semilla y analice, en la misma celda, qué pasa cuando la cantidad de lanzamientos es muy grande\n",
    "\n",
    "3. En la librería `utils.py`, que ya se encuentra importada, hay una función llamada `grafico_barras`. Úsela en la celda siguiente para generar un gráfico de barras de nuestro experimento cuando $n$ es grande"
   ]
  },
  {
   "cell_type": "code",
   "execution_count": null,
   "metadata": {},
   "outputs": [],
   "source": [
    "# su código va aquí\n",
    "\n",
    "# help(grafico_barras)  # descomente esta línea para ver el docstring"
   ]
  },
  {
   "cell_type": "markdown",
   "metadata": {},
   "source": [
    "<!-- A medida que el número de lanzamientos se vuelve grande, la frecuencia de los resultados tiende a acercarse a la probabilidad teórica. Esto se conoce como la **Ley de los Grandes Números**. -->"
   ]
  },
  {
   "cell_type": "markdown",
   "metadata": {},
   "source": [
    "### <font color=yellow> Actividad </font>\n",
    "\n",
    "Modele un dado de 6 caras siguiendo los mismos pasos que realizamos con la moneda"
   ]
  },
  {
   "cell_type": "code",
   "execution_count": null,
   "metadata": {},
   "outputs": [],
   "source": [
    "# su código va acá\n",
    "\n",
    "dado = None # ¿qué va deberíamos colocar acá?"
   ]
  }
 ],
 "metadata": {
  "kernelspec": {
   "display_name": ".venv",
   "language": "python",
   "name": "python3"
  },
  "language_info": {
   "codemirror_mode": {
    "name": "ipython",
    "version": 3
   },
   "file_extension": ".py",
   "mimetype": "text/x-python",
   "name": "python",
   "nbconvert_exporter": "python",
   "pygments_lexer": "ipython3",
   "version": "3.9.19"
  }
 },
 "nbformat": 4,
 "nbformat_minor": 2
}

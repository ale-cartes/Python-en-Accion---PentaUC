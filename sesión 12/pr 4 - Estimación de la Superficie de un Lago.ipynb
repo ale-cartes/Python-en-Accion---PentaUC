{
 "cells": [
  {
   "cell_type": "markdown",
   "metadata": {},
   "source": [
    "<div style=\"display: flex; justify-content: space-between; align-items: center;\">\n",
    "    <div style=\"display: flex; flex-direction: column;\">\n",
    "        <h1>Evaluación Final\n",
    "            <a href=\"https://colab.research.google.com/github/ale-cartes/Python-en-Accion---PentaUC/blob/main/sesión 12/pr 4 - Estimación de la Superficie de un Lago.ipynb\" target=\"_parent\">\n",
    "                <img src=\"https://colab.research.google.com/assets/colab-badge.svg\" alt=\"Open In Colab\"/>\n",
    "            </a>\n",
    "        </h1>\n",
    "    </div>\n",
    "    <h3 style=\"margin: 0; white-space: nowrap;\">\n",
    "        <p>Prof.: Alejandro Cartes</p>\n",
    "        <p>Ayud.: Constanza Toro</p>\n",
    "    </h3>\n",
    "    <img src=\"https://academiadetalentos.uc.cl/wp-content/uploads/2024/01/cropped-ACADEMIA-TALENTOS-UC_02.png\" height=\"75px\">\n",
    "</div>\n",
    "\n",
    "---"
   ]
  },
  {
   "cell_type": "markdown",
   "metadata": {},
   "source": [
    "## **Proyecto 4:** Estimación de la Superficie de un Lago\n",
    "\n",
    "**Nombres**: (para editar, dar doble click al texto)\n",
    "- Estudiante 1\n",
    "- Estudiante 2\n",
    "- Estudiante 3"
   ]
  },
  {
   "cell_type": "code",
   "execution_count": 1,
   "metadata": {},
   "outputs": [],
   "source": [
    "# script para descargar el archivo utils.py\n",
    "import os\n",
    "if not os.path.isfile(\"utils.py\"):\n",
    "    link = (\"https://raw.githubusercontent.com/ale-cartes/\"\n",
    "            \"Python-en-Accion---PentaUC/refs/heads/main/utils.py\")\n",
    "    os.system(f\"wget {link}\")"
   ]
  },
  {
   "cell_type": "code",
   "execution_count": 2,
   "metadata": {},
   "outputs": [],
   "source": [
    "# importe las librerías necesarias\n",
    "# ..."
   ]
  },
  {
   "cell_type": "markdown",
   "metadata": {},
   "source": [
    "El instituto Geográfico Militar le pide determinar la superficie que abarca el lago Titirilquén. Para ello, le facilita toda la información geométrica de este lago."
   ]
  },
  {
   "cell_type": "markdown",
   "metadata": {},
   "source": [
    "1. En el archivo `utils.py` se encuentra la función `lago_simulador`. Al llamar esta función, retorna los siguientes valores en el siguiente orden:\n",
    "    - $x_{lago}$: coordenada $x$ de los bordes del lago en km\n",
    "    - $y_{lago}$: coordenada $y$ de los bordes del lago en km\n",
    "    - $\\text{params}_{lago}$: una lista con parámetros del lago\n",
    "\n",
    "    Con estos datos, grafique el lago."
   ]
  },
  {
   "cell_type": "code",
   "execution_count": 3,
   "metadata": {},
   "outputs": [],
   "source": [
    "# su código va aquí\n",
    "# help(lago_simulador)  # descomentar para ver el docstring"
   ]
  },
  {
   "cell_type": "markdown",
   "metadata": {},
   "source": [
    "2. Determine la región con la cual encerrará el lago. Grafíquela con la función `plot_rectangulo` de `utils.py`.\n",
    "\n",
    "    Además, determine el área de esta figura, almacenándola en la variable `area_rect`"
   ]
  },
  {
   "cell_type": "code",
   "execution_count": null,
   "metadata": {},
   "outputs": [],
   "source": [
    "# su código va aquí\n",
    "# help(plot_rectangulo)  # descomentar para ver el docstring"
   ]
  },
  {
   "cell_type": "markdown",
   "metadata": {},
   "source": [
    "3. Genere $100.000$ puntos aleatorios uniformemente distribuidos dentro de la figura que encierra al lago.\n",
    "\n",
    "    En `utils.py` está implementada la función `dentro_del_lago` que recibe los siguientes parámetros:\n",
    "    - $x$: coordenada $x$ de un punto\n",
    "    - $y$: coordenada $y$ de un punto\n",
    "    - $\\text{datos}_{lago}$: lista de parámetros del lago\n",
    "\n",
    "    Esta función determina si el punto $(x, y)$ se encuentra dentro del lago o no, retornando `True` o `False` respectivamente. Use esta función para **contar cuántos puntos aleatorios cayeron dentro del lago**, almacene este valor en la variable `n_dentro`\n",
    "\n",
    "    **Nota 1**: recuerde fijar una semilla para asegurar reproducibilidad\n",
    "    \n",
    "    **Nota 2**: para realizar el conteo, considere utilizar `for i in range(n)`\n",
    "\n",
    "    **Nota 3**: puede graficar los puntos aleatorios sobre su gráfico del lago para tener una intuición de cómo los puntos utilizados están cubriendo la figura"
   ]
  },
  {
   "cell_type": "code",
   "execution_count": 5,
   "metadata": {},
   "outputs": [],
   "source": [
    "# su código va aquí\n",
    "# help(dentro_del_lago)  # descomentar para ver el docstring"
   ]
  },
  {
   "cell_type": "markdown",
   "metadata": {},
   "source": [
    "4. Usando las variables `n_dentro` y `area_rect`, estime la superficie del lago.\n",
    "\n",
    "    Presente sus resultado con un `print`"
   ]
  },
  {
   "cell_type": "code",
   "execution_count": 6,
   "metadata": {},
   "outputs": [],
   "source": [
    "# su código va aquí"
   ]
  },
  {
   "cell_type": "markdown",
   "metadata": {},
   "source": [
    "5. Resuma los pasos seguidos en una sola función llamada `area_lago` que reciba como parámetros:\n",
    "    - `n`: el número de puntos aleatorios\n",
    "    - `param_lago`: lista de parámetros del lago\n",
    "    - `seed`: la semilla para la generación de números aleatorios\n",
    "\n",
    "    Esta función debe retornar el área del lago dado los parámetros entregados\n",
    "\n",
    "    Evalúe 5 semillas distintas y muestre los resultados utilizando `print`"
   ]
  },
  {
   "cell_type": "code",
   "execution_count": 7,
   "metadata": {},
   "outputs": [],
   "source": [
    "# su código va aquí"
   ]
  },
  {
   "cell_type": "markdown",
   "metadata": {},
   "source": [
    "## Preguntas conceptuales\n",
    "\n",
    "1. ¿Qué método utilizó? ¿Puede implementar las Sumas de Riemann para este problema?\n",
    "    \n",
    "    **Resp.:**\n",
    "\n",
    "2. ¿Qué sucede con su estimación si cambia la semilla? De cambiar, ¿es muy grande el cambio?\n",
    "\n",
    "    **Resp.:**\n",
    "\n",
    "3. ¿Qué haría para mejorar su estimación?\n",
    "\n",
    "    **Resp.:**"
   ]
  }
 ],
 "metadata": {
  "kernelspec": {
   "display_name": ".venv",
   "language": "python",
   "name": "python3"
  },
  "language_info": {
   "codemirror_mode": {
    "name": "ipython",
    "version": 3
   },
   "file_extension": ".py",
   "mimetype": "text/x-python",
   "name": "python",
   "nbconvert_exporter": "python",
   "pygments_lexer": "ipython3",
   "version": "3.9.19"
  }
 },
 "nbformat": 4,
 "nbformat_minor": 2
}

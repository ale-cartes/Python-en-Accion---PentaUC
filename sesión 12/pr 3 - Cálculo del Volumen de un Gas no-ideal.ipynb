{
 "cells": [
  {
   "cell_type": "markdown",
   "metadata": {},
   "source": [
    "<div style=\"display: flex; justify-content: space-between; align-items: center;\">\n",
    "    <div style=\"display: flex; flex-direction: column;\">\n",
    "        <h1>Evaluación Final\n",
    "            <!-- <a href=\"https://colab.research.google.com/github/ale-cartes/Python-en-Accion---PentaUC/blob/main/sesión 6/evaluación_intermedia.ipynb\" target=\"_parent\">\n",
    "                <img src=\"https://colab.research.google.com/assets/colab-badge.svg\" alt=\"Open In Colab\"/>\n",
    "            </a> -->\n",
    "        </h1>\n",
    "    </div>\n",
    "    <h3 style=\"margin: 0; white-space: nowrap;\">\n",
    "        <p>Prof.: Alejandro Cartes</p>\n",
    "        <p>Ayud.: Constanza Toro</p>\n",
    "    </h3>\n",
    "    <img src=\"https://academiadetalentos.uc.cl/wp-content/uploads/2024/01/cropped-ACADEMIA-TALENTOS-UC_02.png\" height=\"75px\">\n",
    "</div>\n",
    "\n",
    "---"
   ]
  },
  {
   "cell_type": "markdown",
   "metadata": {},
   "source": [
    "## **Proyecto 3:** Cálculo del Volumen de un Gas no-ideal\n",
    "\n",
    "**Nombres**: (para editar, dar doble click al texto)\n",
    "- Estudiante 1\n",
    "- Estudiante 2\n",
    "- Estudiante 3"
   ]
  },
  {
   "cell_type": "code",
   "execution_count": 1,
   "metadata": {},
   "outputs": [],
   "source": [
    "# script para descargar el archivo utils.py\n",
    "import os\n",
    "if not os.path.isfile(\"utils.py\"):\n",
    "    link = (\"https://raw.githubusercontent.com/ale-cartes/\"\n",
    "            \"Python-en-Accion---PentaUC/refs/heads/main/utils.py\")\n",
    "    os.system(f\"wget {link}\")"
   ]
  },
  {
   "cell_type": "code",
   "execution_count": 2,
   "metadata": {},
   "outputs": [],
   "source": [
    "# importe las librerías necesarias\n",
    "# ..."
   ]
  },
  {
   "cell_type": "markdown",
   "metadata": {},
   "source": [
    "La relación entre la presión y el volumen de un **gas ideal** está descrita por la **Ley de Gases Ideales**\n",
    "\n",
    "$$ P V = R T n$$ \n",
    "\n",
    "Donde:\n",
    "- $P$: es la presión del gas\n",
    "- $V$: es el volumen del gas\n",
    "- $T$: es la temperatura del gas\n",
    "- $R$: es la constante de gases ideales\n",
    "- $n$: es la cantidad de materia de gas\n",
    "\n",
    "Sin embargo, si se busca realizar mediciones más precisas de alguna de estas cantidades, esta ecuación puede no ser suficiente. La Ley de Gases Ideales no considera fuerzas intermoleculares ni el espacio ocupado por las mismas partículas del gas, lo que limita su aplicabilidad bajo ciertas condiciones.\n",
    "\n",
    "Para solucionar estas limitaciones, podemos utilizar la **ecuación de Van der Waals**, que introduce correcciones a la ecuación anterior:\n",
    "\n",
    "$$ \\left(P + \\frac{n^2 a}{V^2}\\right)\\left(V-nb\\right) = R T n$$\n",
    "\n",
    "Donde:\n",
    "- $a$, $b$: constantes específicas del gas que se estudia\n",
    "    - $a$: medida de la atracción entre partículas\n",
    "    - $b$: volumen excluido por cada partícula"
   ]
  },
  {
   "cell_type": "markdown",
   "metadata": {},
   "source": [
    "En esta actividad estudiaremos el impacto de estas correcciones considerando Dióxido de Carbono $CO_2$ y Oxígeno $O_2$. Para ello seguiremos los siguientes pasos:\n",
    "\n",
    "1. Considerando los siguientes valores:\n",
    "\n",
    "    - $n = 1 \\, [\\text{mol}]$ \n",
    "    - $P = 1 \\, [\\text{atm}]$\n",
    "    - $R = 0.08205746 \\, [\\text{atm} \\cdot L / \\text{mol} \\cdot K]$\n",
    "    - $T = 300 \\, [K]$\n",
    "\n",
    "    - $CO_2$:\n",
    "        - $a = 3.592 \\, [L^2 \\cdot \\text{atm} / \\text{mol}^2]$\n",
    "        - $b = 0.04267 \\, [L / \\text{mol}]$\n",
    "\n",
    "    - $O_2$:\n",
    "        - $a = 1.360 \\, [L^2 \\cdot \\text{atm} / \\text{mol}^2]$\n",
    "        - $b = 0.03186 \\, [L / \\text{mol}]$\n",
    "\n",
    "    Construya la función:\n",
    "    $$f(V) = \\left(P + \\frac{n^2 a}{V^2}\\right)\\left(V-nb\\right) - R T n$$\n",
    "\n",
    "    Y luego grafíquela para verificar que exista un cambio de signo.\n",
    "\n",
    "    **Nota**: Note que el volumen es una cantidad definida positiva, i.e, $V>=0$"
   ]
  },
  {
   "cell_type": "code",
   "execution_count": 3,
   "metadata": {},
   "outputs": [],
   "source": [
    "# su código va aquí\n",
    "# CO2"
   ]
  },
  {
   "cell_type": "code",
   "execution_count": 4,
   "metadata": {},
   "outputs": [],
   "source": [
    "# su código va aquí\t\n",
    "# O2"
   ]
  },
  {
   "cell_type": "markdown",
   "metadata": {},
   "source": [
    "2. Determine de forma numérica el volumen del $CO_2$ y $O_2$. Compárelo con el volumen que se obtiene al utilizar la Ley de los Gases Ideales\n",
    "\n",
    "    Presente sus resultados con un `print`"
   ]
  },
  {
   "cell_type": "code",
   "execution_count": 5,
   "metadata": {},
   "outputs": [],
   "source": [
    "# su código va aquí\n",
    "# CO2"
   ]
  },
  {
   "cell_type": "code",
   "execution_count": 6,
   "metadata": {},
   "outputs": [],
   "source": [
    "# su código va aquí\n",
    "# O2"
   ]
  },
  {
   "cell_type": "markdown",
   "metadata": {},
   "source": [
    "3. Siguiendo los pasos anteriores, construya una función llamada `volumen_VdW` que reciba los siguientes parámetros:\n",
    "    - `T`: temperatura\n",
    "    - `P`: presión\n",
    "    - `a`: el término $a$ de la ec. de Van der Waals\n",
    "    - `b`: el término $b$ de la ec. de Van der Waals\n",
    "    - `n=1` (variable predefinida): cantidad de materia del gas\n",
    "\n",
    "    Y retorne el volumen del gas"
   ]
  },
  {
   "cell_type": "code",
   "execution_count": 7,
   "metadata": {},
   "outputs": [],
   "source": [
    "# su código va aquí"
   ]
  },
  {
   "cell_type": "markdown",
   "metadata": {},
   "source": [
    "4. Realice un gráfico de Volumen v/s Temperatura para ambos gases. \n",
    "    - Muestre el volumen obtenido mediante la ec. de Van der Waals\n",
    "    - Muestre el volumen obtenido mediante la Ley de Gases Ideales\n",
    "    \n",
    "    Considere:\n",
    "    \\begin{align}\n",
    "        T &\\in [273, 400]\\, K \\\\\n",
    "        P &= 5 \\, [\\text{atm}]\n",
    "    \\end{align}"
   ]
  },
  {
   "cell_type": "code",
   "execution_count": 8,
   "metadata": {},
   "outputs": [],
   "source": [
    "# su código va aquí\t\n",
    "# CO2"
   ]
  },
  {
   "cell_type": "code",
   "execution_count": 9,
   "metadata": {},
   "outputs": [],
   "source": [
    "# su código va aquí \n",
    "# O2"
   ]
  },
  {
   "cell_type": "markdown",
   "metadata": {},
   "source": [
    "## Preguntas conceptuales\n",
    "\n",
    "1. ¿Qué método utilizó? ¿Por qué?\n",
    "    \n",
    "    **Resp.:**\n",
    "\n",
    "2. Considerando el volumen obtenido mediante la ec. de Van der Waals y mediante Ley de Gases Ideales, ¿cuál es mayor? ¿es esperado?\n",
    "\n",
    "    **Resp.:**\n",
    "\n",
    "3. ¿Los volúmnes obtenidos a $P = 1 \\, [\\text{atm}]$ difieren mucho con los valores obtenidos mediante Ley de Gases Ideales? ¿Qué sucede a $P = 5\\, [\\text{atm}]$\n",
    "\n",
    "    **Resp.:**"
   ]
  }
 ],
 "metadata": {
  "kernelspec": {
   "display_name": ".venv",
   "language": "python",
   "name": "python3"
  },
  "language_info": {
   "codemirror_mode": {
    "name": "ipython",
    "version": 3
   },
   "file_extension": ".py",
   "mimetype": "text/x-python",
   "name": "python",
   "nbconvert_exporter": "python",
   "pygments_lexer": "ipython3",
   "version": "3.9.19"
  }
 },
 "nbformat": 4,
 "nbformat_minor": 2
}

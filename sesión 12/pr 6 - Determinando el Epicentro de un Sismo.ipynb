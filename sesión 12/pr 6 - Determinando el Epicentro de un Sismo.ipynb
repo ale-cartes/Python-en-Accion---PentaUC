{
 "cells": [
  {
   "cell_type": "markdown",
   "metadata": {},
   "source": [
    "<div style=\"display: flex; justify-content: space-between; align-items: center;\">\n",
    "    <div style=\"display: flex; flex-direction: column;\">\n",
    "        <h1>Evaluación Final\n",
    "            <a href=\"https://colab.research.google.com/github/ale-cartes/Python-en-Accion---PentaUC/blob/main/sesión 12/pr 6 - Determinando el Epicentro de un Sismo.ipynb\" target=\"_parent\">\n",
    "                <img src=\"https://colab.research.google.com/assets/colab-badge.svg\" alt=\"Open In Colab\"/>\n",
    "            </a>\n",
    "        </h1>\n",
    "    </div>\n",
    "    <h3 style=\"margin: 0; white-space: nowrap;\">\n",
    "        <p>Prof.: Alejandro Cartes</p>\n",
    "        <p>Ayud.: Constanza Toro</p>\n",
    "    </h3>\n",
    "    <img src=\"https://academiadetalentos.uc.cl/wp-content/uploads/2024/01/cropped-ACADEMIA-TALENTOS-UC_02.png\" height=\"75px\">\n",
    "</div>\n",
    "\n",
    "---"
   ]
  },
  {
   "cell_type": "markdown",
   "metadata": {},
   "source": [
    "## **Proyecto 6:** Determinando el Epicentro de un Sismo\n",
    "\n",
    "**Nombres**: (para editar, dar doble click al texto)\n",
    "- Estudiante 1\n",
    "- Estudiante 2\n",
    "- Estudiante 3"
   ]
  },
  {
   "cell_type": "code",
   "execution_count": null,
   "metadata": {},
   "outputs": [],
   "source": [
    "# script para descargar el archivo utils.py\n",
    "import os\n",
    "if not os.path.isfile(\"utils.py\"):\n",
    "    link = (\"https://raw.githubusercontent.com/ale-cartes/\"\n",
    "            \"Python-en-Accion---PentaUC/refs/heads/main/utils.py\")\n",
    "    os.system(f\"wget {link}\")"
   ]
  },
  {
   "cell_type": "code",
   "execution_count": null,
   "metadata": {},
   "outputs": [],
   "source": [
    "# importe las librerías necesarias\n",
    "# ..."
   ]
  },
  {
   "cell_type": "markdown",
   "metadata": {},
   "source": [
    "Un sismo fue detectado por 2 de 3 estaciones sismológicas, en donde la no-detección se debió a fallas. Tras el sismo, se logró determinar cuánto tardó la onda en llegar a cada estación\n",
    "\n",
    "La **ubicación de las estaciones** son:\n",
    "- A: $(-5, 10) \\, [km]$\n",
    "- B: $(15, 5) \\, [km]$\n",
    "\n",
    "El **tiempo de llegada de la onda sísimica a cada estación** fue:\n",
    "\n",
    "- $t_A = 4.74 \\, [s]$\n",
    "- $t_B = 2.69 \\, [s]$\n",
    "\n",
    "Los estudios geofísicos establecieron que la **velocidad de las ondas sísimicas es de $5 \\, [km / s]$**\n",
    "\n",
    "Así, **la distancia entre la estación sismológica correspondiente y el epicentro** está dada por la expresión \n",
    "$$ d = v \\cdot t$$\n",
    "\n",
    "Con esta información, queremos determinar la posición del epicentro del sismo $(x_e, y_e)$"
   ]
  },
  {
   "cell_type": "markdown",
   "metadata": {},
   "source": [
    "1. Grafique la posición de los centros sismológicos $A$ y $B$.\n",
    "\n",
    "    Calcule la distancia entre cada estación sismológica y el epicentro, que llamaremos $d_A$ y $d_B$. Note que la distancia no nos entrega directamente la ubicación del sismo, pues existen infinitos puntos que cumple la condición de estar una distancia $d$ de la estación sismológica: una circunferencia. \n",
    "\n",
    "    Utilice la función `plot_circunferencia` de util.py para graficar todas las posiciones del epicentro para ambas estaciones sismológica\n",
    "\n",
    "    **Nota**: incluya etiquetas para identificar claramente cada estación en el gráfico"
   ]
  },
  {
   "cell_type": "code",
   "execution_count": null,
   "metadata": {},
   "outputs": [],
   "source": [
    "# su código va aquí\n",
    "# help(plot_circunferencia)  # descomentar para ver el docstring"
   ]
  },
  {
   "cell_type": "markdown",
   "metadata": {},
   "source": [
    "2. Por teorema de Pitágoras, tenemos las siguientes relaciones:\n",
    "\n",
    "$$d_A^2 = \\left(x_A - x_e\\right)^2 + \\left(y_A - y_e\\right)^2 \\tag{1}$$ \n",
    "\n",
    "$$d_B^2 = \\left(x_B - x_e\\right)^2 + \\left(y_B - y_e\\right)^2 \\tag{2}$$\n",
    "\n",
    "De la ecuación $(1)$, podemos despejar $y_e$\n",
    "\n",
    "$$y_e = y_A \\pm \\sqrt{d_A^2 - \\left(x_A - x_e\\right)^2} \\tag{3}$$\n",
    "\n",
    "Cree una función llamada simplemente `f` que reciba  un valor $x_e$ y evalué la expresión $(2)$. Reemplace $y_e$ utilizando la solución positiva de la expresión $(3)$:\n",
    "\n",
    "$$f(x_e) = - d_B^2 + \\left(x_B - x_e\\right)^2 + \\left(y_B - y_{e\\,mas}\\right)^2$$\n",
    "\n",
    "Análogamente, cree la función `g` que también calcule la expresión $(2)$, pero utilizando la solución negativa de $y_e$:\n",
    "\n",
    "$$g(x_e) = - d_B^2 + \\left(x_B - x_e\\right)^2 + \\left(y_B - y_{e\\, menos}\\right)^2$$"
   ]
  },
  {
   "cell_type": "code",
   "execution_count": null,
   "metadata": {},
   "outputs": [],
   "source": [
    "# su código va aquí"
   ]
  },
  {
   "cell_type": "markdown",
   "metadata": {},
   "source": [
    "3. Grafique las funciones `f` y `g` para  verificar que exista un cambio de signo."
   ]
  },
  {
   "cell_type": "code",
   "execution_count": null,
   "metadata": {},
   "outputs": [],
   "source": [
    "# su código va aquí"
   ]
  },
  {
   "cell_type": "markdown",
   "metadata": {},
   "source": [
    "4. Usando las funciones `f` y `g`, determine los valores `x_e` que cumplen con la solución $f(x_e)= 0$ y $g(x_e)=0$"
   ]
  },
  {
   "cell_type": "code",
   "execution_count": null,
   "metadata": {},
   "outputs": [],
   "source": [
    "# su código va aquí"
   ]
  },
  {
   "cell_type": "markdown",
   "metadata": {},
   "source": [
    "5. Usando la ecuación $(3)$, determine los $y_e$ correspondientes.\n",
    "\n",
    "    Muestre sus resultados con `print` de los pares $(x_e, y_e)$ encontrados"
   ]
  },
  {
   "cell_type": "code",
   "execution_count": null,
   "metadata": {},
   "outputs": [],
   "source": [
    "# su código va aquí"
   ]
  },
  {
   "cell_type": "markdown",
   "metadata": {},
   "source": [
    "6. Repita el gráfico de la parte (1), pero añadiendo las soluciones encontradas $(x_e, y_e)$"
   ]
  },
  {
   "cell_type": "code",
   "execution_count": null,
   "metadata": {},
   "outputs": [],
   "source": [
    "# su código va aquí"
   ]
  },
  {
   "cell_type": "markdown",
   "metadata": {},
   "source": [
    "## Preguntas conceptuales\n",
    "\n",
    "1. ¿Qué método utilizó? ¿Por qué?\n",
    "    \n",
    "    **Resp.:**\n",
    "\n",
    "2. ¿Qué se necesita para determinar con exactitud el epicentro del sismo? \n",
    "\n",
    "    **Resp.:**"
   ]
  }
 ],
 "metadata": {
  "kernelspec": {
   "display_name": ".venv",
   "language": "python",
   "name": "python3"
  },
  "language_info": {
   "codemirror_mode": {
    "name": "ipython",
    "version": 3
   },
   "file_extension": ".py",
   "mimetype": "text/x-python",
   "name": "python",
   "nbconvert_exporter": "python",
   "pygments_lexer": "ipython3",
   "version": "3.9.19"
  }
 },
 "nbformat": 4,
 "nbformat_minor": 2
}

{
 "cells": [
  {
   "cell_type": "markdown",
   "metadata": {},
   "source": [
    "<div style=\"display: flex; justify-content: space-between; align-items: center;\">\n",
    "    <div style=\"display: flex; flex-direction: column;\">\n",
    "        <h1>Evaluación Final\n",
    "            <a href=\"https://colab.research.google.com/github/ale-cartes/Python-en-Accion---PentaUC/blob/main/sesión 12/pr 1 - Máquina de Galton.ipynb\" target=\"_parent\">\n",
    "                <img src=\"https://colab.research.google.com/assets/colab-badge.svg\" alt=\"Open In Colab\"/>\n",
    "            </a>\n",
    "        </h1>\n",
    "    </div>\n",
    "    <h3 style=\"margin: 0; white-space: nowrap;\">\n",
    "        <p>Prof.: Alejandro Cartes</p>\n",
    "        <p>Ayud.: Constanza Toro</p>\n",
    "    </h3>\n",
    "    <img src=\"https://academiadetalentos.uc.cl/wp-content/uploads/2024/01/cropped-ACADEMIA-TALENTOS-UC_02.png\" height=\"75px\">\n",
    "</div>\n",
    "\n",
    "---"
   ]
  },
  {
   "cell_type": "markdown",
   "metadata": {},
   "source": [
    "## **Proyecto 1:** Simulación de la Máquina de Galton\n",
    "\n",
    "**Nombres**: (para editar, dar doble click al texto)\n",
    "- Estudiante 1\n",
    "- Estudiante 2\n",
    "- Estudiante 3"
   ]
  },
  {
   "cell_type": "code",
   "execution_count": 1,
   "metadata": {},
   "outputs": [],
   "source": [
    "# script para descargar el archivo utils.py\n",
    "import os\n",
    "if not os.path.isfile(\"utils.py\"):\n",
    "    link = (\"https://raw.githubusercontent.com/ale-cartes/\"\n",
    "            \"Python-en-Accion---PentaUC/refs/heads/main/utils.py\")\n",
    "    os.system(f\"wget {link}\")"
   ]
  },
  {
   "cell_type": "code",
   "execution_count": null,
   "metadata": {},
   "outputs": [],
   "source": [
    "# importe las librerías necesarias\n",
    "# ..."
   ]
  },
  {
   "cell_type": "markdown",
   "metadata": {},
   "source": [
    "Una **máquina de Galton** es un dispositivo que deja **caer pelotitas a través de un conjunto de clavijas**, donde cada pelotita puede desviarse hacia la izquierda o la derecha con igual probabilidad en cada nivel de clavijas ([video](https://upload.wikimedia.org/wikipedia/commons/d/dc/Galton_box.webm)). Queremos simular este fenómeno usando *Python* y estudiar cómo se distribuyen las pelotitas al pasar por todas las clavijas.\n",
    "\n",
    "**Consideraciones del problema**:\n",
    "   - Habrán **n_pelotas** que caerán a través de un número fijo de **pisos** en la máquina.\n",
    "   - Cada vez que una pelotita pasa por un nivel de clavijas, esta tiene la misma probabilidad de desviarse hacia la **izquierda (paso=$-1$)** o hacia la **derecha (paso=$+1$)**.\n",
    "   - La posición final para cada pelotita será **la suma total de pasos** al llegar al fondo de los pisos.  "
   ]
  },
  {
   "cell_type": "markdown",
   "metadata": {},
   "source": [
    "**Desarrollo**:\n",
    "\n",
    "1. Escriba una función llamada `galton` que reciba tres parámetros:\n",
    "    - `n_pelotas`: la cantidad de pelotitas simuladas.\n",
    "    - `pisos`: el número de pisos que cada pelotita atravesará.\n",
    "    - `seed` (variable predefinida): un valor para fijar la semilla del generador de números aleatorios.\n",
    "    \n",
    "    Esta función debe devolver una **lista con las posiciones finales** de todas las pelotitas simuladas.\n",
    "\n",
    "    <font color=yellow> Ejemplo </font>\n",
    "\n",
    "    Al considerar 3 pelotitas cayendo por 15 niveles de clavijas:\n",
    "    ```python\n",
    "    >>> experimento = galton(3, 15, seed=42)\n",
    "    >>> experimento\n",
    "    [-7, 9, -1]\n",
    "    ```\n",
    "\n",
    "    El resultado nos dice que:\n",
    "    - la primera pelotita cayó en la posición -7\n",
    "    - la segunda pelotita cayó en la posición 9\n",
    "    - la tercera pelotita cayó en la posición -1\n"
   ]
  },
  {
   "cell_type": "markdown",
   "metadata": {},
   "source": [
    "**Hint** Parte 1:\n",
    "- Use la función `.choice` de la librería `random` de numpy para generar el desplazamiento en cada piso.\n",
    "    - Para que sea más eficiente, considere usar el parámetro `size`"
   ]
  },
  {
   "cell_type": "code",
   "execution_count": 2,
   "metadata": {},
   "outputs": [],
   "source": [
    "# su código va aquí\n",
    "\n",
    "# def galton(n_pelotas, pisos, seed=...):  # descomente y complete la función"
   ]
  },
  {
   "cell_type": "markdown",
   "metadata": {},
   "source": [
    "2. Cree la variable `experimento` que almacene la lista entregada por su función considerando $25.000$ pelotitas y $15$ pisos\n",
    "\n",
    "    Use la función `grafico_barras` de utils.py para generar un gráfico de barras que muestre la distribución de las posiciones finales de las pelotitas.\n"
   ]
  },
  {
   "cell_type": "code",
   "execution_count": 3,
   "metadata": {},
   "outputs": [],
   "source": [
    "# su código va aquí\n",
    "\n",
    "# experimento = galton(..., ...)  # descomente y complete los puntos suspensivos\n",
    "\n",
    "# grafico_barras(...)  # descomente y complete los puntos suspensivos"
   ]
  },
  {
   "cell_type": "markdown",
   "metadata": {},
   "source": [
    "3. Usando la variable `experimento` definida en la parte anterior, determine:\n",
    "    - El número de posiciones finales mayores a 0 y menores a 0\n",
    "    - Las probabilidades de que una pelotita termine en cada una de estas dos categorías.\n",
    "\n",
    "    Presente sus resultados usando `print`"
   ]
  },
  {
   "cell_type": "code",
   "execution_count": 4,
   "metadata": {},
   "outputs": [],
   "source": [
    "# su código va aquí"
   ]
  },
  {
   "cell_type": "markdown",
   "metadata": {},
   "source": [
    "## Preguntas conceptuales\n",
    "\n",
    "1. ¿Qué efecto tendría aumentar el número de pisos (`pisos`) en la forma del gráfico de barras? ¿Y qué pasaría si aumentamos la cantidad de pelotas (`n_pelotas`)?\n",
    "\n",
    "    **Resp:**\n",
    "\n",
    "2. ¿Por qué es importante fijar una semilla (seed) en simulaciones como esta? ¿Qué pasaría si no la fijamos?\n",
    "\n",
    "    **Resp:**\n",
    "\n",
    "4. ¿Qué es más probable: que una pelotita termine en una posición final negativa o positiva?\n",
    "\n",
    "    **Resp:**\n",
    "\n",
    "3. ¿Cómo cambia el comportamiento si en lugar de usar -1 y 1 como pasos posibles, usamos otros valores? ¿Qué efecto tendría usar pasos desbalanceados (por ejemplo, $-2$ y $+1$)?\n",
    "\n",
    "    **Resp:**"
   ]
  }
 ],
 "metadata": {
  "kernelspec": {
   "display_name": ".venv",
   "language": "python",
   "name": "python3"
  },
  "language_info": {
   "codemirror_mode": {
    "name": "ipython",
    "version": 3
   },
   "file_extension": ".py",
   "mimetype": "text/x-python",
   "name": "python",
   "nbconvert_exporter": "python",
   "pygments_lexer": "ipython3",
   "version": "3.9.19"
  }
 },
 "nbformat": 4,
 "nbformat_minor": 2
}

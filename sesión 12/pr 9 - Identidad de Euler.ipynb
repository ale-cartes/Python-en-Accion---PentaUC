{
 "cells": [
  {
   "cell_type": "markdown",
   "metadata": {},
   "source": [
    "<div style=\"display: flex; justify-content: space-between; align-items: center;\">\n",
    "    <div style=\"display: flex; flex-direction: column;\">\n",
    "        <h1>Evaluación Final\n",
    "            <a href=\"https://colab.research.google.com/github/ale-cartes/Python-en-Accion---PentaUC/blob/main/sesión 12/pr 9 - Identidad de Euler.ipynb\" target=\"_parent\">\n",
    "                <img src=\"https://colab.research.google.com/assets/colab-badge.svg\" alt=\"Open In Colab\"/>\n",
    "            </a>\n",
    "        </h1>\n",
    "    </div>\n",
    "    <h3 style=\"margin: 0; white-space: nowrap;\">\n",
    "        <p>Prof.: Alejandro Cartes</p>\n",
    "        <p>Ayud.: Constanza Toro</p>\n",
    "    </h3>\n",
    "    <img src=\"https://academiadetalentos.uc.cl/wp-content/uploads/2024/01/cropped-ACADEMIA-TALENTOS-UC_02.png\" height=\"75px\">\n",
    "</div>\n",
    "\n",
    "---"
   ]
  },
  {
   "cell_type": "markdown",
   "metadata": {},
   "source": [
    "## **Proyecto 9:** Explorando la identidad de Euler\n",
    "\n",
    "**Nombres**: (para editar, dar doble click al texto)\n",
    "- Estudiante 1\n",
    "- Estudiante 2\n",
    "- Estudiante 3"
   ]
  },
  {
   "cell_type": "code",
   "execution_count": 1,
   "metadata": {},
   "outputs": [],
   "source": [
    "# script para descargar el archivo utils.py\n",
    "import os\n",
    "if not os.path.isfile(\"utils.py\"):\n",
    "    link = (\"https://raw.githubusercontent.com/ale-cartes/\"\n",
    "            \"Python-en-Accion---PentaUC/refs/heads/main/utils.py\")\n",
    "    os.system(f\"wget {link}\")"
   ]
  },
  {
   "cell_type": "code",
   "execution_count": 2,
   "metadata": {},
   "outputs": [],
   "source": [
    "# importe las librerías necesarias\n",
    "# ..."
   ]
  },
  {
   "cell_type": "markdown",
   "metadata": {},
   "source": [
    "La identidad de Euler \n",
    "$$ e^{i \\pi} + 1 = 0$$\n",
    "es considerada una de las ecuaciones más bonitas de las matemáticas, pues vincula 5 constantes fundamentales que provienen de diferentes contextos en una sola ecuación.\n",
    "\n",
    "- $e$: el número de Euler\n",
    "- $\\pi$: el número irracional que relaciona la circunfrencia con su diámetro\n",
    "- $1$ y $0$: elemento neutro multiplicativo y aditivo, respectivamente. Elementos básicos de la aritmética\n",
    "\n",
    "Probablemente no conozca al número $i$. Este número abre un nuevo conjunto de números denominados Complejos $\\mathbb{C}$, que vienen a extender a los números Reales $\\mathbb{R}$. El número $i$ es un número que cumple la condición: $$i^2 = -1$$ denominándose así *unidad imaginaria*, pues no existe un número real que cumpla tal condición.\n",
    "\n",
    "En esta actividad demostraremos de forma numérica esta identidad"
   ]
  },
  {
   "cell_type": "markdown",
   "metadata": {},
   "source": [
    "1. Una definición de la función exponencial $e^x$ es:\n",
    "\n",
    "    $$ e^x = \\lim_{n \\rightarrow \\infty} \\left(1 + \\frac{x}{n}\\right)^n$$\n",
    "\n",
    "    Cree una función llamada `exponencial` que reciba:\n",
    "    - `x`: un número a evaluar\n",
    "    - `n`: el término $n$ de la definición de exponencial\n",
    "\n",
    "    Y retorne el valor evaluado en la expresión"
   ]
  },
  {
   "cell_type": "code",
   "execution_count": 3,
   "metadata": {},
   "outputs": [],
   "source": [
    "# su código va aquí"
   ]
  },
  {
   "cell_type": "markdown",
   "metadata": {},
   "source": [
    "2. Un número complejo se puede generalizar de la siguiente forma\n",
    "$$ z = a + ib$$\n",
    "\n",
    "Donde $a, b \\in \\mathbb{R}$.\n",
    "\n",
    "- $a$ se denomina la **parte real** de $z$ $\\left(Re(z)\\right)$\n",
    "- $b$ se denomina la **parte imaginaria** de $z$ $\\left(Im(z)\\right)$\n",
    "\n",
    "\n",
    "La unidad imaginaria en *Python* está representado con la letra $j$:\n",
    "\n",
    "```python\n",
    "i = 1j\n",
    "```\n",
    "\n",
    "Presente con `print` la **parte real** e **imaginaria** de los siguientes números complejos:\n",
    "\n",
    "$$ z=i ,\\quad z=i^2 ,\\quad z=i^3 ,\\quad z=i^4 ,\\quad z = i^i ,\\quad z=\\left(\\frac{1}{\\sqrt{2}} + i \\frac{1}{\\sqrt{2}}\\right)^{i}$$\n",
    "\n",
    "Para ello use la instrucción `.real` e `.imag` de un número complejo de Python"
   ]
  },
  {
   "cell_type": "code",
   "execution_count": 4,
   "metadata": {},
   "outputs": [],
   "source": [
    "# su código va aquí"
   ]
  },
  {
   "cell_type": "markdown",
   "metadata": {},
   "source": [
    "3. El plano complejo es un plano en donde:\n",
    "- eje $x$: se ubican las **partes reales**\n",
    "- eje $y$: se ubican las **partes imaginarias**\n",
    "\n",
    "Graficaremos $z = e^{i\\pi} + 1$ en función de $n$ de nuestra definición.\n",
    "\n",
    "Para ello realice una iteración del estilo `for n in range(...)` en la cual calcule de forma numérica el número $z$. Utilice su implementación de la función exponencial y almacene las partes reales e imaginarias para graficarlas\n",
    "\n",
    "Puede serle útil el parámetro `alpha=0.5` de `plt.plot`"
   ]
  },
  {
   "cell_type": "code",
   "execution_count": 5,
   "metadata": {},
   "outputs": [],
   "source": [
    "# su código va aquí"
   ]
  },
  {
   "cell_type": "markdown",
   "metadata": {},
   "source": [
    "4. En una de las sesiones vimos que una definición de la exponencial es:\n",
    "\n",
    "$$ e^x = 1 + x + \\frac{x^2}{2!} + \\dots + \\frac{x^n}{n!} + \\dots = \\sum_{n=0}^\\infty \\frac{x^n}{n!}$$\n",
    "\n",
    "Usaremos esta expresión para comprobar el comportamiento obtenido en el gráfico anterior.\n",
    "\n",
    "Para ello realice los mismos pasos, pero en vez de usar su implementación, utilice la función `exponencial_taylor` que se encuentra implementada en utils.py"
   ]
  },
  {
   "cell_type": "code",
   "execution_count": 6,
   "metadata": {},
   "outputs": [],
   "source": [
    "# su código va aquí\n",
    "# help(exponencial_taylor)"
   ]
  },
  {
   "cell_type": "markdown",
   "metadata": {},
   "source": [
    "## Preguntas conceptuales\n",
    "\n",
    "1. ¿Qué puede decir cuando $n$ es grande? ¿A qué converge la expresión? Concluya\n",
    "    \n",
    "    **Resp.:**"
   ]
  }
 ],
 "metadata": {
  "kernelspec": {
   "display_name": ".venv",
   "language": "python",
   "name": "python3"
  },
  "language_info": {
   "codemirror_mode": {
    "name": "ipython",
    "version": 3
   },
   "file_extension": ".py",
   "mimetype": "text/x-python",
   "name": "python",
   "nbconvert_exporter": "python",
   "pygments_lexer": "ipython3",
   "version": "3.9.19"
  }
 },
 "nbformat": 4,
 "nbformat_minor": 2
}

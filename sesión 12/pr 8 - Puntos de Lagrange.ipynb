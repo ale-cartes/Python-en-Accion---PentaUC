{
 "cells": [
  {
   "cell_type": "markdown",
   "metadata": {},
   "source": [
    "<div style=\"display: flex; justify-content: space-between; align-items: center;\">\n",
    "    <div style=\"display: flex; flex-direction: column;\">\n",
    "        <h1>Evaluación Final\n",
    "            <a href=\"https://colab.research.google.com/github/ale-cartes/Python-en-Accion---PentaUC/blob/main/sesión 12/pr 8 - Puntos de Lagrange.ipynb\" target=\"_parent\">\n",
    "                <img src=\"https://colab.research.google.com/assets/colab-badge.svg\" alt=\"Open In Colab\"/>\n",
    "            </a>\n",
    "        </h1>\n",
    "    </div>\n",
    "    <h3 style=\"margin: 0; white-space: nowrap;\">\n",
    "        <p>Prof.: Alejandro Cartes</p>\n",
    "        <p>Ayud.: Constanza Toro</p>\n",
    "    </h3>\n",
    "    <img src=\"https://academiadetalentos.uc.cl/wp-content/uploads/2024/01/cropped-ACADEMIA-TALENTOS-UC_02.png\" height=\"75px\">\n",
    "</div>\n",
    "\n",
    "---"
   ]
  },
  {
   "cell_type": "markdown",
   "metadata": {},
   "source": [
    "## **Proyecto 8:** Puntos de Lagrange Tierra-Luna\n",
    "\n",
    "**Nombres**: (para editar, dar doble click al texto)\n",
    "- Estudiante 1\n",
    "- Estudiante 2\n",
    "- Estudiante 3"
   ]
  },
  {
   "cell_type": "code",
   "execution_count": null,
   "metadata": {},
   "outputs": [],
   "source": [
    "# script para descargar el archivo utils.py\n",
    "import os\n",
    "if not os.path.isfile(\"utils.py\"):\n",
    "    link = (\"https://raw.githubusercontent.com/ale-cartes/\"\n",
    "            \"Python-en-Accion---PentaUC/refs/heads/main/utils.py\")\n",
    "    os.system(f\"wget {link}\")"
   ]
  },
  {
   "cell_type": "code",
   "execution_count": null,
   "metadata": {},
   "outputs": [],
   "source": [
    "# importe las librerías necesarias\n",
    "# ..."
   ]
  },
  {
   "cell_type": "markdown",
   "metadata": {},
   "source": [
    "Los puntos de Lagrange entre la Tierra y la Luna son puntos en los cuales la fuerza gravitacional ejercidos por ambos cuerpos logra un balance que mantiene a un satélite en órbita sincrónica con la Tierra.\n",
    "\n",
    "<img src=\"https://i.sstatic.net/nMgWM.jpg\" height=\"300px\">\n",
    "\n",
    "**Asumiento que la órbita es circular y que $\\mathbf{m_{sat} << m_{Luna} << M_{Tierra}}$**, se pueden encontrar la siguiente expresiones\n",
    "\n",
    "$$\\text{L1} \\quad -\\frac{G M_{Tierra}}{r^2} + \\frac{G m_{Luna}}{(R-r)^2} = -\\omega^2 r$$\n",
    "$$\\text{L2} \\quad -\\frac{G M_{Tierra}}{r^2} - \\frac{G m_{Luna}}{(r-R)^2} = -\\omega^2 r$$\n",
    "$$\\text{L3} \\quad -\\frac{G M_{Tierra}}{r^2} - \\frac{G m_{Luna}}{(r+R)^2} = -\\omega^2 r$$\n",
    "\n",
    "Donde\n",
    "- $G = 6.674 \\cdot 10^{-11} [N m^2 / kg^2]$ es la cte. de Gravitación Universal\n",
    "- $M_{Tierra} = 5.972 \\cdot 10^{24} [kg]$\n",
    "- $m_{Luna} = 7.346 \\cdot 10^{22} [kg]$\n",
    "- $R = 3.844 \\cdot 10^{8} [m]$  es la distancia Tierra-Luna\n",
    "- $\\omega = \\sqrt{G \\cdot M_{Tierra} / R^3}$  es la velocidad angular de la Tierra y del satélite\n",
    "- $r$ es la distancia desde la Tierra hasta el punto de Lagrange\n"
   ]
  },
  {
   "cell_type": "markdown",
   "metadata": {},
   "source": [
    "1. Cree las variables correspondientes y construya las funciones `lagrange_1`, `lagrange_2` y `lagrange_3` que reciban como parámetro $r$ y calcule, correspondientemente, la función \n",
    "$$ f(r) = -\\frac{G M_{Tierra}}{r^2} \\pm \\frac{G m_{Luna}}{(R\\pm r)^2} + \\omega^2 r$$ \n",
    "\n"
   ]
  },
  {
   "cell_type": "code",
   "execution_count": null,
   "metadata": {},
   "outputs": [],
   "source": [
    "# su código va aquí"
   ]
  },
  {
   "cell_type": "markdown",
   "metadata": {},
   "source": [
    "2. Para asegurarnos que haya un cambio de signo, grafique sus funciones.\n",
    "\n",
    "    **Nota**: Utilice la función `.ylim(-0.1, 0.1)` de matplotlib"
   ]
  },
  {
   "cell_type": "code",
   "execution_count": null,
   "metadata": {},
   "outputs": [],
   "source": [
    "# su código va aquí\n",
    "# lagrange_1"
   ]
  },
  {
   "cell_type": "code",
   "execution_count": null,
   "metadata": {},
   "outputs": [],
   "source": [
    "# su código va aquí\n",
    "# lagrange_2"
   ]
  },
  {
   "cell_type": "code",
   "execution_count": null,
   "metadata": {},
   "outputs": [],
   "source": [
    "# su código va aquí\n",
    "# lagrange_3"
   ]
  },
  {
   "cell_type": "markdown",
   "metadata": {},
   "source": [
    "3. Determine de forma numérica $f(r)=0$ para cada una de estas funciones. Almacene sus resultados en las variables `r_l1`, `r_l2` y `r_l3`, respectivamente.\n",
    "\n",
    "    Presente sus valores con `print`. Para que sea más fácil de interpretar, utilice: `print(f\"{r_l1 / 1000:,}\")`, que nos presentará el valor en kilómetros"
   ]
  },
  {
   "cell_type": "code",
   "execution_count": null,
   "metadata": {},
   "outputs": [],
   "source": [
    "# su código va aquí"
   ]
  },
  {
   "cell_type": "markdown",
   "metadata": {},
   "source": [
    "4. Grafique la posición de la Tierra, de la Luna y los puntos de Lagrange.\n",
    "\n",
    "    **Nota**: utilice la función `.scatter` de matplotlib. Note que `r_l3` es positivo, pero se debe ubicar opuesto a la Luna\n",
    "\n",
    "    **Nota** 2: incluya etiquetas para identificar claramente cada punto de Lagrange"
   ]
  },
  {
   "cell_type": "code",
   "execution_count": null,
   "metadata": {},
   "outputs": [],
   "source": [
    "# su código va aquí"
   ]
  },
  {
   "cell_type": "markdown",
   "metadata": {},
   "source": [
    "## Preguntas conceptuales\n",
    "\n",
    "1. ¿Qué método utilizó? ¿Por qué?\n",
    "    \n",
    "    **Resp.:**\n",
    "\n",
    "2. ¿Cómo son sus resultados con los valores presentados en la siguiente [tabla](https://en.wikipedia.org/wiki/Lagrange_point#Solar_System_values)?\n",
    "\n",
    "    **Resp.:**\n",
    "\n",
    "3. ¿A qué se podría deber esta diferencia? Note qué se asumió para construir las ecuaciones\n",
    "\n",
    "    **Resp.:**"
   ]
  }
 ],
 "metadata": {
  "kernelspec": {
   "display_name": ".venv",
   "language": "python",
   "name": "python3"
  },
  "language_info": {
   "codemirror_mode": {
    "name": "ipython",
    "version": 3
   },
   "file_extension": ".py",
   "mimetype": "text/x-python",
   "name": "python",
   "nbconvert_exporter": "python",
   "pygments_lexer": "ipython3",
   "version": "3.9.19"
  }
 },
 "nbformat": 4,
 "nbformat_minor": 2
}

{
 "cells": [
  {
   "cell_type": "markdown",
   "metadata": {},
   "source": [
    "<div style=\"display: flex; justify-content: space-between; align-items: center;\">\n",
    "    <div style=\"display: flex; flex-direction: column;\">\n",
    "        <h1>Evaluación Final\n",
    "            <a href=\"https://colab.research.google.com/github/ale-cartes/Python-en-Accion---PentaUC/blob/main/sesión 12/pr 5 - Área bajo la curva gaussiana.ipynb\" target=\"_parent\">\n",
    "                <img src=\"https://colab.research.google.com/assets/colab-badge.svg\" alt=\"Open In Colab\"/>\n",
    "            </a>\n",
    "        </h1>\n",
    "    </div>\n",
    "    <h3 style=\"margin: 0; white-space: nowrap;\">\n",
    "        <p>Prof.: Alejandro Cartes</p>\n",
    "        <p>Ayud.: Constanza Toro</p>\n",
    "    </h3>\n",
    "    <img src=\"https://academiadetalentos.uc.cl/wp-content/uploads/2024/01/cropped-ACADEMIA-TALENTOS-UC_02.png\" height=\"75px\">\n",
    "</div>\n",
    "\n",
    "---"
   ]
  },
  {
   "cell_type": "markdown",
   "metadata": {},
   "source": [
    "## **Proyecto 5:** Área bajo la curva $e^{-x^2}$\n",
    "\n",
    "**Nombres**: (para editar, dar doble click al texto)\n",
    "- Estudiante 1\n",
    "- Estudiante 2\n",
    "- Estudiante 3"
   ]
  },
  {
   "cell_type": "code",
   "execution_count": null,
   "metadata": {},
   "outputs": [],
   "source": [
    "# script para descargar el archivo utils.py\n",
    "import os\n",
    "if not os.path.isfile(\"utils.py\"):\n",
    "    link = (\"https://raw.githubusercontent.com/ale-cartes/\"\n",
    "            \"Python-en-Accion---PentaUC/refs/heads/main/utils.py\")\n",
    "    os.system(f\"wget {link}\")"
   ]
  },
  {
   "cell_type": "code",
   "execution_count": null,
   "metadata": {},
   "outputs": [],
   "source": [
    "# importe las librerías necesarias\n",
    "# ..."
   ]
  },
  {
   "cell_type": "markdown",
   "metadata": {},
   "source": [
    "La función gaussiana $f(x) = e^{-x^2}$ es una de las más importantes en matemáticas, física y estadística debido a sus aplicaciones en el análisis de probabilidades y distribuciones normales\n",
    "\n",
    "En esta actividad, exploraremos cómo calcular el área bajo la curva de esta función utilizando dos enfoques distintos:\n",
    "\n",
    "- Sumas de Riemann\n",
    "\n",
    "- Método de Montecarlo\n",
    "\n",
    "A través de estos métodos, no solo obtendremos una estimación del área, sino que también compararemos la precisión y eficiencia de ambas técnicas."
   ]
  },
  {
   "cell_type": "markdown",
   "metadata": {},
   "source": [
    "1. Construya una función llamada `gauss` que reciba como parámetro un número `x` y retorne el valor $e^{-x^2}$. Grafique esta función en el intervalo $x\\in\\left[-15, 15\\right]$\n",
    "\n",
    "    **Nota**: utilice la función `.exp` de numpy"
   ]
  },
  {
   "cell_type": "code",
   "execution_count": null,
   "metadata": {},
   "outputs": [],
   "source": [
    "# su código va aquí\n",
    "# help(np.exp)  # descomentar para ver el docstring"
   ]
  },
  {
   "cell_type": "markdown",
   "metadata": {},
   "source": [
    "2. Usando la función `riemann_sum` de utils.py, determine el área bajo esta función. Use un número de subintervalos grande.\n",
    "\n",
    "    Almacene el resultado en la variable `area_sriem` y presente su resultado con un `print`."
   ]
  },
  {
   "cell_type": "code",
   "execution_count": null,
   "metadata": {},
   "outputs": [],
   "source": [
    "# su código va aquí"
   ]
  },
  {
   "cell_type": "markdown",
   "metadata": {},
   "source": [
    "3. Ahora, estimaremos el área utilizando el método de Montecarlo. Para ello determine la región con la cual encerrará a la función. Grafíquela con la función `plot_rectangulo` de `utils.py`.\n",
    "\n",
    "    Además, determine el área de esta figura, almacenándola en la variable `area_rect`"
   ]
  },
  {
   "cell_type": "code",
   "execution_count": null,
   "metadata": {},
   "outputs": [],
   "source": [
    "# su código va aquí\n",
    "# help(plot_rectangulo)  # descomentar para ver el docstring"
   ]
  },
  {
   "cell_type": "markdown",
   "metadata": {},
   "source": [
    "4. Genere $500.000$ puntos aleatorios uniformemente distribuidos dentro de la figura que encierra a la función. Cuente cuántos de estos puntos caen dentro de la función. \n",
    "\n",
    "    Para ello note que, un punto $(x, y)$ está dentro de la función si: \n",
    "\n",
    "    $$ 0 \\leq y \\leq f(x)$$\n",
    "\n",
    "    Almacene la cantidad de puntos dentro de la función en la variable `n_dentro`\n",
    "\n",
    "    **Nota 1**: recuerde fijar una semilla para asegurar reproducibilidad\n",
    "    \n",
    "    **Nota 2**: para realizar el conteo, considere utilizar `for i in range(n)`\n",
    "\n",
    "    **Nota 3**: puede graficar los puntos aleatorios sobre su gráfico de la función para tener una intuición de cómo los puntos utilizados están cubriendo la figura"
   ]
  },
  {
   "cell_type": "code",
   "execution_count": null,
   "metadata": {},
   "outputs": [],
   "source": [
    "# su código va aquí"
   ]
  },
  {
   "cell_type": "markdown",
   "metadata": {},
   "source": [
    "5. Usando las variables `n_dentro` y `area_rect`, estime el área de la función.\n",
    "\n",
    "    Almacene el resultado en la variable `area_mc` y presente su resultado con un `print`."
   ]
  },
  {
   "cell_type": "code",
   "execution_count": null,
   "metadata": {},
   "outputs": [],
   "source": [
    "# su código va aquí"
   ]
  },
  {
   "cell_type": "markdown",
   "metadata": {},
   "source": [
    "## Preguntas conceptuales\n",
    "\n",
    "1. ¿Qué puede decir de sus resultados si los eleva al cuadrado? Concluya de forma exacta cuál es el área de esta función\n",
    "\n",
    "    **Resp.:**\n",
    "\n",
    "2. ¿Qué estimación del área es mejor?\n",
    "    \n",
    "    **Resp.:** "
   ]
  }
 ],
 "metadata": {
  "kernelspec": {
   "display_name": ".venv",
   "language": "python",
   "name": "python3"
  },
  "language_info": {
   "codemirror_mode": {
    "name": "ipython",
    "version": 3
   },
   "file_extension": ".py",
   "mimetype": "text/x-python",
   "name": "python",
   "nbconvert_exporter": "python",
   "pygments_lexer": "ipython3",
   "version": "3.9.19"
  }
 },
 "nbformat": 4,
 "nbformat_minor": 2
}

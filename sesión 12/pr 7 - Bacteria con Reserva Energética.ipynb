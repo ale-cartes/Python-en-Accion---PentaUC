{
 "cells": [
  {
   "cell_type": "markdown",
   "metadata": {},
   "source": [
    "<div style=\"display: flex; justify-content: space-between; align-items: center;\">\n",
    "    <div style=\"display: flex; flex-direction: column;\">\n",
    "        <h1>Evaluación Final\n",
    "            <a href=\"https://colab.research.google.com/github/ale-cartes/Python-en-Accion---PentaUC/blob/main/sesión 12/pr 7 - Bacteria con Reserva Energética.ipynb\" target=\"_parent\">\n",
    "                <img src=\"https://colab.research.google.com/assets/colab-badge.svg\" alt=\"Open In Colab\"/>\n",
    "            </a>\n",
    "        </h1>\n",
    "    </div>\n",
    "    <h3 style=\"margin: 0; white-space: nowrap;\">\n",
    "        <p>Prof.: Alejandro Cartes</p>\n",
    "        <p>Ayud.: Constanza Toro</p>\n",
    "    </h3>\n",
    "    <img src=\"https://academiadetalentos.uc.cl/wp-content/uploads/2024/01/cropped-ACADEMIA-TALENTOS-UC_02.png\" height=\"75px\">\n",
    "</div>\n",
    "\n",
    "---"
   ]
  },
  {
   "cell_type": "markdown",
   "metadata": {},
   "source": [
    "## **Proyecto 7:** Bacteria con Reserva Energética\n",
    "\n",
    "**Nombres**: (para editar, dar doble click al texto)\n",
    "- Estudiante 1\n",
    "- Estudiante 2\n",
    "- Estudiante 3"
   ]
  },
  {
   "cell_type": "code",
   "execution_count": null,
   "metadata": {},
   "outputs": [],
   "source": [
    "# script para descargar el archivo utils.py\n",
    "import os\n",
    "if not os.path.isfile(\"utils.py\"):\n",
    "    link = (\"https://raw.githubusercontent.com/ale-cartes/\"\n",
    "            \"Python-en-Accion---PentaUC/refs/heads/main/utils.py\")\n",
    "    os.system(f\"wget {link}\")"
   ]
  },
  {
   "cell_type": "code",
   "execution_count": null,
   "metadata": {},
   "outputs": [],
   "source": [
    "# importe las librerías necesarias\n",
    "# ..."
   ]
  },
  {
   "cell_type": "markdown",
   "metadata": {},
   "source": [
    "Una bacteria se coloca en un **canal unidimensional** en la posición $x=0$ tras ser alimentada, dotándola de energía para moverse. Debido a una pequeña corriente dentro del canal, la bacteria consume más energía al moverse a la izquierda que a la derecha.\n",
    "\n",
    "Estudiaremos el movimiento de una bacteria considerando que:\n",
    "\n",
    "- La bacteria se mueve como un \"caminante aleatorio\", **dando 1 paso a la izquierda o a la derecha de forma uniformemente aleatoria**.\n",
    "\n",
    "--- \n",
    "**(entre grupos: intercambien estos valores)**\n",
    "\n",
    "- Moverse a la derecha le consume $\\Delta E = 1$\n",
    "\n",
    "- Moverse a la izquierda le consume $\\Delta E = 3$\n",
    "--- \n",
    "- La energía inicial de la bacteria, debido a su alimentación, es $E = 100$\n",
    "\n",
    "- La bacteria deja de moverse cuando toda su energía se consume"
   ]
  },
  {
   "cell_type": "markdown",
   "metadata": {},
   "source": [
    "1. Simule el movimiento de una sola bacteria.\n",
    "\n",
    "    Almacene en una lista la **posición** y la **energía restante** en cada paso que da la bacteria\n",
    "\n",
    "    **Hint** Parte 1:\n",
    "    - Use la función `.choice` de la librería `random` de numpy para generar el desplazamiento en cada paso\n",
    "\n",
    "    - Note que el movimiento se realiza mientras la energía sea mayor a 0, por lo que puede usar un ciclo del estilo `while energia > 0`\n",
    "\n",
    "    **Nota**: Recuerde fijar la semilla por reproducibilidad"
   ]
  },
  {
   "cell_type": "code",
   "execution_count": null,
   "metadata": {},
   "outputs": [],
   "source": [
    "# su código va aquí"
   ]
  },
  {
   "cell_type": "markdown",
   "metadata": {},
   "source": [
    "2. Realice los siguientes tres gráficos\n",
    "- **Posición** en función de los **pasos**\n",
    "- **Energía** en función de los **pasos**\n",
    "- **Energía** en función de la **Posición**\n",
    "\n",
    "**Hint** Parte 2:  Para los primeros dos puntos, utilice la función `.plot` de matplotlib con solo 1 argumento\n",
    "\n",
    "**Nota**: El gráfico Energía v/s Posición puede ser más claro si invierte el eje $y$ utilizando `plt.gca().invert_yaxis()`"
   ]
  },
  {
   "cell_type": "code",
   "execution_count": null,
   "metadata": {},
   "outputs": [],
   "source": [
    "# su código va aquí\n",
    "# gráfico posición v/s pasos"
   ]
  },
  {
   "cell_type": "code",
   "execution_count": null,
   "metadata": {},
   "outputs": [],
   "source": [
    "# su código va aquí\n",
    "# gráfico energía v/s pasos"
   ]
  },
  {
   "cell_type": "code",
   "execution_count": null,
   "metadata": {},
   "outputs": [],
   "source": [
    "# su código va aquí\n",
    "# gráfico energía v/s posición"
   ]
  },
  {
   "cell_type": "markdown",
   "metadata": {},
   "source": [
    "3. Construya una función llamada `mov_bacteria` que resumirá lo que hizo en la parte (1). Esta función debe recibir como parámetros:\n",
    "    - `E`: la energía inicial de una bacteria\n",
    "    - `seed`: la semilla con la cual se generarán los números aleatorios\n",
    "\n",
    "    Y debe retornar las listas de posición y energía"
   ]
  },
  {
   "cell_type": "code",
   "execution_count": null,
   "metadata": {},
   "outputs": [],
   "source": [
    "# su código va aquí"
   ]
  },
  {
   "cell_type": "markdown",
   "metadata": {},
   "source": [
    "4. Genere los gráficos de la parte (2) considerando ahora $1.000$ bacterias. Para ello utilice la función de la parte (3) en un ciclo en el que se cambie la semilla\n",
    "\n",
    "    **Nota**: Considere usar una iteración del tipo `for seed in range(...)`. Para los gráficos considere usar el parámetro `alpha=0.05` que le da transparencia a las líneas."
   ]
  },
  {
   "cell_type": "code",
   "execution_count": null,
   "metadata": {},
   "outputs": [],
   "source": [
    "# Su código va aquí"
   ]
  },
  {
   "cell_type": "markdown",
   "metadata": {},
   "source": [
    "## Preguntas conceptuales\n",
    "\n",
    "1. ¿Qué interpreta del gráfico Energía v/s pasos? ¿En cuántos pasos aproximadamente se suele agotar la energía de la bacteria?\n",
    "    \n",
    "    **Resp.:**\n",
    "\n",
    "2. ¿Qué interpreta del gráfico Posición v/s pasos? ¿Qué puede decir de las posiciones negativas en comparación de las positivas? ¿Por qué se tiene un comportamiento diagonal?\n",
    "\n",
    "    **Resp.:**\n",
    "\n",
    "3. ¿Qué tan probable es que una bacteria termine en una posición $x>20$ o $x<-20$?\n",
    "    \n",
    "    **Resp.:**"
   ]
  }
 ],
 "metadata": {
  "kernelspec": {
   "display_name": ".venv",
   "language": "python",
   "name": "python3"
  },
  "language_info": {
   "codemirror_mode": {
    "name": "ipython",
    "version": 3
   },
   "file_extension": ".py",
   "mimetype": "text/x-python",
   "name": "python",
   "nbconvert_exporter": "python",
   "pygments_lexer": "ipython3",
   "version": "3.9.19"
  }
 },
 "nbformat": 4,
 "nbformat_minor": 2
}

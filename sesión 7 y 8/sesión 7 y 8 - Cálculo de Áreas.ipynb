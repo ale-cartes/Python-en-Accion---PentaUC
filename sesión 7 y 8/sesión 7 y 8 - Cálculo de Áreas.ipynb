{
 "cells": [
  {
   "cell_type": "markdown",
   "metadata": {},
   "source": [
    "<div style=\"display: flex; justify-content: space-between; align-items: center;\">\n",
    "    <div style=\"display: flex; flex-direction: column;\">\n",
    "        <h1>Cálculo de Áreas\n",
    "            <a href=\"https://colab.research.google.com/github/ale-cartes/Python-en-Accion---PentaUC/blob/main/sesión 7 y 8/sesión 7 y 8 - Cálculo de Áreas.ipynb\" target=\"_parent\">\n",
    "            <img src=\"https://colab.research.google.com/assets/colab-badge.svg\" alt=\"Open In Colab\"/>\n",
    "            </a>\n",
    "        </h1>\n",
    "    </div>\n",
    "    <h3 style=\"margin: 0; white-space: nowrap;\">Prof.: Alejandro Cartes</h3>\n",
    "    <img src=\"https://academiadetalentos.uc.cl/wp-content/uploads/2024/01/cropped-ACADEMIA-TALENTOS-UC_02.png\" height=\"75px\">\n",
    "</div>\n",
    "\n",
    "---"
   ]
  },
  {
   "cell_type": "markdown",
   "metadata": {},
   "source": [
    "## Calculando el número $\\pi$\n",
    "\n",
    "Sabemos que el área de un círculo de radio $r$ es $A(r)=\\pi r^2$. Notemos que es posible calcular el número $\\pi$ dada la expresión $$\\pi = \\frac{A(r)}{r^2}$$\n",
    "\n",
    "Calcularemos el número $\\pi$ calculando el área del círculo\n",
    "\n",
    "Para ello, consideraremos la ecuación de la circunferencia:\n",
    "\\begin{align}\n",
    "    x^2 + y^2 = r^2\n",
    "\\end{align}"
   ]
  },
  {
   "cell_type": "code",
   "execution_count": 11,
   "metadata": {},
   "outputs": [
    {
     "data": {
      "text/html": [
       "\n",
       "        <iframe\n",
       "            width=\"800\"\n",
       "            height=\"500\"\n",
       "            src=\"https://www.desmos.com/calculator/5qayvzfxhn?embed?frameborder=0\"\n",
       "            frameborder=\"0\"\n",
       "            allowfullscreen\n",
       "            \n",
       "        ></iframe>\n",
       "        "
      ],
      "text/plain": [
       "<IPython.lib.display.IFrame at 0x27d879a6a60>"
      ]
     },
     "execution_count": 11,
     "metadata": {},
     "output_type": "execute_result"
    }
   ],
   "source": [
    "from IPython.display import IFrame\n",
    "IFrame(src=\"https://www.desmos.com/calculator/5qayvzfxhn?embed\",\n",
    "       width=\"800\", height=\"500\", frameborder=\"0\")"
   ]
  },
  {
   "cell_type": "markdown",
   "metadata": {},
   "source": [
    "Despejemos $y$:\n",
    "\n",
    "\\begin{align}\n",
    "    y^2 = r^2 - x^2 \\\\\n",
    "    y = \\pm \\sqrt{r^2 - x^2}\n",
    "\\end{align}\n",
    "\n",
    "En donde $y_+$ entrega el arco superior e $y_{-}$ entrega el arco inferior"
   ]
  },
  {
   "cell_type": "code",
   "execution_count": 12,
   "metadata": {},
   "outputs": [
    {
     "data": {
      "text/html": [
       "\n",
       "        <iframe\n",
       "            width=\"800\"\n",
       "            height=\"500\"\n",
       "            src=\"https://www.desmos.com/calculator/0askrouwz0?embed?frameborder=0\"\n",
       "            frameborder=\"0\"\n",
       "            allowfullscreen\n",
       "            \n",
       "        ></iframe>\n",
       "        "
      ],
      "text/plain": [
       "<IPython.lib.display.IFrame at 0x27d879a6fd0>"
      ]
     },
     "execution_count": 12,
     "metadata": {},
     "output_type": "execute_result"
    }
   ],
   "source": [
    "IFrame(src=\"https://www.desmos.com/calculator/0askrouwz0?embed\",\n",
    "       width=\"800\", height=\"500\", frameborder=0)"
   ]
  },
  {
   "cell_type": "markdown",
   "metadata": {},
   "source": [
    "Como la circunferencia es una figura simétrica, el área bajo el arco superior es igual al área bajo el arco inferior. \n",
    "\n",
    "$A_{\\cup} = A_{\\cap}$\n",
    "\n",
    "Así, el área del círculo se puede obtener como:\n",
    "\n",
    "$A_{\\circ} = A_{\\cup} + A_{\\cap} = 2\\cdot A_{\\cap}$\n",
    "\n",
    "De este modo:\n",
    "$$\\pi = \\frac{2\\cdot A_{\\cap}}{r^2}$$"
   ]
  },
  {
   "cell_type": "markdown",
   "metadata": {},
   "source": [
    "1. Defina una función que represente el arco superior de una circunferencia para un radio dado $r$"
   ]
  },
  {
   "cell_type": "code",
   "execution_count": 13,
   "metadata": {},
   "outputs": [],
   "source": [
    "# su código va aquí\n"
   ]
  },
  {
   "cell_type": "markdown",
   "metadata": {},
   "source": [
    "2. En el módulo `utils.py` se encuentra implementada la función `riemann_sum`.\n",
    "Analice esta función y úsela para determinar el área bajo la curva del arco superior"
   ]
  },
  {
   "cell_type": "code",
   "execution_count": 14,
   "metadata": {},
   "outputs": [],
   "source": [
    "import os\n",
    "\n",
    "if not ('link' in globals()):\n",
    "  link = \"https://raw.githubusercontent.com/ale-cartes/Python-en-Accion---PentaUC/refs/heads/main/utils.py\" \n",
    "  os.system(f\"wget {link}\")\n",
    "\n",
    "# importamos todo de utils.py\n",
    "from utils import *\n",
    "import numpy as np\n",
    "import matplotlib.pyplot as plt"
   ]
  },
  {
   "cell_type": "code",
   "execution_count": 15,
   "metadata": {},
   "outputs": [],
   "source": [
    "# su código va aquí\n"
   ]
  },
  {
   "cell_type": "markdown",
   "metadata": {},
   "source": [
    "3. Calcule numéricamente el valor de $\\pi$"
   ]
  },
  {
   "cell_type": "code",
   "execution_count": 16,
   "metadata": {},
   "outputs": [],
   "source": [
    "# su código va aquí\n"
   ]
  },
  {
   "cell_type": "markdown",
   "metadata": {},
   "source": [
    "### <font color=\"yellow\">Actividad Avanzada</font>"
   ]
  },
  {
   "cell_type": "markdown",
   "metadata": {},
   "source": [
    "1. Construya una función que calcule el número $\\pi$ siguiendo los pasos anteriores y que reciba de parámetros un radio $r$ y $n$ el número de subintervalos para calcular el área"
   ]
  },
  {
   "cell_type": "code",
   "execution_count": 17,
   "metadata": {},
   "outputs": [],
   "source": [
    "# su código va aquí"
   ]
  },
  {
   "cell_type": "markdown",
   "metadata": {},
   "source": [
    "2. Grafique el error de su implementación, i.e. $|\\pi_{numérico} - \\pi |$, en función del número del número de subintervalos $n$. Considere el valor de $\\pi$ almacenado en Numpy `np.pi`"
   ]
  },
  {
   "cell_type": "code",
   "execution_count": 18,
   "metadata": {},
   "outputs": [],
   "source": [
    "# su código va aquí"
   ]
  },
  {
   "cell_type": "markdown",
   "metadata": {},
   "source": [
    "En la actividad, utilizamos el área del arco superior $A_{\\cap}$. Por simetría, también se puede el arco inferior $A_{\\cup}$. Realice un cambio en su implementación y utilice el arco inferior para calcular $\\pi$\n",
    "- ¿Cuál es la diferencia?\n",
    "- Si hay algún problema, ¿cómo lo arreglaría?"
   ]
  },
  {
   "cell_type": "code",
   "execution_count": 19,
   "metadata": {},
   "outputs": [],
   "source": [
    "# su código va aquí"
   ]
  },
  {
   "cell_type": "markdown",
   "metadata": {},
   "source": [
    "### <font color=\"yellow\">Análisis</font>"
   ]
  },
  {
   "cell_type": "markdown",
   "metadata": {},
   "source": [
    "- Una función se dice que es **par** si cumple:\n",
    "    $$ f(-x) = f(x) $$\n",
    "\n",
    "    Un ejemplo de función **par** es la función $f(x) = x^2$\n",
    "\n",
    "- Una función se dice que es **impar** si cumple:\n",
    "    $$ f(-x) = -f(x) $$\n",
    "\n",
    "    Un ejemplo de función **impar** es la función $f(x) = x$"
   ]
  },
  {
   "cell_type": "markdown",
   "metadata": {},
   "source": [
    "Considere las funciones mencionadas como ejemplo, $f(x) = x^2$ y $g(x) = x$\n",
    "\n",
    "Obtenga el área bajo la curva de estas funciones en el intervalo $[-1, 1]$"
   ]
  },
  {
   "cell_type": "code",
   "execution_count": 20,
   "metadata": {},
   "outputs": [],
   "source": [
    "# Su código va aquí"
   ]
  },
  {
   "cell_type": "markdown",
   "metadata": {},
   "source": [
    "- ¿Qué pasó con el área generada por la función impar?\n",
    "- ¿Qué pasó con el área generada por la función par? ¿Cómo se compara su resultado con el área que se obtiene al considerar el intervalo $[0, 1]$"
   ]
  },
  {
   "cell_type": "markdown",
   "metadata": {},
   "source": [
    "*comente aquí*  (doble click para editar)"
   ]
  },
  {
   "cell_type": "markdown",
   "metadata": {},
   "source": [
    "¿Cómo podemos generalizar este comportamiento en un intervalo del estilo $[-a, a]$ con $a$ un número real positivo?"
   ]
  },
  {
   "cell_type": "markdown",
   "metadata": {},
   "source": [
    "*comente aquí*  (doble click para editar)"
   ]
  }
 ],
 "metadata": {
  "kernelspec": {
   "display_name": ".venv",
   "language": "python",
   "name": "python3"
  },
  "language_info": {
   "codemirror_mode": {
    "name": "ipython",
    "version": 3
   },
   "file_extension": ".py",
   "mimetype": "text/x-python",
   "name": "python",
   "nbconvert_exporter": "python",
   "pygments_lexer": "ipython3",
   "version": "3.9.19"
  }
 },
 "nbformat": 4,
 "nbformat_minor": 2
}

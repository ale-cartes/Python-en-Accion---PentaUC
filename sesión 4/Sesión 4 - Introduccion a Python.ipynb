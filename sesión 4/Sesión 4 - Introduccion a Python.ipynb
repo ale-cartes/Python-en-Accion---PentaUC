{
 "cells": [
  {
   "cell_type": "markdown",
   "metadata": {},
   "source": [
    "<div style=\"display: flex; justify-content: space-between; align-items: center;\">\n",
    "    <div style=\"display: flex; flex-direction: column;\">\n",
    "        <h1>Introducción a Python y a su Sintaxis</h1>\n",
    "    </div>\n",
    "    <h3 style=\"margin: 0; white-space: nowrap;\">Prof.: Alejandro Cartes</h3>\n",
    "    <img src=\"https://academiadetalentos.uc.cl/wp-content/uploads/2024/01/cropped-ACADEMIA-TALENTOS-UC_02.png\" height=\"75px\">\n",
    "</div>\n",
    "\n",
    "---"
   ]
  },
  {
   "cell_type": "markdown",
   "metadata": {},
   "source": [
    "## <ins>Librerías</ins>"
   ]
  },
  {
   "cell_type": "markdown",
   "metadata": {},
   "source": [
    "Como se mencionó en la intruducción del curso, Python es un lenguaje muy versátil, en gran parte gracias a su amplia colección de librerías. Estas librerías son conjuntos de módulos y funciones predefinidas que se pueden utilizar para realizar tareas específicas sin tener que escribir el código desde cero.\n",
    "\n",
    "\n",
    "**Librerías priopias**\n",
    "- `math`: Proporciona funciones matemáticas básicas.\n",
    "- `datetime`: Manejo de fechas y horas.\n",
    "- `os`: Interacción con el sistema operativo.\n",
    "- `sys`: Manipulación de variables y funciones del intérprete de Python.\n",
    "\n",
    "**Librerías de Terceros**\\\n",
    "Además de las librerías estándar, hay miles de librerías de terceros disponibles que se pueden instalar usando `pip`. Algunas de las más populares son:\n",
    "\n",
    "- *NumPy*: Para computación numérica y manejo de arrays.\n",
    "- *Pandas*: Para análisis y manipulación de datos.\n",
    "- *Matplotlib*: Para creación de gráficos y visualización de datos.\n",
    "- *Scikit-learn*: Para aprendizaje automático y minería de datos.\n",
    "- *TensorFlow*: Para construcción y entrenamiento de modelos de aprendizaje profundo.\n",
    "\n",
    "**Instalación**\\\n",
    "Para instalar una librería de terceros, se puede usar el siguiente comando en el entorno de Python:\n",
    "\n",
    "```python\n",
    "!pip install numpy\n",
    "```\n",
    "\n",
    "**Importar una librería**\\\n",
    "Una vez instalada, podemos importar y utilizar la librería en nuestro código:\n",
    "\n",
    "```python\n",
    "import math\n",
    "math.sqrt(16)\n",
    "\n",
    "import numpy as np\n",
    "np.sqrt(16)\n",
    "```"
   ]
  },
  {
   "cell_type": "markdown",
   "metadata": {},
   "source": [
    "### `Numpy`\n",
    "<img src=\"https://upload.wikimedia.org/wikipedia/commons/3/31/NumPy_logo_2020.svg\" height=\"75px\">"
   ]
  },
  {
   "cell_type": "markdown",
   "metadata": {},
   "source": [
    "**NumPy** (Numerical Python) es una biblioteca fundamental para la computación científica en Python. Proporciona soporte para arreglos multidimensionales (ndarray) y funciones matemáticas de alto rendimiento para operar sobre estos arreglos. Su eficiencia y simplicidad la convierten en una herramienta esencial para el análisis de datos, el cálculo numérico y muchas otras aplicaciones científicas y de ingeniería."
   ]
  },
  {
   "cell_type": "code",
   "execution_count": 1,
   "metadata": {},
   "outputs": [],
   "source": [
    "# importemos la librería numpy\n",
    "\n",
    "import numpy as np\n",
    "\n",
    "# si no está instalada, instálela utilizando el siguiente comando\n",
    "# !pip install numpy"
   ]
  },
  {
   "cell_type": "markdown",
   "metadata": {},
   "source": [
    "#### **Arreglos en NumPy**\n",
    "\n",
    "El núcleo de NumPy es el **ndarray** (arreglo n-dimensional), que es una estructura de datos similar a una lista en Python, pero con características adicionales que permiten realizar operaciones matemáticas de manera rápida y eficiente."
   ]
  },
  {
   "cell_type": "code",
   "execution_count": 2,
   "metadata": {},
   "outputs": [
    {
     "name": "stdout",
     "output_type": "stream",
     "text": [
      "Arreglo de numpy array:\n",
      "[1 2 3 4 5]\n"
     ]
    }
   ],
   "source": [
    "# Crear un arreglo unidimensional\n",
    "array = np.array([1, 2, 3, 4, 5])\n",
    "\n",
    "print(f\"Arreglo de numpy array:\\n{array}\")"
   ]
  },
  {
   "cell_type": "markdown",
   "metadata": {},
   "source": [
    "Comparemos un array con una lista"
   ]
  },
  {
   "cell_type": "code",
   "execution_count": 3,
   "metadata": {},
   "outputs": [],
   "source": [
    "array = np.array([1, 2, 3, 4, 5])\n",
    "lista = [1, 2, 3, 4, 5]"
   ]
  },
  {
   "cell_type": "markdown",
   "metadata": {},
   "source": [
    "`array` puede realizar operaciones matemáticas elemento a elemento, en cambio `lista` no puede o no de la misma forma"
   ]
  },
  {
   "cell_type": "code",
   "execution_count": 4,
   "metadata": {},
   "outputs": [
    {
     "name": "stdout",
     "output_type": "stream",
     "text": [
      "array original:\n",
      "[1 2 3 4 5]\n",
      "\n",
      "array + 10:\n",
      "[11 12 13 14 15]\n",
      "\n",
      "\n",
      "array * 2:\n",
      "[ 2  4  6  8 10]\n",
      "\n",
      "lista * 2:\n",
      "[1, 2, 3, 4, 5, 1, 2, 3, 4, 5]\n"
     ]
    }
   ],
   "source": [
    "# sumar 10 a cada elemento\n",
    "array_plus_10 = array + 10\n",
    "# lista_plus_10 = lista + 10  # -> error\n",
    "\n",
    "print(f\"array original:\\n{array}\")\n",
    "print(f\"\\narray + 10:\\n{array_plus_10}\")\n",
    "\n",
    "\n",
    "# multiplicar por 2 cada elemento\n",
    "array_por_2 = array * 2\n",
    "lista_por_2 = lista * 2 # -> no es lo que se espera\n",
    "\n",
    "print(f\"\\n\\narray * 2:\\n{array_por_2}\")\n",
    "print(f\"\\nlista * 2:\\n{lista_por_2}\")\n"
   ]
  },
  {
   "cell_type": "markdown",
   "metadata": {},
   "source": [
    "`lista` puede almacenar elementos de distintos tipos, `array` no puede"
   ]
  },
  {
   "cell_type": "code",
   "execution_count": 5,
   "metadata": {},
   "outputs": [],
   "source": [
    "lista_distintos_tipos = [1, 2.5, 'cadena', [5, 6]]\n",
    "# array_distintos_tipos = np.array([1, 2.5, 'cadena', [5, 6]])#  -> error"
   ]
  },
  {
   "cell_type": "markdown",
   "metadata": {},
   "source": [
    "#### Funciones útiles en NumPy"
   ]
  },
  {
   "cell_type": "markdown",
   "metadata": {},
   "source": [
    "NumPy cuenta con muchas funciones, para más detalle ver su documentación [link documentación](https://numpy.org/doc/stable/user/absolute_beginners.html). Las que más usaremos en el curso son las siguientes:"
   ]
  },
  {
   "cell_type": "markdown",
   "metadata": {},
   "source": [
    "##### `arange`\n",
    "\n",
    "Es similar a `range`, pero devuelve un arreglo. También cuenta con `start`, `stop` y `step`"
   ]
  },
  {
   "cell_type": "code",
   "execution_count": 6,
   "metadata": {},
   "outputs": [
    {
     "name": "stdout",
     "output_type": "stream",
     "text": [
      "np.arange(10):\n",
      "[0 1 2 3 4 5 6 7 8 9]\n",
      "\n",
      "np.arange(3, 10):\n",
      "[3 4 5 6 7 8 9]\n",
      "\n",
      "np.arange(3, 10, 4):\n",
      "[3 7]\n"
     ]
    }
   ],
   "source": [
    "start, stop, step = 3, 10, 4\n",
    "\n",
    "array = np.arange(10)\n",
    "print(f\"np.arange(10):\\n{array}\")\n",
    "\n",
    "array = np.arange(start, stop)\n",
    "print(f\"\\nnp.arange({start}, {stop}):\\n{array}\")\n",
    "\n",
    "array = np.arange(start, stop, step)\n",
    "print(f\"\\nnp.arange({start}, {stop}, {step}):\\n{array}\")"
   ]
  },
  {
   "cell_type": "markdown",
   "metadata": {},
   "source": [
    "##### `np.linspace`\n",
    "Es similar a arange, pero en vez de paso, se especifica la cantidad de elementos.\n",
    "\n",
    "Esta función pide como input `start` y `stop`. En vez de `step`, usa `num` que por defecto `num=50`"
   ]
  },
  {
   "cell_type": "code",
   "execution_count": 7,
   "metadata": {},
   "outputs": [
    {
     "name": "stdout",
     "output_type": "stream",
     "text": [
      "np.linspace(0, 10, 5):\n",
      "[ 0.   2.5  5.   7.5 10. ]\n"
     ]
    }
   ],
   "source": [
    "start, stop, num = 0, 10, 5\n",
    "array = np.linspace(start, stop, num=num)\n",
    "\n",
    "print(f\"np.linspace({start}, {stop}, {num}):\\n{array}\")\n",
    "\n",
    "# notar que el último elemento es stop y es incluido, a diferencia de arange"
   ]
  },
  {
   "cell_type": "markdown",
   "metadata": {},
   "source": [
    "<font color=\"yellow\">Análisis</font>\n",
    "- ¿Cómo puede generar el mismo output de `np.linspace` con `np.arange`?\n",
    "\n",
    "Considere la variable definida en la celda siguiente"
   ]
  },
  {
   "cell_type": "code",
   "execution_count": 8,
   "metadata": {},
   "outputs": [
    {
     "name": "stdout",
     "output_type": "stream",
     "text": [
      "np.linspace(1, 15, 5):\n",
      "[ 1.   4.5  8.  11.5 15. ]\n"
     ]
    }
   ],
   "source": [
    "start, stop, num = 1, 15, 5\n",
    "\n",
    "array_linspace = np.linspace(start, stop, num=num)\n",
    "print(f\"np.linspace({start}, {stop}, {num}):\\n{array_linspace}\")\n",
    "\n",
    "# consruya el mismo arreglo con arange\n"
   ]
  },
  {
   "cell_type": "markdown",
   "metadata": {},
   "source": [
    "### `Matplotlib`\n",
    "<img src=\"https://matplotlib.org/3.7.1/_static/images/logo_dark.svg\" height=\"75px\">"
   ]
  },
  {
   "cell_type": "markdown",
   "metadata": {},
   "source": [
    "**Matplotlib** es una de las librerías más populares en Python para la visualización de datos. Es especialmente útil para crear gráficos de todo tipo, desde simples líneas y gráficos de dispersión, hasta complejas visualizaciones 3D y gráficos personalizados. La librería es altamente flexible y se integra bien con otras herramientas de análisis de datos como NumPy y Pandas."
   ]
  },
  {
   "cell_type": "markdown",
   "metadata": {},
   "source": [
    "Para empezar a usar Matplotlib, generalmente se importa la sublibrería `pyplot`, que proporciona una interfaz simple y amigable para la creación de gráficos:"
   ]
  },
  {
   "cell_type": "code",
   "execution_count": 9,
   "metadata": {},
   "outputs": [],
   "source": [
    "# importemos la librería matplotlib\n",
    "\n",
    "import matplotlib.pyplot as plt\n",
    "\n",
    "# si no está instalada, instálela utilizando el siguiente comando\n",
    "# !pip install matplotlib"
   ]
  },
  {
   "cell_type": "markdown",
   "metadata": {},
   "source": [
    "**Ejemplo básico**\n",
    "\n",
    "Generemos el gráfico de la función $f(x) = e^x$ para $x\\in[-2, 2]$"
   ]
  },
  {
   "cell_type": "code",
   "execution_count": 15,
   "metadata": {},
   "outputs": [
    {
     "data": {
      "image/png": "[encoded data removed]",
      "text/plain": [
       "<Figure size 640x480 with 1 Axes>"
      ]
     },
     "metadata": {},
     "output_type": "display_data"
    }
   ],
   "source": [
    "# creemos un arreglo de numpy con 8 elementos\n",
    "\n",
    "x_min, x_max = -2, 2\n",
    "num = 8\n",
    "x = np.linspace(x_min, x_max, num=num)\n",
    "y = np.e ** x  # o np.exp(x) -> e^x\n",
    "\n",
    "# grafiquemos y = e^x\n",
    "plt.plot(x, y)\n",
    "\n",
    "# mostramos el gráfico\n",
    "plt.show()"
   ]
  },
  {
   "cell_type": "code",
   "execution_count": 17,
   "metadata": {},
   "outputs": [
    {
     "data": {
      "image/png": "[encoded data removed]",
      "text/plain": [
       "<Figure size 640x480 with 1 Axes>"
      ]
     },
     "metadata": {},
     "output_type": "display_data"
    }
   ],
   "source": [
    "# amononemos el gráfico\n",
    "\n",
    "plt.plot(x, y,\n",
    "         label=r\"$f(x)$\",  # etiqueta para la leyenda - r: raw string para latex\n",
    "         color='blue')     # color de la línea\n",
    "\n",
    "# agreguemos etiquetas a los ejes\n",
    "plt.xlabel(\"Eje x\")\n",
    "plt.ylabel(\"Eje y\")\n",
    "plt.title(r\"Gráfico de $f(x) = e^x$\")\n",
    "\n",
    "\n",
    "# añadamos una línea vertical en x=1, como en la actividad anterior\n",
    "plt.axvline(x=1,            # posición en x\n",
    "            ls='--',        # estilo de la línea\n",
    "            color='black')  # color de la línea\n",
    "\n",
    "\n",
    "# añadamos una cuadrícula\n",
    "plt.grid(ls='--',    # estilo de la línea\n",
    "         alpha=0.4)  # transparencia\n",
    "\n",
    "\n",
    "# añadamos una leyenda\n",
    "plt.legend()\n",
    "\n",
    "# mostramos el gráfico\n",
    "plt.show()"
   ]
  },
  {
   "cell_type": "markdown",
   "metadata": {},
   "source": [
    "<font color=\"yellow\">Análisis</font>\n",
    "\n",
    "¿Por qué la curva no se ve \"suave\"?\n",
    "\n",
    "- Explore las variables `x` e `y`, ¿cuántos elementos tienen?\n",
    "- En vez de usar `plt.plot(x, y)` use `plt.plot(x, y, 'o')`, ¿cuál es la diferencia?\n",
    "- ¿Qué es lo que hace `matplotlib` entre los puntos?\n",
    "- ¿Cómo puede hacer que la curva sea suave? Grafique"
   ]
  },
  {
   "cell_type": "code",
   "execution_count": 12,
   "metadata": {},
   "outputs": [],
   "source": [
    "# su código va aquí"
   ]
  }
 ],
 "metadata": {
  "kernelspec": {
   "display_name": ".venv",
   "language": "python",
   "name": "python3"
  },
  "language_info": {
   "codemirror_mode": {
    "name": "ipython",
    "version": 3
   },
   "file_extension": ".py",
   "mimetype": "text/x-python",
   "name": "python",
   "nbconvert_exporter": "python",
   "pygments_lexer": "ipython3",
   "version": "3.9.19"
  }
 },
 "nbformat": 4,
 "nbformat_minor": 2
}

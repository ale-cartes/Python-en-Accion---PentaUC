{
 "cells": [
  {
   "cell_type": "markdown",
   "metadata": {},
   "source": [
    "<div style=\"display: flex; justify-content: space-between; align-items: center;\">\n",
    "    <div style=\"display: flex; flex-direction: column;\">\n",
    "        <h1>Raíces de una Función\n",
    "            <a href=\"https://colab.research.google.com/github/ale-cartes/Python-en-Accion---PentaUC/blob/main/sesión 4/Sesión 4 - Raíces de una Función.ipynb\" target=\"_parent\">\n",
    "                <img src=\"https://colab.research.google.com/assets/colab-badge.svg\" alt=\"Open In Colab\"/>\n",
    "            </a>\n",
    "        </h1>\n",
    "    </div>\n",
    "    <h3 style=\"margin: 0; white-space: nowrap;\">\n",
    "        <p>Prof.: Alejandro Cartes</p>\n",
    "        <p>Ayud.: Laura Aspee</p>\n",
    "    </h3>\n",
    "    <img src=\"https://academiadetalentos.uc.cl/wp-content/uploads/2024/01/cropped-ACADEMIA-TALENTOS-UC_02.png\" height=\"75px\">\n",
    "</div>\n",
    "\n",
    "---"
   ]
  },
  {
   "cell_type": "markdown",
   "metadata": {},
   "source": [
    "## Método de la Bisección\n",
    "\n",
    "Procedimiento\n",
    "1. Calcular el punto medio $c$ del intervalo $[a, b]$ $$c = \\frac{a+b}{2}$$\n",
    "\n",
    "2. Calcular $f(c)$\n",
    "\n",
    "3. Si:\n",
    "    - $f(c) = 0$, entonces $c$ es la raíz\n",
    "    - $f(a)\\cdot f(c) < 0$, la raíz se encuentra en $[a, c]$\n",
    "    - $f(c)\\cdot f(b) < 0$, la raíz se encuentra en $[c, b]$\n",
    "\n",
    "4. Reemplazar el intervalo $[a, b]$ con el nuevo subintervalo que contiene la raíz\n",
    "\n",
    "5. Repetir el proceso hasta que el intervalo sea suficientemente pequeño"
   ]
  },
  {
   "cell_type": "markdown",
   "metadata": {},
   "source": [
    "<font color=\"yellow\">Actividad</font>\n",
    "\n",
    "- Dado el procedimiento mencionado, construya una función llamada `biseccion` que logre realizar este método. Considere como inputs: una función, el límite inferior del intervalo y el límite superior\n",
    "\n",
    "- Para corroborar su implementación realice el siguiente test:\n",
    "`biseccion(lambda x: x**2 - 1, 0, 5)` (¿qué valor debería retornar?)"
   ]
  },
  {
   "cell_type": "code",
   "execution_count": null,
   "metadata": {},
   "outputs": [],
   "source": [
    "# su código va aquí"
   ]
  },
  {
   "cell_type": "markdown",
   "metadata": {},
   "source": [
    "<font color=\"yellow\">Análisis</font>\n",
    "\n",
    "Considere la función $f(x) = x^3 - 6x^2 + 4x + 12$\n",
    "\n",
    "- Encuentre la raíz de la función en los siguientes intervalos:\n",
    "    - $[2, 5]$\n",
    "    - $[-4, 1]$\n",
    "    - $[0.5, 3.5]$\n",
    "\n",
    "    Para cada intervalo, determine si el método converge a la raíz. ¿Cómo la elección del intervalo afecta la cantidad de iteraciones necesarias?"
   ]
  },
  {
   "cell_type": "code",
   "execution_count": null,
   "metadata": {},
   "outputs": [],
   "source": [
    "# su código va aquí"
   ]
  },
  {
   "cell_type": "markdown",
   "metadata": {},
   "source": [
    "<font color=\"yellow\">Actividad Avanzada</font>\n",
    "\n",
    "Resuelva la ecuación\n",
    "$$ e^x - 5x = \\sqrt{x}$$"
   ]
  },
  {
   "cell_type": "code",
   "execution_count": 44,
   "metadata": {},
   "outputs": [],
   "source": [
    "# su código va aquí"
   ]
  }
 ],
 "metadata": {
  "kernelspec": {
   "display_name": ".venv",
   "language": "python",
   "name": "python3"
  },
  "language_info": {
   "codemirror_mode": {
    "name": "ipython",
    "version": 3
   },
   "file_extension": ".py",
   "mimetype": "text/x-python",
   "name": "python",
   "nbconvert_exporter": "python",
   "pygments_lexer": "ipython3",
   "version": "3.9.19"
  }
 },
 "nbformat": 4,
 "nbformat_minor": 2
}

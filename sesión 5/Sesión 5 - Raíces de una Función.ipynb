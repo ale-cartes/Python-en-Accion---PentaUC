{
 "cells": [
  {
   "cell_type": "markdown",
   "metadata": {},
   "source": [
    "<div style=\"display: flex; justify-content: space-between; align-items: center;\">\n",
    "    <div style=\"display: flex; flex-direction: column;\">\n",
    "        <h1>Raíces de una Función</h1>\n",
    "    </div>\n",
    "    <h3 style=\"margin: 0; white-space: nowrap;\">Prof.: Alejandro Cartes</h3>\n",
    "    <img src=\"https://academiadetalentos.uc.cl/wp-content/uploads/2024/01/cropped-ACADEMIA-TALENTOS-UC_02.png\" height=\"75px\">\n",
    "</div>\n",
    "\n",
    "---"
   ]
  },
  {
   "cell_type": "markdown",
   "metadata": {},
   "source": [
    "## Métodos de la Bisección y de la Secante"
   ]
  },
  {
   "cell_type": "markdown",
   "metadata": {},
   "source": [
    "### <font color=\"yellow\">Actividad</font>"
   ]
  },
  {
   "cell_type": "markdown",
   "metadata": {},
   "source": [
    "#### P1.a"
   ]
  },
  {
   "cell_type": "markdown",
   "metadata": {},
   "source": [
    "\n",
    "En el módulo `utils.py` se encuentran implementados los métodos de la bisección y de la secante. Para importar este módulo, ejecute la siguiente celda:"
   ]
  },
  {
   "cell_type": "code",
   "execution_count": 11,
   "metadata": {},
   "outputs": [],
   "source": [
    "import os\n",
    "\n",
    "if not ('link' in globals()):\n",
    "  link = \"https://raw.githubusercontent.com/ale-cartes/Python-en-Accion---PentaUC/refs/heads/main/utils.py\" \n",
    "  os.system(f\"wget {link}\")\n",
    "\n",
    "from utils import *"
   ]
  },
  {
   "cell_type": "markdown",
   "metadata": {},
   "source": [
    "El módulo cuenta con dos funciones: `secante` y `biseccion`\n",
    "\n",
    "- ¿Qué es lo que realizan estas funciones?\n",
    "- ¿Qué parémetros reciben? ¿Cuáles son opcionales?\n",
    "- ¿Qué hace el parámetro `verbose`?\n",
    "\n",
    "- ¿Cómo realizan el algoritmo del método?\n",
    "- ¿Qué condición detiene a los ciclos iterativos?\n",
    "\n",
    "Explore el archivo `utils.py`, copie el código y comente sobre este"
   ]
  },
  {
   "cell_type": "markdown",
   "metadata": {},
   "source": [
    "<!-- responda aquí -->\n",
    "\n",
    "*responda en esta celda*"
   ]
  },
  {
   "cell_type": "code",
   "execution_count": 12,
   "metadata": {},
   "outputs": [],
   "source": [
    "# puede apoyarse de con Python para responder las preguntas\n"
   ]
  },
  {
   "cell_type": "markdown",
   "metadata": {},
   "source": [
    "#### P1.b"
   ]
  },
  {
   "cell_type": "markdown",
   "metadata": {},
   "source": [
    "Considere la función $f(x) = 5e^{-x}x^4-3x-1$\n",
    "\n",
    "- Grafique la función. ¿Cuántas raíces posee? Recuerde importar los módulos necesarios\n",
    "\n",
    "- Encuentre todas las raíces usando solamente el método de la bisección\n",
    "\n",
    "- Encuentre todas las raíces usando solamente el método de la secante\n",
    "\n",
    "- ¿Qué método tiene el mayor número de iteraciones?"
   ]
  },
  {
   "cell_type": "code",
   "execution_count": 13,
   "metadata": {},
   "outputs": [],
   "source": [
    "# su código va aquí"
   ]
  },
  {
   "cell_type": "markdown",
   "metadata": {},
   "source": [
    "### <font color=\"yellow\">Actividad Avanzada</font>"
   ]
  },
  {
   "cell_type": "markdown",
   "metadata": {},
   "source": [
    "#### P1"
   ]
  },
  {
   "cell_type": "markdown",
   "metadata": {},
   "source": [
    "Resuelva la ecuación\n",
    "$$ e^x - 5x = \\sqrt{x}$$"
   ]
  },
  {
   "cell_type": "code",
   "execution_count": 14,
   "metadata": {},
   "outputs": [],
   "source": [
    "# su código va aquí"
   ]
  },
  {
   "cell_type": "markdown",
   "metadata": {},
   "source": [
    "#### P2"
   ]
  },
  {
   "cell_type": "markdown",
   "metadata": {},
   "source": [
    "El punto de Lagrange $L2$ entre el Sol y la Tierra es un punto en el cual la fuerza gravitacional ejercidos por ambos cuerpos logra un balance que mantiene a un satélite en órbita sincrónica con la Tierra.\n",
    "\n",
    "<img src=\"https://upload.wikimedia.org/wikipedia/commons/thumb/a/a5/Lagrange_points_simple.svg/1083px-Lagrange_points_simple.svg.png\" height=\"450px\">\n",
    "\n",
    "Asumiento que la órbita es circular y que $m_{sat} << m_{Tierra} << M_{Sol}$, se puede encontrar la siguiente expresión\n",
    "\n",
    "$$\\frac{G M_{Sol}}{r^2} + \\frac{G m_{Tierra}}{(r-R)^2} = \\omega^2 r$$\n",
    "\n",
    "Donde\n",
    "- $G = 6.674 \\cdot 10^{-11} [N m^2 / kg^2]$ es la cte. de Gravitación Universal\n",
    "- $M_{Sol} = 1.989 \\cdot 10^{30} [kg]$\n",
    "- $m_{Tierra} = 5.972 \\cdot 10^{24} [kg]$\n",
    "- $R = 1.496 \\cdot 10^{11} [m]$  es la distancia Sol-Tierra\n",
    "- $\\omega = \\sqrt{G \\cdot M_{Sol} / R^3}$  velocidad angular de la Tierra y del satélite\n",
    "- $r$ es la distancia desde el Sol hasta el punto $L2$\n",
    "\n",
    "Determine $r$\n",
    "\n",
    "- ¿Qué método usó?\n",
    "\n",
    "- ¿Cuál es la distancia de $L2$ desde la Tierra?\n",
    "\n",
    "- Investigue sobre este punto y compare su resultado. ¿Cuál es la importancia de estos puntos?"
   ]
  },
  {
   "cell_type": "code",
   "execution_count": 15,
   "metadata": {},
   "outputs": [],
   "source": [
    "# su código va aquí"
   ]
  }
 ],
 "metadata": {
  "kernelspec": {
   "display_name": ".venv",
   "language": "python",
   "name": "python3"
  },
  "language_info": {
   "codemirror_mode": {
    "name": "ipython",
    "version": 3
   },
   "file_extension": ".py",
   "mimetype": "text/x-python",
   "name": "python",
   "nbconvert_exporter": "python",
   "pygments_lexer": "ipython3",
   "version": "3.9.19"
  }
 },
 "nbformat": 4,
 "nbformat_minor": 2
}

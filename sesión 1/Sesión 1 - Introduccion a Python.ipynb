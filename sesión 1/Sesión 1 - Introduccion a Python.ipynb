{
 "cells": [
  {
   "cell_type": "markdown",
   "metadata": {},
   "source": [
    "<div style=\"display: flex; justify-content: space-between; align-items: center;\">\n",
    "    <div style=\"display: flex; flex-direction: column;\">\n",
    "        <h1>Introducción a Python y a su Sintaxis</h1>\n",
    "    </div>\n",
    "    <h3 style=\"margin: 0; white-space: nowrap;\">Prof.: Alejandro Cartes</h3>\n",
    "    <img src=\"https://academiadetalentos.uc.cl/wp-content/uploads/2024/01/cropped-ACADEMIA-TALENTOS-UC_02.png\" height=\"75px\">\n",
    "</div>\n",
    "\n",
    "---"
   ]
  },
  {
   "cell_type": "markdown",
   "metadata": {},
   "source": [
    "## Declaración de Variables"
   ]
  },
  {
   "cell_type": "markdown",
   "metadata": {},
   "source": [
    "### Números"
   ]
  },
  {
   "cell_type": "markdown",
   "metadata": {},
   "source": [
    "\n",
    "#### **int**\n",
    "Números enteros (integer), positivos o negativos, sin decimales"
   ]
  },
  {
   "cell_type": "code",
   "execution_count": 2,
   "metadata": {},
   "outputs": [],
   "source": [
    "entero_1 = 1\n",
    "entero_2 = -1\n",
    "entero_3 = 10"
   ]
  },
  {
   "cell_type": "code",
   "execution_count": 5,
   "metadata": {},
   "outputs": [
    {
     "name": "stdout",
     "output_type": "stream",
     "text": [
      "Variable: 10\n",
      "Tipo: <class 'int'>\n"
     ]
    }
   ],
   "source": [
    "to_print = entero_3\n",
    "type_to_print = type(to_print)  # qué es type?\n",
    "\n",
    "print(\"Variable:\", to_print)  # qué es print?\n",
    "print(\"Tipo:\", type_to_print)"
   ]
  },
  {
   "cell_type": "markdown",
   "metadata": {},
   "source": [
    "#### `help` & `?`\n",
    "En la celda anterior se introdujeron dos funciones:\n",
    "`type` y `print`\n",
    "\n",
    "- ¿qué es lo que realizan?\n",
    "- ¿qué reciben como _input_? ¿qué retornan como _output_?\n",
    "\n",
    "Python puede darnos esa respuesta, para ello podemos pedírselo de dos formas:\n",
    "- usando `?` (ej.: `>> type?`)\n",
    "- usando `help` (ej.: `>> help(type)`)"
   ]
  },
  {
   "cell_type": "code",
   "execution_count": 26,
   "metadata": {},
   "outputs": [
    {
     "name": "stdout",
     "output_type": "stream",
     "text": [
      "\u001b[1;31mInit signature:\u001b[0m \u001b[0mtype\u001b[0m\u001b[1;33m(\u001b[0m\u001b[0mself\u001b[0m\u001b[1;33m,\u001b[0m \u001b[1;33m/\u001b[0m\u001b[1;33m,\u001b[0m \u001b[1;33m*\u001b[0m\u001b[0margs\u001b[0m\u001b[1;33m,\u001b[0m \u001b[1;33m**\u001b[0m\u001b[0mkwargs\u001b[0m\u001b[1;33m)\u001b[0m\u001b[1;33m\u001b[0m\u001b[1;33m\u001b[0m\u001b[0m\n",
      "\u001b[1;31mDocstring:\u001b[0m     \n",
      "type(object) -> the object's type\n",
      "type(name, bases, dict, **kwds) -> a new type\n",
      "\u001b[1;31mType:\u001b[0m           type\n",
      "\u001b[1;31mSubclasses:\u001b[0m     ABCMeta, EnumMeta, NamedTupleMeta, _TypedDictMeta, PyCStructType, UnionType, PyCPointerType, PyCArrayType, PyCSimpleType, PyCFuncPtrType, ..."
     ]
    }
   ],
   "source": [
    "type?"
   ]
  },
  {
   "cell_type": "code",
   "execution_count": 5,
   "metadata": {},
   "outputs": [
    {
     "name": "stdout",
     "output_type": "stream",
     "text": [
      "\u001b[1;31mDocstring:\u001b[0m\n",
      "print(value, ..., sep=' ', end='\\n', file=sys.stdout, flush=False)\n",
      "\n",
      "Prints the values to a stream, or to sys.stdout by default.\n",
      "Optional keyword arguments:\n",
      "file:  a file-like object (stream); defaults to the current sys.stdout.\n",
      "sep:   string inserted between values, default a space.\n",
      "end:   string appended after the last value, default a newline.\n",
      "flush: whether to forcibly flush the stream.\n",
      "\u001b[1;31mType:\u001b[0m      builtin_function_or_method"
     ]
    }
   ],
   "source": [
    "print?"
   ]
  },
  {
   "cell_type": "code",
   "execution_count": 30,
   "metadata": {},
   "outputs": [
    {
     "name": "stdout",
     "output_type": "stream",
     "text": [
      "Help on built-in function print in module builtins:\n",
      "\n",
      "print(...)\n",
      "    print(value, ..., sep=' ', end='\\n', file=sys.stdout, flush=False)\n",
      "    \n",
      "    Prints the values to a stream, or to sys.stdout by default.\n",
      "    Optional keyword arguments:\n",
      "    file:  a file-like object (stream); defaults to the current sys.stdout.\n",
      "    sep:   string inserted between values, default a space.\n",
      "    end:   string appended after the last value, default a newline.\n",
      "    flush: whether to forcibly flush the stream.\n",
      "\n"
     ]
    }
   ],
   "source": [
    "help(print)"
   ]
  },
  {
   "cell_type": "markdown",
   "metadata": {},
   "source": [
    "<font style = \"color: rgb(255, 255, 0)\"> Análisis: </font>\n",
    "¿Qué diferencias nota entre el uso de `?` y `help`?"
   ]
  },
  {
   "cell_type": "markdown",
   "metadata": {},
   "source": [
    "<!-- comente aquí: -->\n"
   ]
  },
  {
   "cell_type": "markdown",
   "metadata": {},
   "source": [
    "#### **float**\n",
    "Números decimales (números de punto flotante)"
   ]
  },
  {
   "cell_type": "code",
   "execution_count": 38,
   "metadata": {},
   "outputs": [],
   "source": [
    "float_1 = 3.141592\n",
    "float_2 = -0.5\n",
    "float_3 = 2/3"
   ]
  },
  {
   "cell_type": "code",
   "execution_count": 39,
   "metadata": {},
   "outputs": [
    {
     "name": "stdout",
     "output_type": "stream",
     "text": [
      "Variable: 0.6666666666666666 - Tipo: <class 'float'>\n"
     ]
    }
   ],
   "source": [
    "to_print = float_3\n",
    "print(f\"Variable: {to_print} - Tipo: {type(to_print)}\")"
   ]
  },
  {
   "cell_type": "markdown",
   "metadata": {},
   "source": [
    "### Texto"
   ]
  },
  {
   "cell_type": "code",
   "execution_count": 4,
   "metadata": {},
   "outputs": [
    {
     "ename": "SyntaxError",
     "evalue": "invalid syntax (3207570979.py, line 3)",
     "output_type": "error",
     "traceback": [
      "\u001b[1;36m  Cell \u001b[1;32mIn[4], line 3\u001b[1;36m\u001b[0m\n\u001b[1;33m    texto = hola hola\u001b[0m\n\u001b[1;37m                 ^\u001b[0m\n\u001b[1;31mSyntaxError\u001b[0m\u001b[1;31m:\u001b[0m invalid syntax\n"
     ]
    }
   ],
   "source": [
    "# hagamos la siguiente prueba\n",
    "\n",
    "texto = hola hola"
   ]
  },
  {
   "cell_type": "markdown",
   "metadata": {},
   "source": [
    "En Python no podemos escribir directamente texto, pues lo interpreta como si fuera una variable que necesita ser definida previamente.\n",
    "Para trabajar con texto, python cuenta con variables denominadas **strings** que almacena secuencias de caracteres alfa-numéricos.\n",
    "\n",
    "Para crear strings el texto se debe colocar entre comillas simples (**'**...**'**) o dobles (**\"**...**\"**)"
   ]
  },
  {
   "cell_type": "code",
   "execution_count": 1,
   "metadata": {},
   "outputs": [],
   "source": [
    "string_1 = \"Hola\"\n",
    "string_2 = \"18 de Septiembre\"\n",
    "string_3 = \"@todos\""
   ]
  },
  {
   "cell_type": "code",
   "execution_count": 6,
   "metadata": {},
   "outputs": [
    {
     "name": "stdout",
     "output_type": "stream",
     "text": [
      "Variable: @todos - Tipo: <class 'str'>\n"
     ]
    }
   ],
   "source": [
    "to_print = string_3\n",
    "print(f\"Variable: {to_print} - Tipo: {type(to_print)}\")"
   ]
  },
  {
   "cell_type": "markdown",
   "metadata": {},
   "source": [
    "<font style = \"color: rgb(255, 255, 0)\"> Ejercicio: </font>\n",
    "\n",
    "Genere:\n",
    "- una variable que contenga su nombre\n",
    "- una variable que contenga su edad\n",
    "\n",
    "Luego, muéstrelos en la consola (es decir, utilice ``print``)\n",
    "\n",
    "- **[opcional]** Muestre en la consola el siguiente mensaje de presentación: `Hola! Soy [*insertar nombre*] y tengo [*insertar años*] años`"
   ]
  },
  {
   "cell_type": "code",
   "execution_count": null,
   "metadata": {},
   "outputs": [],
   "source": [
    "# su código va aquí\n",
    "\n"
   ]
  },
  {
   "cell_type": "markdown",
   "metadata": {},
   "source": [
    "<font style = \"color: rgb(255, 255, 0)\"> Ejercicio: </font>\n",
    "\n",
    "En esta actividad realizaremos una tradicional bienvenida al mundo de la programación:\n",
    "un _print_ en la consola con el mensaje `Hola mundo!`\n",
    "\n",
    "Para ello, y sin entrar mucho en detalle, realice lo siguiente:\n",
    "\n",
    "- defina la variable `texto` que contenga el mensaje `\"Hola mundo!\"` [¿cómo se define una variable? `variable = contenido`]\n",
    "\n",
    "- Utilice la función `print` para mostrar la variable `texto` [Para mostrar el valor de una variable con la función `print`, use la sintaxis `print(variable)`]\n",
    "\n",
    "- Ejecute su código\n",
    "\n",
    "\n",
    "\n",
    "\n"
   ]
  },
  {
   "cell_type": "code",
   "execution_count": null,
   "metadata": {},
   "outputs": [],
   "source": [
    "# inserte su código aquí:\n",
    "\n"
   ]
  }
 ],
 "metadata": {
  "kernelspec": {
   "display_name": ".venv",
   "language": "python",
   "name": "python3"
  },
  "language_info": {
   "codemirror_mode": {
    "name": "ipython",
    "version": 3
   },
   "file_extension": ".py",
   "mimetype": "text/x-python",
   "name": "python",
   "nbconvert_exporter": "python",
   "pygments_lexer": "ipython3",
   "version": "3.9.19"
  }
 },
 "nbformat": 4,
 "nbformat_minor": 2
}

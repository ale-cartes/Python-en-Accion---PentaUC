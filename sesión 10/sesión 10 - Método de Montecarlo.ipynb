{
 "cells": [
  {
   "cell_type": "markdown",
   "metadata": {},
   "source": [
    "<div style=\"display: flex; justify-content: space-between; align-items: center;\">\n",
    "    <div style=\"display: flex; flex-direction: column;\">\n",
    "        <h1>Método de Montecarlo\n",
    "            <a href=\"https://colab.research.google.com/github/ale-cartes/Python-en-Accion---PentaUC/blob/main/sesión 10/sesión 10 - Método de Montecarlo.ipynb\" target=\"_parent\">\n",
    "            <img src=\"https://colab.research.google.com/assets/colab-badge.svg\" alt=\"Open In Colab\"/>\n",
    "            </a>\n",
    "        </h1>\n",
    "    </div>\n",
    "    <h3 style=\"margin: 0; white-space: nowrap;\">\n",
    "        <p>Prof.: Alejandro Cartes</p>\n",
    "        <p>Ayud.: Constanza Toro</p>\n",
    "    </h3>\n",
    "    <img src=\"https://academiadetalentos.uc.cl/wp-content/uploads/2024/01/cropped-ACADEMIA-TALENTOS-UC_02.png\" height=\"75px\">\n",
    "</div>\n",
    "\n",
    "---"
   ]
  },
  {
   "cell_type": "markdown",
   "metadata": {},
   "source": [
    "## Estimemos $\\pi$ (nuevamente)"
   ]
  },
  {
   "cell_type": "markdown",
   "metadata": {},
   "source": [
    "En la sesión 7/8 vimos la ecuación de la circunferencia\n",
    "\n",
    "$$ x^2 + y^2 = r^2$$\n",
    "\n",
    "Donde, al despejar $y$, obteníamos:\n",
    "$$ y = \\pm \\sqrt{r^2 - x^2}$$\n",
    "\n",
    "Donde $y_+$ representa al arco superior e $y_{-}$ representa al arco inferior"
   ]
  },
  {
   "cell_type": "code",
   "execution_count": null,
   "metadata": {},
   "outputs": [],
   "source": [
    "from IPython.display import IFrame\n",
    "IFrame(src=\"https://www.desmos.com/calculator/it0xgkcexj?embed\",\n",
    "       width=\"800\", height=\"500\", frameborder=\"0\")"
   ]
  },
  {
   "cell_type": "markdown",
   "metadata": {},
   "source": [
    "Como la circunferencia es una figura simétrica, el área de cada uno de los cuadrantes del círculo es igual.\n",
    "\n",
    "Dicho esto, inscribamos el primer cuadrante en un cuadrado de largo $r$"
   ]
  },
  {
   "cell_type": "code",
   "execution_count": null,
   "metadata": {},
   "outputs": [],
   "source": [
    "from IPython.display import IFrame\n",
    "IFrame(src=\"https://www.desmos.com/calculator/z6oenfrltd?embed\",\n",
    "       width=\"800\", height=\"500\", frameborder=\"0\")"
   ]
  },
  {
   "cell_type": "markdown",
   "metadata": {},
   "source": [
    "Con esto en mente, realizaremos nuestro experimento tipo Montecarlo."
   ]
  },
  {
   "cell_type": "markdown",
   "metadata": {},
   "source": [
    "Antes de continuar, importemos nuestras liberías\n",
    "\n",
    "| Paquete                | Descripción                          |\n",
    "|------------------------|--------------------------------------|\n",
    "| **numpy**              | para manipular arreglos              |\n",
    "| **numpy.random**       | para explorar n° aleatorios          |\n",
    "| **matplotlib.pyplot**  | para generar gráficos                |\n",
    "| **utils**              | funciones programadas para el curso  |"
   ]
  },
  {
   "cell_type": "code",
   "execution_count": null,
   "metadata": {},
   "outputs": [],
   "source": [
    "import numpy as np\n",
    "import numpy.random as np_rand\n",
    "import matplotlib.pyplot as plt\n",
    "\n",
    "import os\n",
    "if not os.path.isfile(\"utils.py\"):\n",
    "    link = (\"https://raw.githubusercontent.com/ale-cartes/\"\n",
    "            \"Python-en-Accion---PentaUC/refs/heads/main/utils.py\")\n",
    "    os.system(f\"wget {link}\")\n",
    "\n",
    "from utils import *"
   ]
  },
  {
   "cell_type": "markdown",
   "metadata": {},
   "source": [
    "Lancemos de forma uniforme dardos (puntos aleatorios) dentro del cuadrado.\n",
    "\n",
    "La posición de un dardo está dada por su coordenada $(x, y)$, donde $x$ e $y$ son números aleatorios generados uniformemente en el intervalo $[0, r]$"
   ]
  },
  {
   "cell_type": "code",
   "execution_count": null,
   "metadata": {},
   "outputs": [],
   "source": [
    "r = 1\n",
    "\n",
    "# Gráfico circunferencia - cuadrado implementado en utils.py\n",
    "# help(circ_en_cuadro)  # Descomentar si quiere revisar el docstring\n",
    "circ_en_cuadro(r)\n",
    "\n",
    "\n",
    "x_dardo = np_rand.uniform(0, r)\n",
    "y_dardo = np_rand.uniform(0, r)\n",
    "\n",
    "plt.scatter(x_dardo, y_dardo, color='red', s=15)\n",
    "# plt.plot(x_dardo, y_dardo, 'o', color='gray', ms=15)  # forma análoga"
   ]
  },
  {
   "cell_type": "markdown",
   "metadata": {},
   "source": [
    "### <font color=yellow> Análisis </font>\n",
    "\n",
    "- Ejecute la celda anterior varias veces. ¿Qué puede decir de la posición del dardo?\n",
    "- ¿Qué es más probable: que el dardo caiga **dentro** o **fuera** del arco de circunferencia?\n",
    "- Si queremos estandarizar el resultado, ¿qué deberíamos hacer?"
   ]
  },
  {
   "cell_type": "markdown",
   "metadata": {},
   "source": [
    "### <font color=yellow> Actividad </font>\n",
    "\n",
    "Notemos que:\n",
    "\n",
    "$$\\mathbb{P} (\\text{caer dentro}) = \\frac{\\text{n° de casos favorables}}{\\text{n° de casos totales}} = \\frac{\\text{Area}_{\\text{circ}}}{\\text{Area}_\\text{cuadro}}$$ \n",
    "\n",
    "Así\n",
    "$$\\frac{\\pi r^2 / 4}{\\text{Area}_\\text{cuadro}} = \\frac{\\text{n° de casos favorables}}{\\text{n° de casos totales}}$$\n",
    "\n",
    "Por lo que:\n",
    "\n",
    "$$ \\pi = \\frac{4}{r^2} \\cdot \\text{Area}_\\text{cuadro} \\cdot \\frac{\\text{n° de casos favorables}}{\\text{n° de casos totales}}$$"
   ]
  },
  {
   "cell_type": "markdown",
   "metadata": {},
   "source": [
    "Apoyados de la Ley de los Grandes Números, podemos obtener una aproximación de $\\pi$ **contando cuántos puntos caen dentro del círculo**. Para ello:"
   ]
  },
  {
   "cell_type": "markdown",
   "metadata": {},
   "source": [
    "1. Modifique la celda anterior para que, en vez de 1 dardo, se generen $n_{\\text{total}}=1.000.000$ dardos\n",
    "2. Para obtener resultados reproducibles, establezca una semilla a su elección"
   ]
  },
  {
   "cell_type": "code",
   "execution_count": null,
   "metadata": {},
   "outputs": [],
   "source": [
    "r = 1\n",
    "\n",
    "# Gráfico circunferencia - cuadrado implementado en utils.py\n",
    "circ_en_cuadro(r)\n",
    "\n",
    "\n",
    "# n_total = ...  # Descomente y complete los puntos suspensivos\n",
    "\n",
    "# ...  # Descomente y complete los puntos suspensivos con la semilla\n",
    "\n",
    "# x_dardo = np_rand.uniform(0, r, size=...)  # Descomente y complete los puntos suspensivos\n",
    "# y_dardo = np_rand.uniform(0, r, size=...)\n",
    "\n",
    "plt.scatter(x_dardo, y_dardo, color='red', s=1e-4)"
   ]
  },
  {
   "cell_type": "markdown",
   "metadata": {},
   "source": [
    "3. Cuente cuántos puntos caen dentro de la circunferencia. Note que un punto se considera dentro de la circunferencia si:\n",
    "\n",
    "$$ 0 \\leq y_{\\text{dardo}} \\leq  y_{+}(x_{\\text{dardo}})=\\sqrt{r^2-x_{\\text{dardo}}^2}$$"
   ]
  },
  {
   "cell_type": "code",
   "execution_count": null,
   "metadata": {},
   "outputs": [],
   "source": [
    "n_dentro = 0\n",
    "\n",
    "# for i in range(...):  # Descomente y complete los puntos suspensivos\n",
    "    # if ...:  # Descomente y complete los puntos suspensivos\n",
    "    #   n_dentro += 1\n",
    "\n",
    "print(f\"La cantidad de dardos dentro del círculo es: {n_dentro}\")"
   ]
  },
  {
   "cell_type": "markdown",
   "metadata": {},
   "source": [
    "- Calcule el número $\\pi$ con la expresión encontrada\n",
    "\n",
    "$$ \\pi = \\frac{4}{r^2} \\cdot \\text{Area}_\\text{cuadro} \\cdot \\frac{\\text{n° dentro}}{\\text{n° total}}$$"
   ]
  },
  {
   "cell_type": "code",
   "execution_count": null,
   "metadata": {},
   "outputs": [],
   "source": [
    "# A_total = ...  # Descomente y complete los puntos suspensivos\n",
    "# pi = ...  # Descomente y complete los puntos suspensivos\n",
    "\n",
    "# print(f\"Pi estimado: {pi}\")  # Descomente para ver el resultado"
   ]
  },
  {
   "cell_type": "markdown",
   "metadata": {},
   "source": [
    "### <font color=yellow> Actividad Avanzada </font>\n",
    "\n",
    "Resuma los pasos anteriores en una sola función llamada `pi_mc(n, seed, r=1)` que reciba como parámetros\n",
    "- `n`: la cantidad de puntos aleatorios\n",
    "- `seed`: una semilla a su elección para reproducir sus resultados\n",
    "- `r=1`: radio de la circunferencia\n",
    "\n",
    "No considere los gráficos, solo nos importa el valor numérico de $\\pi$"
   ]
  },
  {
   "cell_type": "code",
   "execution_count": null,
   "metadata": {},
   "outputs": [],
   "source": [
    "# su código va aquí\n",
    "\n",
    "def pi_mc(n, seed, r=1):\n",
    "    pass  # modifique esta función"
   ]
  },
  {
   "cell_type": "markdown",
   "metadata": {},
   "source": [
    "Considerando $n=100.000$, grafique el valor de $\\pi$ obtenido por `pi_mc` en función de la semilla"
   ]
  },
  {
   "cell_type": "code",
   "execution_count": null,
   "metadata": {},
   "outputs": [],
   "source": [
    "# su código va aquí"
   ]
  },
  {
   "cell_type": "markdown",
   "metadata": {},
   "source": [
    "Considerando una semilla a su elección, grafique el valor de $\\pi$ obtenido por `pi_mc` en función de $n$ (cantidad de puntos aleatorios)"
   ]
  },
  {
   "cell_type": "code",
   "execution_count": null,
   "metadata": {},
   "outputs": [],
   "source": [
    "# su código va aquí"
   ]
  }
 ],
 "metadata": {
  "kernelspec": {
   "display_name": ".venv",
   "language": "python",
   "name": "python3"
  },
  "language_info": {
   "codemirror_mode": {
    "name": "ipython",
    "version": 3
   },
   "file_extension": ".py",
   "mimetype": "text/x-python",
   "name": "python",
   "nbconvert_exporter": "python",
   "pygments_lexer": "ipython3",
   "version": "3.9.19"
  }
 },
 "nbformat": 4,
 "nbformat_minor": 2
}

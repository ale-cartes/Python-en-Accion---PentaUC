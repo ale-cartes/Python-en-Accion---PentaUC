{
 "cells": [
  {
   "cell_type": "markdown",
   "metadata": {},
   "source": [
    "<div style=\"display: flex; justify-content: space-between; align-items: center;\">\n",
    "    <div style=\"display: flex; flex-direction: column;\">\n",
    "        <h1>Introducción a Python y a su Sintaxis\n",
    "            <a href=\"https://colab.research.google.com/github/ale-cartes/Python-en-Accion---PentaUC/blob/main/sesión 3/Sesión 3 - Introduccion a Python.ipynb\" target=\"_parent\">\n",
    "                <img src=\"https://colab.research.google.com/assets/colab-badge.svg\" alt=\"Open In Colab\"/>\n",
    "            </a>\n",
    "        </h1>\n",
    "    </div>\n",
    "    <h3 style=\"margin: 0; white-space: nowrap;\">\n",
    "        <p>Prof.: Alejandro Cartes</p>\n",
    "        <p>Ayud.: Laura Aspee</p>\n",
    "    </h3>\n",
    "    <img src=\"https://academiadetalentos.uc.cl/wp-content/uploads/2024/01/cropped-ACADEMIA-TALENTOS-UC_02.png\" height=\"75px\">\n",
    "</div>\n",
    "\n",
    "---"
   ]
  },
  {
   "cell_type": "markdown",
   "metadata": {},
   "source": [
    "### `lambda`"
   ]
  },
  {
   "cell_type": "markdown",
   "metadata": {},
   "source": [
    "\n",
    "En la sesión anterior introdujimos lo que son las funciones. Hay veces que necesitamos definir una función que tendrá un uso acotado y no buscamos crear una definición tan extensa. Para ello, Python cuenta con una función llamada `lambda`\n",
    "\n",
    "<font color=\"green\">Sintaxis</font>\n",
    "\n",
    "```python\n",
    "lambda inputs: expresión que use los inputs\n",
    "```\n",
    "\n",
    "Las funciones `lambda` son funciones anónimas, es decir, funciones sin nombre. Se utilizan principalmente para operaciones simples y rápidas."
   ]
  },
  {
   "cell_type": "code",
   "execution_count": 1,
   "metadata": {},
   "outputs": [
    {
     "name": "stdout",
     "output_type": "stream",
     "text": [
      "5\n",
      "16\n",
      "True\n",
      "False\n"
     ]
    }
   ],
   "source": [
    "# Función lambda que suma dos números\n",
    "suma = lambda x, y: x + y\n",
    "print(suma(2, 3))  # Imprime: 5\n",
    "\n",
    "# Función lambda que eleva un número al cuadrado\n",
    "cuadrado = lambda x: x**2\n",
    "print(cuadrado(4))  # Imprime: 16\n",
    "\n",
    "# Función lambda que verifica si un número es par\n",
    "es_par = lambda x: x % 2 == 0\n",
    "print(es_par(4))  # Imprime: True\n",
    "print(es_par(5))  # Imprime: False"
   ]
  },
  {
   "cell_type": "markdown",
   "metadata": {},
   "source": [
    "## <ins>Estructuras de Datos</ins>\n",
    "\n",
    "Python ofrece varias estructuras de datos integradas que permiten almacenar y manipular colecciones de datos de manera eficiente. Entre las más utilizadas se encuentran las listas y los diccionarios"
   ]
  },
  {
   "cell_type": "markdown",
   "metadata": {},
   "source": [
    "### Listas"
   ]
  },
  {
   "cell_type": "markdown",
   "metadata": {},
   "source": [
    "\n",
    "Las listas son colecciones ordenadas y **mutables** de elementos. Se definen usando corchetes `[]` y sus elementos se separan con `,`. Los elementos no necesariamente tienen que ser del mismo tipo\n",
    "\n",
    "En Python, las listas son de tipo `list`"
   ]
  },
  {
   "cell_type": "code",
   "execution_count": 2,
   "metadata": {},
   "outputs": [
    {
     "name": "stdout",
     "output_type": "stream",
     "text": [
      "[1, 4, 9, 16, 25]\n",
      "Tipo de la lista cuadrados: <class 'list'>\n"
     ]
    }
   ],
   "source": [
    "# Definición de una lista\n",
    "cuadrados = [1, 4, 9, 16, 25]\n",
    "\n",
    "print(cuadrados)\n",
    "print(f\"Tipo de la lista cuadrados: {type(cuadrados)}\")\n",
    "\n",
    "# lista vacía\n",
    "lista_vacia = []"
   ]
  },
  {
   "cell_type": "code",
   "execution_count": 3,
   "metadata": {},
   "outputs": [],
   "source": [
    "# lista con elementos de distintos tipos\n",
    "lista_distintos_tipos = [1, 2.5, 'cadena', [5, 6], lambda x: 2*x - 5]"
   ]
  },
  {
   "cell_type": "markdown",
   "metadata": {},
   "source": [
    "#### Indexación\n",
    "\n",
    "Las listas están **indexadas**, lo que significa que los elementos de una lista tienen un índice asociado.\n",
    "\n",
    "Este índice para listas es de carácter numérico, asociado a la posición del elemento dentro de la lista.\\\n",
    "**Python comienza a contar desde 0**. Por lo tanto:\n",
    "\n",
    "- El índice `0` se refiere al 1er elemento\n",
    "- El índice `1` se refiere al 2do elemento\n",
    "- El índice `2` se refiere al 3er elemento\n",
    "- Y así sucesivamente\n",
    "\n",
    "<font color=\"green;\">Sintaxis</font>\n",
    "\n",
    "```python\n",
    "lista[i] = elemento_i\n",
    "```"
   ]
  },
  {
   "cell_type": "code",
   "execution_count": 4,
   "metadata": {},
   "outputs": [
    {
     "name": "stdout",
     "output_type": "stream",
     "text": [
      "El elemento en la posición 0 es: 1\n"
     ]
    }
   ],
   "source": [
    "lista_numeros = [1, 2, 3, 4, 5]\n",
    "\n",
    "# Acceso a los elementos de una lista\n",
    "indice = 0\n",
    "elemento_i = lista_numeros[indice]\n",
    "print(f\"El elemento en la posición {indice} es: {elemento_i}\")\n",
    "\n",
    "# qué pasa si intentamos acceder a un índice que no existe? -> IndexError"
   ]
  },
  {
   "cell_type": "markdown",
   "metadata": {},
   "source": [
    "##### <font color=\"yellow\">Actividad</font>\n",
    "\n",
    "Considere la función `len` de Python\n",
    "\n",
    "- ¿Qué es lo que realiza esta función?\n",
    "- ¿Cómo la podría usar para determinar el último elemento de una lista?"
   ]
  },
  {
   "cell_type": "code",
   "execution_count": 5,
   "metadata": {},
   "outputs": [],
   "source": [
    "# Responda como comentario aquí"
   ]
  },
  {
   "cell_type": "markdown",
   "metadata": {},
   "source": [
    "Considere la lista que está definida en la celda siguiente `lista_actividad`\n",
    "- ¿Cuál es el largo de la lista?\n",
    "- ¿Cuál es su último valor almacenado?\n",
    "- ¿Y el primero?\n",
    "\n",
    "Compare sus respuestas con sus compañer@s\\\n",
    "Realice un `print` con su respuesta que incluya un breve mensaje explicativo"
   ]
  },
  {
   "cell_type": "code",
   "execution_count": 6,
   "metadata": {},
   "outputs": [],
   "source": [
    "def lista_random(seed=42, bound=100):\n",
    "    \"\"\"\n",
    "    Función que genera una lista de largo aleatorio que contiene números\n",
    "    enteros aleatorios\n",
    "    \n",
    "    Input:\n",
    "    ------\n",
    "    seed (opcional): int - Semilla para el generador de números aleatorios\n",
    "    bound (opcional): int - Rango de los números aleatorios [-bound, bound]\n",
    "                            y el largo de la lista [1, bound]\n",
    "                            \n",
    "    Output:\n",
    "    -------\n",
    "    list - Lista de largo aleatorio de números enteros aleatorios\n",
    "    \"\"\"\n",
    "    # ya veremos más adelante como funciona esto :)\n",
    "    # por ahora, solo necesita saber que genera números aleatorios\n",
    "    # Si está interesado, puede investigar sobre el módulo random de Python\n",
    "    \n",
    "    import random\n",
    "    random.seed(seed)\n",
    "    \n",
    "    length = random.randint(1, bound)\n",
    "    return [random.randint(-bound, bound) for _ in range(length)]\n",
    "\n",
    "lista_actividad = lista_random()\n",
    "\n",
    "# su código va aquí"
   ]
  },
  {
   "cell_type": "markdown",
   "metadata": {},
   "source": [
    "#### Indexación negativa"
   ]
  },
  {
   "cell_type": "markdown",
   "metadata": {},
   "source": [
    "En Python, además de los índices positivos, también podemos usar índices negativos para acceder a los elementos de una lista. Los índices negativos permiten contar desde el final de la secuencia hacia el principio.\n",
    "\n",
    "- El índice `-1` se refiere al último elemento.\n",
    "- El índice `-2` se refiere al penúltimo elemento.\n",
    "- Y así sucesivamente.\n",
    "\n",
    "Estos índices permiten acceder rápidamente a los elementos al final de una secuencia sin necesidad de calcular su longitud."
   ]
  },
  {
   "cell_type": "code",
   "execution_count": 7,
   "metadata": {},
   "outputs": [
    {
     "name": "stdout",
     "output_type": "stream",
     "text": [
      "El elemento en la posición -1 es: -7\n",
      "El elemento en la posición 81 es: -7\n"
     ]
    }
   ],
   "source": [
    "lista_numeros = lista_actividad\n",
    "\n",
    "# Acceso a los elementos de una lista\n",
    "i = -1\n",
    "elemento_i = lista_numeros[i]\n",
    "print(f\"El elemento en la posición {i} es: {elemento_i}\")\n",
    "\n",
    "# para verificar que sea el último elemento de la lista\n",
    "print(f\"El elemento en la posición {len(lista_numeros)-1} es: {elemento_i}\")"
   ]
  },
  {
   "cell_type": "markdown",
   "metadata": {},
   "source": [
    "#### Slicing\n",
    "\n",
    "Además de los índices, contamos con algo denominado `slicing`. Mientras que la indexación se utiliza para obtener elementos individuales, **slicing** permite obtener una sublista\n",
    "\n",
    "\n",
    "<font color=\"green;\">Sintaxis</font>\n",
    "\n",
    "```python\n",
    "lista[start:]\n",
    "lista[:stop]\n",
    "lista[start:stop]\n",
    "lista[start:stop:step]\n",
    "```\n",
    "\n",
    "- **start**: Índice de inicio (el elemento siempre es incluido).\n",
    "- **stop**: Índice de fin (el elemento siempre es excluido).\n",
    "- **step**: Paso o intervalo entre elementos (opcional, step=1 por default)."
   ]
  },
  {
   "cell_type": "code",
   "execution_count": 8,
   "metadata": {},
   "outputs": [
    {
     "name": "stdout",
     "output_type": "stream",
     "text": [
      "Lista original:\n",
      "[1, 2, 3, 4, 5, 6, 7, 8, 9, 10]\n",
      "\n",
      "Sublista desde el índice 2 hasta el 5 (excluido):\n",
      "[3, 4, 5]\n"
     ]
    }
   ],
   "source": [
    "lista = [1, 2, 3, 4, 5, 6, 7, 8, 9, 10]\n",
    "\n",
    "# Obtener una sublista desde el índice 2 hasta el 5 (excluido)\n",
    "sublista = lista[2:5]\n",
    "\n",
    "print(f\"Lista original:\\n{lista}\")\n",
    "print(f\"\\nSublista desde el índice 2 hasta el 5 (excluido):\\n{sublista}\")\n",
    "\n",
    "# notar que step=1 por defecto"
   ]
  },
  {
   "cell_type": "code",
   "execution_count": 9,
   "metadata": {},
   "outputs": [
    {
     "name": "stdout",
     "output_type": "stream",
     "text": [
      "Lista original:\n",
      "[1, 2, 3, 4, 5, 6, 7, 8, 9, 10]\n",
      "\n",
      "Sublista desde el inicio hasta el índice 5 (excluido):\n",
      "[1, 2, 3, 4, 5]\n"
     ]
    }
   ],
   "source": [
    "lista = [1, 2, 3, 4, 5, 6, 7, 8, 9, 10]\n",
    "\n",
    "# Obtener una sublista desde el inicio hasta el índice 5 (excluido)\n",
    "sublista = lista[:5]\n",
    "\n",
    "print(f\"Lista original:\\n{lista}\")\n",
    "print(f\"\\nSublista desde el inicio hasta el índice 5 (excluido):\\n{sublista}\")"
   ]
  },
  {
   "cell_type": "code",
   "execution_count": 10,
   "metadata": {},
   "outputs": [
    {
     "name": "stdout",
     "output_type": "stream",
     "text": [
      "Lista original:\n",
      "[1, 2, 3, 4, 5, 6, 7, 8, 9, 10]\n",
      "\n",
      "Sublista desde el índice 5 hasta el final:\n",
      "[6, 7, 8, 9, 10]\n"
     ]
    }
   ],
   "source": [
    "lista = [1, 2, 3, 4, 5, 6, 7, 8, 9, 10]\n",
    "\n",
    "# Obtener una sublista desde el índice 5 hasta el final\n",
    "\n",
    "sublista = lista[5:]\n",
    "\n",
    "print(f\"Lista original:\\n{lista}\")\n",
    "print(f\"\\nSublista desde el índice 5 hasta el final:\\n{sublista}\")"
   ]
  },
  {
   "cell_type": "markdown",
   "metadata": {},
   "source": [
    "¿Por qué no se considera el último elemento?\\\n",
    "Porque esto asegura lo siguiente\n",
    "\n",
    "Sea una lista `s`:\n",
    "- Si unimos `s[:i]` y `s[i:]` siempre será igual a `s`"
   ]
  },
  {
   "cell_type": "code",
   "execution_count": 11,
   "metadata": {},
   "outputs": [
    {
     "name": "stdout",
     "output_type": "stream",
     "text": [
      "lista original:\n",
      "[1, 2, 3, 4, 5, 6, 7, 8, 9, 10]\n",
      "\n",
      "union de las sublitas:\n",
      "[1, 2, 3, 4, 5, 6, 7, 8, 9, 10]\n",
      "\n",
      "¿Es la unión igual a la lista? True\n"
     ]
    }
   ],
   "source": [
    "i = 23\n",
    "union = lista[:i] + lista[i:]  # +: concatena las listas\n",
    "\n",
    "print(f\"lista original:\\n{lista}\", end=\"\\n\\n\")  # \"\\n\" es un salto de línea\n",
    "print(f\"union de las sublitas:\\n{union}\", end=\"\\n\\n\")\n",
    "print(f\"¿Es la unión igual a la lista? {union == lista}\")\n",
    "\n",
    "# note que es independiente de i (pruebe con distintos valores)\n",
    "# esto porque slice permite índices fuera de rango"
   ]
  },
  {
   "cell_type": "code",
   "execution_count": 12,
   "metadata": {},
   "outputs": [
    {
     "name": "stdout",
     "output_type": "stream",
     "text": [
      "[1, 3, 5, 7, 9]\n"
     ]
    }
   ],
   "source": [
    "# Obtener una sublista con un paso de 2\n",
    "sublista = lista[0:-1:2]\n",
    "print(sublista)\n",
    "\n",
    "# si se quiere empezar desde el inicio y terminar en el final\n",
    "# se puede omitir los índices\n",
    "sublista = lista[::2]"
   ]
  },
  {
   "cell_type": "markdown",
   "metadata": {},
   "source": [
    "A modo de resumen:\n",
    "\n",
    "<img src=\"https://numpy.org/doc/stable/_images/np_indexing.png\">"
   ]
  },
  {
   "cell_type": "markdown",
   "metadata": {},
   "source": [
    "#### Modificación de Contenido\n",
    "\n",
    "Como se mencionó anteriormente, las listas son mutables, es decir, es posible cambiar el contenido almacenado en ellas"
   ]
  },
  {
   "cell_type": "code",
   "execution_count": 13,
   "metadata": {},
   "outputs": [
    {
     "name": "stdout",
     "output_type": "stream",
     "text": [
      "Lista original:\n",
      "[0, 1, 2, 3, 4, 5]\n",
      "\n",
      "Lista luego de modificar el 4° elemento:\n",
      "[0, 1, 2, '😎', 4, 5]\n"
     ]
    }
   ],
   "source": [
    "# consideremos la siguiente lista\n",
    "lista = [0, 1, 2, 3, 4, 5]\n",
    "print(f\"Lista original:\\n{lista}\\n\")\n",
    "\n",
    "# reemplacemos un elemento por un emoji\n",
    "indice, nuevo_elemento = 3, \"\\U0001F60E\"  # unicode para emoji\n",
    "lista[indice] = nuevo_elemento\n",
    "print(f\"Lista luego de modificar el {indice + 1}° elemento:\\n{lista}\")"
   ]
  },
  {
   "cell_type": "code",
   "execution_count": 14,
   "metadata": {},
   "outputs": [
    {
     "name": "stdout",
     "output_type": "stream",
     "text": [
      "Lista original:\n",
      "[0, 1, 2, 3, 4, 5]\n",
      "\n",
      "Lista luego de modificar del 3° al 5° elemento:\n",
      "[0, 1, '👾', '👾', '👾', 5]\n"
     ]
    }
   ],
   "source": [
    "lista = [0, 1, 2, 3, 4, 5]\n",
    "print(f\"Lista original:\\n{lista}\\n\")\n",
    "\n",
    "# reemplacemos un rango de elementos por emojis\n",
    "inicio, fin = 2, 5\n",
    "nuevos_elementos = [\"\\U0001F47E\"] * (fin - inicio)  # emojis\n",
    "lista[inicio:fin] = nuevos_elementos\n",
    "\n",
    "print(f\"Lista luego de modificar del {inicio + 1}° al {fin}° elemento:\\n{lista}\")\n",
    "# notemos que `fin` no es incluido"
   ]
  },
  {
   "cell_type": "markdown",
   "metadata": {},
   "source": [
    "#### Operaciones comunes\n",
    "\n",
    "Las listas cuentan con varias funciones que pueden explorar en detalle en la documentación de python: [Documentación de Listas](https://docs.python.org/es/3/tutorial/datastructures.html)\n",
    "\n",
    "Veamos algunas de las más comunes:"
   ]
  },
  {
   "cell_type": "code",
   "execution_count": 15,
   "metadata": {},
   "outputs": [
    {
     "name": "stdout",
     "output_type": "stream",
     "text": [
      "Lista 1: [1, 2, 3]\n",
      "Lista 2: [4, 5, 6]\n",
      "\n",
      "Lista concatenada:\n",
      "[1, 2, 3, 4, 5, 6]\n"
     ]
    }
   ],
   "source": [
    "# +: Concatenar listas\n",
    "\n",
    "lista_1 = [1, 2, 3]\n",
    "print(f\"Lista 1: {lista_1}\")\n",
    "\n",
    "lista_2 = [4, 5, 6]\n",
    "print(f\"Lista 2: {lista_2}\")\n",
    "\n",
    "lista_concatenada = lista_1 + lista_2\n",
    "print(f\"\\nLista concatenada:\\n{lista_concatenada}\")"
   ]
  },
  {
   "cell_type": "code",
   "execution_count": 16,
   "metadata": {},
   "outputs": [
    {
     "name": "stdout",
     "output_type": "stream",
     "text": [
      "Lista original: [1, 2, 3]\n",
      "\n",
      "Lista repetida 3 veces:\n",
      "[1, 2, 3, 1, 2, 3, 1, 2, 3]\n"
     ]
    }
   ],
   "source": [
    "# *: Repetir lista\n",
    "\n",
    "lista = [1, 2, 3]\n",
    "print(f\"Lista original: {lista}\")\n",
    "\n",
    "repeticiones = 3  # cantidad de veces que se repetirá la lista (debe ser entero)\n",
    "lista_repetida = lista * repeticiones\n",
    "print(f\"\\nLista repetida {repeticiones} veces:\\n{lista_repetida}\")"
   ]
  },
  {
   "cell_type": "code",
   "execution_count": 17,
   "metadata": {},
   "outputs": [
    {
     "name": "stdout",
     "output_type": "stream",
     "text": [
      "La lista [1, 2, 3, 4, 5] tiene 5 elementos\n"
     ]
    }
   ],
   "source": [
    "# len: largo de la lista\n",
    "\n",
    "lista = [1, 2, 3, 4, 5]\n",
    "largo = len(lista)\n",
    "\n",
    "print(f\"La lista {lista} tiene {largo} elementos\")"
   ]
  },
  {
   "cell_type": "code",
   "execution_count": 18,
   "metadata": {},
   "outputs": [
    {
     "name": "stdout",
     "output_type": "stream",
     "text": [
      "Lista orginal:\n",
      "[1, 2, 3, 4, 5]\n",
      "\n",
      "Lista después de agregar el elemento 27:\n",
      "[1, 2, 3, 4, 5, 27]\n"
     ]
    }
   ],
   "source": [
    "# .append: agregar elementos al final de una lista\n",
    "\n",
    "lista = [1, 2, 3, 4, 5]\n",
    "print(f\"Lista orginal:\\n{lista}\")\n",
    "\n",
    "elemento = 27\n",
    "lista.append(elemento)\n",
    "print(f\"\\nLista después de agregar el elemento {elemento}:\\n{lista}\")\n",
    "\n",
    "# notar que lista se modificó, pues ya no es como era originalmente"
   ]
  },
  {
   "cell_type": "code",
   "execution_count": 19,
   "metadata": {},
   "outputs": [
    {
     "name": "stdout",
     "output_type": "stream",
     "text": [
      "Lista orginal:\n",
      "[1, 2, 3, 4, 5]\n",
      "\n",
      "Lista tras insertar el elemento -57 en la posición 2:\n",
      "[1, 2, -57, 3, 4, 5]\n"
     ]
    }
   ],
   "source": [
    "# .insert: agregar elementos en una posición específica\n",
    "\n",
    "lista = [1, 2, 3, 4, 5]\n",
    "print(f\"Lista orginal:\\n{lista}\", end=\"\\n\")\n",
    "\n",
    "elemento = -57\n",
    "posicion = 2\n",
    "lista.insert(posicion, elemento)\n",
    "\n",
    "print(f\"\\nLista tras insertar el elemento {elemento} en la posición {posicion}\"\n",
    "      f\":\\n{lista}\")\n",
    "\n",
    "# notar que lista se modificó, pues ya no es como era originalmente"
   ]
  },
  {
   "cell_type": "code",
   "execution_count": 20,
   "metadata": {},
   "outputs": [
    {
     "name": "stdout",
     "output_type": "stream",
     "text": [
      "Lista orginal:\n",
      "[1, 2, 3, 4, 3, 5, 4, 2, 2]\n",
      "\n",
      "Lista después de eliminar el elemento 3:\n",
      "[1, 2, 4, 3, 5, 4, 2, 2]\n"
     ]
    }
   ],
   "source": [
    "# .remove: elimina la primera ocurrencia de un elemento\n",
    "\n",
    "lista = [1, 2, 3, 4, 3, 5, 4, 2, 2]\n",
    "print(f\"Lista orginal:\\n{lista}\")\n",
    "\n",
    "elemento_a_eliminar = 3\n",
    "lista.remove(elemento_a_eliminar)\n",
    "print(f\"\\nLista después de eliminar el elemento {elemento_a_eliminar}:\"\n",
    "      f\"\\n{lista}\")\n",
    "\n",
    "# notar que lista se modificó, pues ya no es como era originalmente"
   ]
  },
  {
   "cell_type": "code",
   "execution_count": 21,
   "metadata": {},
   "outputs": [
    {
     "name": "stdout",
     "output_type": "stream",
     "text": [
      "Dada la lista [1, 2, 3, 4, 5], su minimo es 1 y su máximo es 5\n",
      "Y la suma de sus elementos es: 15\n"
     ]
    }
   ],
   "source": [
    "# min: mínimo de una lista\n",
    "lista = [1, 2, 3, 4, 5]\n",
    "minimo = min(lista)\n",
    "\n",
    "# max: máximo de una lista\n",
    "maximo = max(lista)\n",
    "\n",
    "print(f\"Dada la lista {lista}, su minimo es {minimo} y su máximo es {maximo}\")\n",
    "\n",
    "# sum: suma de los elementos de una lista\n",
    "suma = sum(lista)\n",
    "print(f\"Y la suma de sus elementos es: {suma}\")"
   ]
  },
  {
   "cell_type": "code",
   "execution_count": 22,
   "metadata": {},
   "outputs": [
    {
     "name": "stdout",
     "output_type": "stream",
     "text": [
      "¿El elemento 5 está en la lista? True\n"
     ]
    }
   ],
   "source": [
    "# in: verificar si un elemento está en la lista\n",
    "\n",
    "lista = [1, 2, 3, 4, 5]\n",
    "\n",
    "elemento = 5\n",
    "esta_en_lista = elemento in lista\n",
    "print(f\"¿El elemento {elemento} está en la lista? {esta_en_lista}\")"
   ]
  },
  {
   "cell_type": "markdown",
   "metadata": {},
   "source": [
    "### Diccionarios"
   ]
  },
  {
   "cell_type": "markdown",
   "metadata": {},
   "source": [
    "Los **diccionarios** en Python son estructuras de datos que permiten almacenar **pares de clave-valor**. Son muy útiles cuando necesitas asociar una clave única a un valor específico y acceder a estos valores de manera eficiente.\n",
    "\n",
    "Se definen usando paréntesis de llave `{}` y los pares clave-valor se separan por comas `,`. Cada clave se asocia a un valor usando el operador `:`\n",
    "\n",
    "En Python, las listas son de tipo `dict`"
   ]
  },
  {
   "cell_type": "code",
   "execution_count": 23,
   "metadata": {},
   "outputs": [
    {
     "name": "stdout",
     "output_type": "stream",
     "text": [
      "{'nombre': 'Arthur', 'apellido': 'Morgan', 'edad': 36, 'ocupación': 'Forajido', 'afiliación': 'Banda de Dutch van der Linde', 'personalidad': ['Leal', 'Valiente', 'Compasivo'], 'habilidades': ['Tiro con arco', 'Equitación', 'Caza', 'Combate cuerpo a cuerpo']}\n",
      "Tipo del dicc. dict_personaje: <class 'dict'>\n"
     ]
    }
   ],
   "source": [
    "# Definición de un diccionario\n",
    "dict_personaje = {\"nombre\": \"Arthur\", \"apellido\": \"Morgan\", \"edad\": 36,\n",
    "                  \"ocupación\": \"Forajido\",\n",
    "                  \"afiliación\": \"Banda de Dutch van der Linde\",\n",
    "                  \"personalidad\": [\"Leal\", \"Valiente\", \"Compasivo\"],\n",
    "                  \"habilidades\": [\"Tiro con arco\", \"Equitación\", \"Caza\",\n",
    "                                  \"Combate cuerpo a cuerpo\"]\n",
    "                  }\n",
    "\n",
    "print(dict_personaje)\n",
    "print(f\"Tipo del dicc. dict_personaje: {type(dict_personaje)}\")\n",
    "\n",
    "# diccionario vacío\n",
    "dict_vacio = {}"
   ]
  },
  {
   "cell_type": "code",
   "execution_count": 24,
   "metadata": {},
   "outputs": [
    {
     "name": "stdout",
     "output_type": "stream",
     "text": [
      "{'nombre': 'Arthur', 'apellido': 'Morgan', 'edad': 36}\n"
     ]
    }
   ],
   "source": [
    "# o si es es un diccionario más corto, se puede escribir en una sola línea\n",
    "# con la función dict\n",
    "\n",
    "dict_personaje_resumido = dict(nombre=\"Arthur\", apellido=\"Morgan\", edad=36)\n",
    "print(dict_personaje_resumido)"
   ]
  },
  {
   "cell_type": "markdown",
   "metadata": {},
   "source": [
    "#### Indexación"
   ]
  },
  {
   "cell_type": "markdown",
   "metadata": {},
   "source": [
    "A diferencia de las listas, que se indexan mediante un rango numérico, los diccionarios se indexan por *claves*, que son de carácter **inmutables**\n",
    "\n",
    "Para acceder a los valores en un diccionario, se utiliza la clave entre corchetes `[]`"
   ]
  },
  {
   "cell_type": "code",
   "execution_count": 25,
   "metadata": {},
   "outputs": [
    {
     "name": "stdout",
     "output_type": "stream",
     "text": [
      "El nombre del personaje es: Arthur Morgan\n",
      "Es un Forajido\n"
     ]
    }
   ],
   "source": [
    "nombre = dict_personaje[\"nombre\"]\n",
    "apellido = dict_personaje[\"apellido\"]\n",
    "ocupación = dict_personaje[\"ocupación\"]\n",
    "\n",
    "print(f\"El nombre del personaje es: {nombre} {apellido}\",\n",
    "      f\"Es un {ocupación}\", sep=\"\\n\")"
   ]
  },
  {
   "cell_type": "markdown",
   "metadata": {},
   "source": [
    "#### Agregar o modificar elementos"
   ]
  },
  {
   "cell_type": "markdown",
   "metadata": {},
   "source": [
    "Se puede agregar un nuevo par clave-valor o modificar uno existente utilizando la clave"
   ]
  },
  {
   "cell_type": "code",
   "execution_count": 26,
   "metadata": {},
   "outputs": [
    {
     "name": "stdout",
     "output_type": "stream",
     "text": [
      "Diccionario original:\n",
      "{1: 'uno', 2: 'dos', 3: 'tres'}\n",
      "\n",
      "Diccionario tras agregar la clave 4.5 con valor cinco:\n",
      "{1: 'uno', 2: 'dos', 3: 'tres', 4.5: 'cinco'}\n",
      "\n",
      "Diccionario tras corregir el valor de la clave 4.5:\n",
      "{1: 'uno', 2: 'dos', 3: 'tres', 4.5: 'cuatro.cinco'}\n"
     ]
    }
   ],
   "source": [
    "dict_original = {1: \"uno\", 2: \"dos\", 3: \"tres\"}\n",
    "print(f\"Diccionario original:\\n{dict_original}\")\n",
    "\n",
    "nueva_clave = 4.5\n",
    "nuevo_valor = \"cinco\"\n",
    "dict_original[nueva_clave] = nuevo_valor\n",
    "\n",
    "print(f\"\\nDiccionario tras agregar la clave {nueva_clave} \"\n",
    "      f\"con valor {nuevo_valor}:\\n{dict_original}\")\n",
    "\n",
    "nuevo_valor_correcto = \"cuatro.cinco\"\n",
    "dict_original[nueva_clave] = nuevo_valor_correcto\n",
    "print(f\"\\nDiccionario tras corregir el valor de la clave {nueva_clave}:\\n{dict_original}\")\n",
    "\n",
    "# notar que los diccionarios son mutables, pues se modificó dict_original"
   ]
  },
  {
   "cell_type": "markdown",
   "metadata": {},
   "source": [
    "#### Operaciones comunes\n",
    "\n",
    "Los diccionarios cuentan con varias funciones que pueden explorar en detalle en la documentación de python: [Documentación de Diccionarios](https://docs.python.org/es/3/library/stdtypes.html#mapping-types-dict)\n",
    "\n",
    "Veamos algunas de las más comunes:"
   ]
  },
  {
   "cell_type": "code",
   "execution_count": 27,
   "metadata": {},
   "outputs": [
    {
     "name": "stdout",
     "output_type": "stream",
     "text": [
      "Lista de claves del diccionario dict_personaje:\n",
      "['nombre', 'apellido', 'edad', 'ocupación', 'afiliación', 'personalidad', 'habilidades']\n"
     ]
    }
   ],
   "source": [
    "# .keys(): Obtener todas las claves\n",
    "\n",
    "claves = dict_personaje.keys()\n",
    "claves = list(claves)  # convertir a lista para visualización\n",
    "print(f\"Lista de claves del diccionario dict_personaje:\\n{claves}\") "
   ]
  },
  {
   "cell_type": "code",
   "execution_count": 28,
   "metadata": {},
   "outputs": [
    {
     "name": "stdout",
     "output_type": "stream",
     "text": [
      "Lista de valores del diccionario dict_personaje:\n",
      "['Arthur', 'Morgan', 36, 'Forajido', 'Banda de Dutch van der Linde', ['Leal', 'Valiente', 'Compasivo'], ['Tiro con arco', 'Equitación', 'Caza', 'Combate cuerpo a cuerpo']]\n"
     ]
    }
   ],
   "source": [
    "# .values(): Obtener todos los valores\n",
    "\n",
    "valores = dict_personaje.values()\n",
    "valores = list(valores)  # convertir a lista para visualización\n",
    "print(f\"Lista de valores del diccionario dict_personaje:\\n{valores}\")"
   ]
  },
  {
   "cell_type": "code",
   "execution_count": 29,
   "metadata": {},
   "outputs": [
    {
     "name": "stdout",
     "output_type": "stream",
     "text": [
      "Lista de pares clave-valor del diccionario dict_personaje:\n",
      "[('nombre', 'Arthur'), ('apellido', 'Morgan'), ('edad', 36), ('ocupación', 'Forajido'), ('afiliación', 'Banda de Dutch van der Linde'), ('personalidad', ['Leal', 'Valiente', 'Compasivo']), ('habilidades', ['Tiro con arco', 'Equitación', 'Caza', 'Combate cuerpo a cuerpo'])]\n"
     ]
    }
   ],
   "source": [
    "# .items(): Obtener todos los pares clave-valor\n",
    "\n",
    "pares = dict_personaje.items()\n",
    "pares = list(pares)  # convertir a lista para visualización\n",
    "print(f\"Lista de pares clave-valor del diccionario dict_personaje:\\n{pares}\")\n"
   ]
  },
  {
   "cell_type": "markdown",
   "metadata": {},
   "source": [
    "## <ins>Sentencias Iterativas</ins>"
   ]
  },
  {
   "cell_type": "markdown",
   "metadata": {},
   "source": [
    "### Ciclo `for`"
   ]
  },
  {
   "cell_type": "markdown",
   "metadata": {},
   "source": [
    "#### Definición\n",
    "\n",
    "El ciclo `for` en Python es una herramienta fundamental que permite iterar sobre una secuencia (como una lista, string, rango de números) y ejecutar un bloque de código repetidamente para cada elemento de la secuencia.\n",
    "\n",
    "<font color=\"green;\">Sintaxis</font>\n",
    "\n",
    "```python\n",
    "for elemento in secuencia:\n",
    "    # Bloque de código a ejecutar para cada elemento\n",
    "```"
   ]
  },
  {
   "cell_type": "code",
   "execution_count": 30,
   "metadata": {},
   "outputs": [
    {
     "name": "stdout",
     "output_type": "stream",
     "text": [
      "elemento: 1\n",
      "tipo: <class 'int'>\n",
      "\n",
      "elemento: 2.5\n",
      "tipo: <class 'float'>\n",
      "\n",
      "elemento: cadena\n",
      "tipo: <class 'str'>\n",
      "\n",
      "elemento: [5, 6]\n",
      "tipo: <class 'list'>\n",
      "\n",
      "elemento: <function <lambda> at 0x000001C981DBDDC0>\n",
      "tipo: <class 'function'>\n",
      "\n"
     ]
    }
   ],
   "source": [
    "lista_distintos_tipos = [1, 2.5, 'cadena', [5, 6], lambda x: 2*x - 5]\n",
    "\n",
    "for elemento in lista_distintos_tipos:\n",
    "    tipo = type(elemento)\n",
    "    \n",
    "    print(f\"elemento: {elemento}\")\n",
    "    print(f\"tipo: {tipo}\")\n",
    "    print()"
   ]
  },
  {
   "cell_type": "code",
   "execution_count": 31,
   "metadata": {},
   "outputs": [
    {
     "name": "stdout",
     "output_type": "stream",
     "text": [
      "1^2 = 1\n",
      "2^2 = 4\n",
      "3^2 = 9\n",
      "4^2 = 16\n",
      "5^2 = 25\n",
      "6^2 = 36\n",
      "7^2 = 49\n",
      "8^2 = 64\n"
     ]
    }
   ],
   "source": [
    "lista_numeros = [1, 2, 3, 4, 5, 6, 7, 8]\n",
    "\n",
    "for numero in lista_numeros:\n",
    "    cuadrado = numero ** 2\n",
    "    print(f\"{numero}^2 = {cuadrado}\")"
   ]
  },
  {
   "cell_type": "markdown",
   "metadata": {},
   "source": [
    "#### `range`\n",
    "\n",
    "Para generar una secuencia de números, Python cuenta con una función llamada `range`.\n",
    "\n",
    "<font color=\"green;\">Sintaxis</font>\n",
    "\n",
    "```python\n",
    "range(stop)\n",
    "range(start, stop)\n",
    "range(start, stop, step)\n",
    "```\n",
    "\n",
    "El objeto retornado por `range` se comporta de muchas maneras como si fuera una lista, pero **no** lo es. Es un objeto que genera los ítems sucesivos de la secuencia deseada cuando se itera sobre él, pero no construye la lista en memoria, lo que permite ahorrar espacio.\n"
   ]
  },
  {
   "cell_type": "code",
   "execution_count": 32,
   "metadata": {},
   "outputs": [
    {
     "name": "stdout",
     "output_type": "stream",
     "text": [
      "range 5: range(0, 5)\n",
      "elementos de range 5: [0, 1, 2, 3, 4]\n"
     ]
    }
   ],
   "source": [
    "# por si solo, range no es muy útil\n",
    "stop = 5\n",
    "range(stop)\n",
    "\n",
    "print(f\"range {stop}: {range(stop)}\")\n",
    "\n",
    "# si lo convertimos a una lista, podemos ver su contenido\n",
    "print(f\"elementos de range {stop}: {list(range(stop))}\")"
   ]
  },
  {
   "cell_type": "code",
   "execution_count": 33,
   "metadata": {},
   "outputs": [
    {
     "name": "stdout",
     "output_type": "stream",
     "text": [
      "range(5):\n",
      "0, 1, 2, 3, 4, \n",
      "\n",
      "range(-2, 5):\n",
      "-2, -1, 0, 1, 2, 3, 4, \n",
      "\n",
      "range(-2, 10, 3):\n",
      "-2, 1, 4, 7, "
     ]
    }
   ],
   "source": [
    "# range tiene relevancia cuando se incluye en un ciclo\n",
    "\n",
    "# range(stop): genera los números desde 0 hasta stop - 1\n",
    "stop = 5\n",
    "print(f\"range({stop}):\")\n",
    "\n",
    "for i in range(stop):\n",
    "    print(i, end=', ')\n",
    "\n",
    "\n",
    "# range(start, stop): genera los números desde start hasta stop - 1\n",
    "start, stop = -2, 5\n",
    "print(f\"\\n\\nrange({start}, {stop}):\")\n",
    "\n",
    "for i in range(start, stop):\n",
    "    print(i, end=', ')\n",
    "\n",
    "\n",
    "# range(start, stop, step): genera los números desde start hasta stop - 1 con paso step\n",
    "start, stop, step = -2, 10, 3\n",
    "print(f\"\\n\\nrange({start}, {stop}, {step}):\")\n",
    "\n",
    "for i in range(start, stop, step):\n",
    "    print(i, end=', ')"
   ]
  },
  {
   "cell_type": "markdown",
   "metadata": {},
   "source": [
    "#### `enumerate`"
   ]
  },
  {
   "cell_type": "markdown",
   "metadata": {},
   "source": [
    "Se puede combinar `range()` y `len()` para iterar sobre los índices de una lista"
   ]
  },
  {
   "cell_type": "code",
   "execution_count": 34,
   "metadata": {},
   "outputs": [
    {
     "name": "stdout",
     "output_type": "stream",
     "text": [
      "El elemento en la posición 0 es: 1\n",
      "El elemento en la posición 1 es: 2\n",
      "El elemento en la posición 2 es: 3\n",
      "El elemento en la posición 3 es: 4\n",
      "El elemento en la posición 4 es: 5\n"
     ]
    }
   ],
   "source": [
    "lista = [1, 2, 3, 4, 5]\n",
    "\n",
    "for i in range(len(lista)):  # ¿qué genera range(len(lista))?\n",
    "    print(f\"El elemento en la posición {i} es: {lista[i]}\")"
   ]
  },
  {
   "cell_type": "markdown",
   "metadata": {},
   "source": [
    "Sin embargo, es preferible usar `enumerate()` para esto, pues entrega tanto el índice como el elemento"
   ]
  },
  {
   "cell_type": "code",
   "execution_count": 35,
   "metadata": {},
   "outputs": [
    {
     "name": "stdout",
     "output_type": "stream",
     "text": [
      "El elemento en la posición 0 es: 1\n",
      "El elemento en la posición 1 es: 2\n",
      "El elemento en la posición 2 es: 3\n",
      "El elemento en la posición 3 es: 4\n",
      "El elemento en la posición 4 es: 5\n"
     ]
    }
   ],
   "source": [
    "lista = [1, 2, 3, 4, 5]\n",
    "\n",
    "for i, elemento in enumerate(lista):\n",
    "    print(f\"El elemento en la posición {i} es: {elemento}\")"
   ]
  },
  {
   "cell_type": "markdown",
   "metadata": {},
   "source": [
    "#### Operadores de asignación compuesta\n",
    "\n",
    "Algo usual a realizar es modificar una variable externa utilizando un ciclo. Por ejemplo, si queremos sumar los cuadrados de los elementos de una lista, se puede realizar de la siguiente forma:"
   ]
  },
  {
   "cell_type": "code",
   "execution_count": 36,
   "metadata": {},
   "outputs": [
    {
     "name": "stdout",
     "output_type": "stream",
     "text": [
      "La suma de los cuadrados de los números del 0 al 99 es: 328350\n"
     ]
    }
   ],
   "source": [
    "suma_cuadrados = 0\n",
    "\n",
    "for numero in range(100):\n",
    "    suma_cuadrados = suma_cuadrados + numero ** 2\n",
    "\n",
    "print(f\"La suma de los cuadrados de los números del 0 al 99 es: {suma_cuadrados}\")"
   ]
  },
  {
   "cell_type": "markdown",
   "metadata": {},
   "source": [
    "Cuando se tiene una expresión del estilo `variable = variable + algo_nuevo`, se puede simplificar a `variable += algo_nuevo`.\n",
    "\n",
    "Esto mismo se aplica a otros operadores como la resta (`-=`), multiplicación (`*=`), división (`/=`), entre otros.\n",
    "\n",
    "Utilizar operadores de asignación compuesta no solo hace el código más limpio, sino que también puede ayudar a evitar errores y mejorar la legibilidad."
   ]
  },
  {
   "cell_type": "code",
   "execution_count": 37,
   "metadata": {},
   "outputs": [
    {
     "name": "stdout",
     "output_type": "stream",
     "text": [
      "La suma de los cuadrados de los números del 0 al 99 es: 328350\n"
     ]
    }
   ],
   "source": [
    "suma_cuadrados = 0\n",
    "for numero in range(100):\n",
    "    suma_cuadrados += numero ** 2\n",
    "\n",
    "print(f\"La suma de los cuadrados de los números del 0 al 99 es: {suma_cuadrados}\")"
   ]
  },
  {
   "cell_type": "markdown",
   "metadata": {},
   "source": [
    "#### *Comprehension* "
   ]
  },
  {
   "cell_type": "markdown",
   "metadata": {},
   "source": [
    "##### *List Comprehension*"
   ]
  },
  {
   "cell_type": "markdown",
   "metadata": {},
   "source": [
    "\n",
    "En Python, una *list comprehension* es una forma concisa y eficiente de crear listas. Permite generar una nueva lista aplicando una expresión a cada elemento de una secuencia, todo en una sola línea de código. Esto mejora la legibilidad y simplifica tareas comunes de manipulación de listas.\n",
    "\n",
    "<font color=\"green\">Sintaxis</font>\n",
    "\n",
    "```python\n",
    "nueva_lista = [expresión for elemento in iterable]\n",
    "```"
   ]
  },
  {
   "cell_type": "code",
   "execution_count": 38,
   "metadata": {},
   "outputs": [
    {
     "name": "stdout",
     "output_type": "stream",
     "text": [
      "Lista de cuadrados: [0, 1, 4, 9, 16, 25, 36, 49, 64, 81]\n",
      "Lista de n° pares: [0, 2, 4, 6, 8]\n",
      "Lista de n° impares: [1, 3, 5, 7, 9]\n"
     ]
    }
   ],
   "source": [
    "cuadrados = [numero ** 2 for numero in range(10)]\n",
    "print(f\"Lista de cuadrados: {cuadrados}\")\n",
    "\n",
    "pares = [x for x in range(10) if x % 2 == 0]\n",
    "impares = [x for x in range(10) if x % 2 != 0]\n",
    "\n",
    "print(f\"Lista de n° pares: {pares}\")\n",
    "print(f\"Lista de n° impares: {impares}\")"
   ]
  },
  {
   "cell_type": "markdown",
   "metadata": {},
   "source": [
    "##### *Dict Comprehension*\n",
    "\n",
    "Las *dict comprehensions* en Python son una forma concisa y eficiente de crear diccionarios. Al igual que las *list comprehensions*, permiten construir un nuevo diccionario aplicando una expresión a cada par clave-valor dentro de un iterable, todo en una sola línea de código.\n",
    "\n",
    "<font color=\"green\">Sintaxis</font>\n",
    "\n",
    "```python\n",
    "nuevo_diccionario = {clave_expr: valor_expr for item in iterable}\n",
    "```"
   ]
  },
  {
   "cell_type": "code",
   "execution_count": 39,
   "metadata": {},
   "outputs": [
    {
     "name": "stdout",
     "output_type": "stream",
     "text": [
      "Diccionario de n° pares: {0: 0, 2: 2, 4: 4, 6: 6, 8: 8}\n",
      "\n",
      "Diccionario de mobs y sus vidas:\n",
      "{'Zombie': 20, 'Creeper': 20, 'Enderman': 40, 'Esqueleto': 20, 'Araña': 16}\n"
     ]
    }
   ],
   "source": [
    "# Crear un diccionario de números pares y sus cuadrados\n",
    "cuadrados_pares = {x: x for x in range(10) if x % 2 == 0}\n",
    "print(f\"Diccionario de n° pares: {cuadrados_pares}\")\n",
    "\n",
    "\n",
    "# o dadas unas listas\n",
    "\n",
    "mobs = [\"Zombie\", \"Creeper\", \"Enderman\", \"Esqueleto\", \"Araña\"]\n",
    "vidas = [20, 20, 40, 20, 16]\n",
    "\n",
    "# se puede crear un diccionario con zip\n",
    "mobs_vidas = {mobs[i]: vidas[i] for i in range(len(mobs))}\n",
    "print(f\"\\nDiccionario de mobs y sus vidas:\\n{mobs_vidas}\")\n",
    "\n",
    "# esto último puede ser más simple con enumerate o zip\n",
    "# ¿qué es zip? explore"
   ]
  },
  {
   "cell_type": "markdown",
   "metadata": {},
   "source": [
    "### Ciclo `while`"
   ]
  },
  {
   "cell_type": "markdown",
   "metadata": {},
   "source": [
    "#### Definición\n",
    "\n",
    "La sentencia `while` en Python se utiliza para ejecutar un bloque de código repetidamente, siempre y cuando una condición especificada sea `True`. A diferencia de los ciclos `for`, que iteran sobre una secuencia predefinida de elementos, el ciclo `while` continuará ejecutándose hasta que la condición se evalúe como `False`.\n",
    "\n",
    "<font color=\"green;\">Sintaxis</font>\n",
    "\n",
    "```python\n",
    "while condición:\n",
    "    # Bloque de código a ejecutar mientras la condición sea True\n",
    "```"
   ]
  },
  {
   "cell_type": "code",
   "execution_count": 40,
   "metadata": {},
   "outputs": [
    {
     "name": "stdout",
     "output_type": "stream",
     "text": [
      "Iteración número 0\n",
      "Iteración número 1\n",
      "Iteración número 2\n",
      "Iteración número 3\n",
      "Iteración número 4\n",
      "Iteración número 5\n"
     ]
    }
   ],
   "source": [
    "contador = 0\n",
    "\n",
    "while contador <= 5:\n",
    "    print(f\"Iteración número {contador}\")\n",
    "    contador += 1"
   ]
  },
  {
   "cell_type": "markdown",
   "metadata": {},
   "source": [
    "#### Precuación ⚠️\n",
    "\n",
    "Un `while` puede resultar en un ciclo infinito si la condición nunca se vuelve `False` . Asegúrese de que la condición eventualmente cambie su valor para evitar que el programa quede atrapado en un ciclo sin fin."
   ]
  },
  {
   "cell_type": "code",
   "execution_count": 41,
   "metadata": {},
   "outputs": [],
   "source": [
    "# no ejecutar este código!!\n",
    "\n",
    "# while True:\n",
    "#     print(\"Esto es un ciclo infinito\")"
   ]
  },
  {
   "cell_type": "markdown",
   "metadata": {},
   "source": [
    "### `break`, `pass` y `continue`\n",
    "\n",
    "\n",
    "En Python, las sentencias `break`, `pass`, y `continue` se utilizan para controlar el flujo de los ciclos `for` y `while`. Cada una de ellas tiene un propósito específico que permite modificar la forma en que se ejecutan los ciclos, lo que las convierte en herramientas poderosas para gestionar la lógica de un programa."
   ]
  },
  {
   "cell_type": "markdown",
   "metadata": {},
   "source": [
    "#### `break`: Salir de un Ciclo\n",
    "\n",
    "La sentencia `break` se utiliza para salir de un ciclo de manera inmediata, sin esperar a que se cumpla la condición o a que se iteren todos los elementos. Cuando Python encuentra un `break`, deja de ejecutar el ciclo y pasa a la siguiente parte del programa."
   ]
  },
  {
   "cell_type": "code",
   "execution_count": 42,
   "metadata": {},
   "outputs": [
    {
     "name": "stdout",
     "output_type": "stream",
     "text": [
      "Esto es un ciclo infinito\n",
      "Era un ciclo infinito, pero ya no lo es gracias a break😎\n"
     ]
    }
   ],
   "source": [
    "# ejemplo\n",
    "\n",
    "while True:\n",
    "    print(\"Esto es un ciclo infinito\")\n",
    "    break\n",
    "    print(\"Esto no se mostrará\")\n",
    "\n",
    "print(\"Era un ciclo infinito, pero ya no lo es gracias a break\\U0001F60E\")"
   ]
  },
  {
   "cell_type": "markdown",
   "metadata": {},
   "source": [
    "#### `continue`: Saltar a la siguiente iteración\n",
    "\n",
    "La sentencia `continue` hace que el ciclo pase a la siguiente iteración inmediatamente, ignorando el código restante que se encuentra dentro del bucle para esa iteración en particular."
   ]
  },
  {
   "cell_type": "code",
   "execution_count": 43,
   "metadata": {},
   "outputs": [
    {
     "name": "stdout",
     "output_type": "stream",
     "text": [
      "0 2 4 6 8 "
     ]
    }
   ],
   "source": [
    "# ejemplo\n",
    "\n",
    "for numero in range(10):\n",
    "    if numero % 2 == 1:\n",
    "        continue  # Saltar el resto del ciclo para números impares\n",
    "        print(\"Este print no se mostrará\")\n",
    "        \n",
    "    print(numero, end=' ')"
   ]
  },
  {
   "cell_type": "markdown",
   "metadata": {},
   "source": [
    "#### `pass`: No Hacer Nada\n",
    "La sentencia `pass` se usa como un marcador de posición. No realiza ninguna acción, es comúnmente utilizada en definiciones de funciones que aún no están implementadas."
   ]
  },
  {
   "cell_type": "code",
   "execution_count": 44,
   "metadata": {},
   "outputs": [
    {
     "name": "stdout",
     "output_type": "stream",
     "text": [
      "1 3 "
     ]
    }
   ],
   "source": [
    "# Ejemplo en función\n",
    "def funcion_vacia():\n",
    "    pass  # Esta función no hace nada\n",
    "\n",
    "# Ejemplo en ciclo\n",
    "for numero in range(5):\n",
    "    if numero % 2 == 0:\n",
    "        pass  # No hacer nada para los números pares\n",
    "\n",
    "    else:\n",
    "        print(numero, end=' ')"
   ]
  },
  {
   "cell_type": "markdown",
   "metadata": {},
   "source": [
    "### <font color=\"yellow\">Actividades Avanzadas</font>"
   ]
  },
  {
   "cell_type": "markdown",
   "metadata": {},
   "source": [
    "#### P1\n",
    "La función exponencial $$f(x) = e^x$$ es una de las funciones más importantes en matemáticas y ciencias. Se define como la función que tiene como base el número $e$, también conocido como el número de Euler, una constante matemática trascendental.\n",
    "\n",
    "<iframe src=\"https://www.desmos.com/calculator/wxonatuo1p?embed\" width=\"500\" height=\"500\" style=\"border: 1px solid #ccc\" frameborder=0></iframe>"
   ]
  },
  {
   "cell_type": "code",
   "execution_count": 45,
   "metadata": {},
   "outputs": [
    {
     "data": {
      "text/html": [
       "\n",
       "        <iframe\n",
       "            width=\"500\"\n",
       "            height=\"500\"\n",
       "            src=\"https://www.desmos.com/calculator/wxonatuo1p?embed\"\n",
       "            frameborder=\"0\"\n",
       "            allowfullscreen\n",
       "            \n",
       "        ></iframe>\n",
       "        "
      ],
      "text/plain": [
       "<IPython.lib.display.IFrame at 0x1c981e0fd00>"
      ]
     },
     "execution_count": 45,
     "metadata": {},
     "output_type": "execute_result"
    }
   ],
   "source": [
    "from IPython.display import IFrame\n",
    "IFrame(src=\"https://www.desmos.com/calculator/wxonatuo1p?embed\", width=500, height=500)"
   ]
  },
  {
   "cell_type": "markdown",
   "metadata": {},
   "source": [
    "\n",
    "Determinemos numéricamente cuánto vale este número.\n",
    "\n",
    "Para ello, un matemático llamado Taylor nos dice lo siguiente:\n",
    "\n",
    "$$e^x = \\sum_{n=0}^{\\infty} \\frac{x^n}{n!} = 1 + x + \\frac{x^2}{2!} + \\frac{x^3}{3!} + \\dots$$\n",
    "\n",
    "Donde $!$ es el operador factorial que se define como:\n",
    "$$n! = n\\cdot (n-1)! = n\\cdot(n-1)\\cdot(n-2)! = n\\cdot(n-1)\\cdot(n-2)\\dots 1$$\n",
    "\n",
    "Notemos que $f(1) = e^1$ es lo que queremos determinar. Considerando esto:\n",
    "\n",
    "- Cree una función que calcule el factorial de un número entero $n$\n",
    "\n",
    "- Usando la función factorial, construya una función que calcule esta suma hasta un término de corte que llamará `n_stop`, pues no podemos evaluar infinitos términos\n",
    "\n",
    "- ¿Qué pasa a medida que `n_stop` aumenta? ¿A qué número converge? Analice sus resultados utilizando un ciclo y `print`"
   ]
  },
  {
   "cell_type": "code",
   "execution_count": 46,
   "metadata": {},
   "outputs": [],
   "source": [
    "# su código va aquí"
   ]
  },
  {
   "cell_type": "markdown",
   "metadata": {},
   "source": [
    "#### P2\n",
    "\n",
    "Considere la variable `secuencia_sucia` de la celda siguiente.\n",
    "\n",
    "Esta variable contiene una secuencia de números ordenada, pero con las siguientes dificultades:\n",
    "\n",
    "- La secuencia cuenta con strings aleatorios ubicados en posiciones aleatorias\n",
    "- No sabemos el número mayor, pero sabemos que parte desde 0\n",
    "\n",
    "Para más claridad, use un `slice` de tamaño a su elección para analizar la variable `secuencia_sucia`\n",
    "\n",
    "Se le pide determinar:\n",
    "\n",
    "1. La suma generada por los números de la secuencia\n",
    "\n",
    "1. Para comprobar que nuestra suma es correcta, usaremos una expresión llamada **suma de Gauss**: $$\\sum_{i=0}^{n} i = \\frac{n\\cdot(n+1)}{2}$$\\\n",
    "La cual le pide conocer hasta qué número se está sumando.\\\n",
    "Determine el número máximo en la lista y compruebe su resultado anterior con esta expresión\n",
    "\n",
    "1. Determine el número de strings en la lista"
   ]
  },
  {
   "cell_type": "code",
   "execution_count": 47,
   "metadata": {},
   "outputs": [],
   "source": [
    "def secuencia_numeros_con_strings(seed=17, lim_numeros=[100, 1_000],\n",
    "                                  lim_strings=[100, 1_000], len_strings=5):\n",
    "    \"\"\"\n",
    "    Función que genera una lista de largo aleatorio que contiene números ordenados\n",
    "    secuencialmente, pero con strings aleatorios en posiciones aleatorias\n",
    "    \n",
    "    Input:\n",
    "    ------\n",
    "    seed (opcional): int - Semilla para el generador de números aleatorios\n",
    "    lim_numeros (opcional): list - Rango de los números aleatorios [lim_inf, lim_sup]\n",
    "    lim_strings (opcional): list - Rango de la cantidad de strings [lim_inf, lim_sup]\n",
    "    len_strings (opcional): int - Largo de los strings generados\n",
    "    \"\"\"\n",
    "    # ya veremos más adelante como funciona esto :)\n",
    "    # por ahora, solo necesita saber lo mencionado en el docstring\n",
    "    \n",
    "    import random\n",
    "    random.seed(seed)\n",
    "    \n",
    "    num_final = random.randint(*lim_numeros)\n",
    "    n_strings = random.randint(*lim_strings)\n",
    "    \n",
    "    abecedario = 'abcdefghijklmnopqrstuvwxyz'\n",
    "    \n",
    "    lista_numeros_strings = list(range(num_final))\n",
    "    \n",
    "    for _ in range(n_strings):\n",
    "        posicion = random.randint(0, num_final)\n",
    "        string = ''.join(random.choices(abecedario, k=len_strings))\n",
    "        \n",
    "        lista_numeros_strings.insert(posicion, string)\n",
    "    \n",
    "    return lista_numeros_strings\n",
    "\n",
    "secuencia_sucia = secuencia_numeros_con_strings()\n",
    "\n",
    "# su código va aquí\n"
   ]
  }
 ],
 "metadata": {
  "kernelspec": {
   "display_name": ".venv",
   "language": "python",
   "name": "python3"
  },
  "language_info": {
   "codemirror_mode": {
    "name": "ipython",
    "version": 3
   },
   "file_extension": ".py",
   "mimetype": "text/x-python",
   "name": "python",
   "nbconvert_exporter": "python",
   "pygments_lexer": "ipython3",
   "version": "3.9.19"
  }
 },
 "nbformat": 4,
 "nbformat_minor": 2
}

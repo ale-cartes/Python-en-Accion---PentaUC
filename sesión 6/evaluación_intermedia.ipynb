{
 "cells": [
  {
   "cell_type": "markdown",
   "metadata": {},
   "source": [
    "<div style=\"display: flex; justify-content: space-between; align-items: center;\">\n",
    "    <div style=\"display: flex; flex-direction: column;\">\n",
    "        <h1>Evaluación Intermedia\n",
    "            <a href=\"https://colab.research.google.com/github/ale-cartes/Python-en-Accion---PentaUC/blob/main/sesión 6/evaluación_intermedia.ipynb\" target=\"_parent\">\n",
    "                <img src=\"https://colab.research.google.com/assets/colab-badge.svg\" alt=\"Open In Colab\"/>\n",
    "            </a>\n",
    "        </h1>\n",
    "    </div>\n",
    "    <h3 style=\"margin: 0; white-space: nowrap;\">Prof.: Alejandro Cartes</h3>\n",
    "    <img src=\"https://academiadetalentos.uc.cl/wp-content/uploads/2024/01/cropped-ACADEMIA-TALENTOS-UC_02.png\" height=\"75px\">\n",
    "</div>\n",
    "\n",
    "---"
   ]
  },
  {
   "cell_type": "markdown",
   "metadata": {},
   "source": [
    "**Nombres**: (para editar, dar doble click al texto)\n",
    "- Estudiante 1\n",
    "- Estudiante 2"
   ]
  },
  {
   "cell_type": "markdown",
   "metadata": {},
   "source": [
    "Considere las siguientes expresiones para la función seno y coseno:\n",
    "\n",
    "$$\\sin{x} = \\sum_{n=0}^{\\infty} \\frac{(-1)^n}{\\left(2n+1\\right)!} x^{2n+1} = x - \\frac{x^3}{3!} + \\frac{x^5}{5!} - \\dots \\qquad \\cos{x} = \\sum_{n=0}^{\\infty} \\frac{(-1)^n}{(2n)!} x^{2n }= 1 - \\frac{x^2}{2!} + \\frac{x^4}{4!} - \\dots$$\n",
    "\n",
    "En donde $!$ es el operador factorial que se define como:\n",
    "$$n! = n \\cdot (n-1)! = n\\cdot(n-1)\\cdot(n-2)! = n\\cdot(n-1)\\cdot(n-2)\\dots 1$$\n",
    "\n",
    "Implementaremos una función en Python que calcule estas funciones dadas sus series y estudiaremos alguna de sus propiedades. Para ello:"
   ]
  },
  {
   "cell_type": "markdown",
   "metadata": {},
   "source": [
    "## a)"
   ]
  },
  {
   "cell_type": "markdown",
   "metadata": {},
   "source": [
    "Cree una función llamada **factorial** que calcule el factorial de un número entero $n$."
   ]
  },
  {
   "cell_type": "code",
   "execution_count": 14,
   "metadata": {},
   "outputs": [],
   "source": [
    "# su código va aquí"
   ]
  },
  {
   "cell_type": "markdown",
   "metadata": {},
   "source": [
    "## b)"
   ]
  },
  {
   "cell_type": "markdown",
   "metadata": {},
   "source": [
    "Usando la función factorial, construya dos funciones llamadas **seno** y **coseno** que calculen las sumas respectivas. Como no podemos sumar infinitamente, agregue un parámetro $n_{stop}$ que detenga la suma cuando se alcance el $n_{stop}$-ésimo elemento."
   ]
  },
  {
   "cell_type": "code",
   "execution_count": 15,
   "metadata": {},
   "outputs": [],
   "source": [
    "# su código va aquí\n",
    "# función seno"
   ]
  },
  {
   "cell_type": "code",
   "execution_count": 16,
   "metadata": {},
   "outputs": [],
   "source": [
    "# su código va aquí\n",
    "# función coseno"
   ]
  },
  {
   "cell_type": "markdown",
   "metadata": {},
   "source": [
    "## c)"
   ]
  },
  {
   "cell_type": "markdown",
   "metadata": {},
   "source": [
    "Grafique sus funciones entre $[-\\pi, \\pi]$, considerando $n_{stop}$ lo suficientemente grande. Agrege nombre a los ejes y un título"
   ]
  },
  {
   "cell_type": "code",
   "execution_count": 17,
   "metadata": {},
   "outputs": [],
   "source": [
    "# su código va aquí\n",
    "# gráfico función seno"
   ]
  },
  {
   "cell_type": "code",
   "execution_count": 18,
   "metadata": {},
   "outputs": [],
   "source": [
    "# su código va aquí\n",
    "# gráfico función coseno"
   ]
  },
  {
   "cell_type": "markdown",
   "metadata": {},
   "source": [
    "## d)"
   ]
  },
  {
   "cell_type": "markdown",
   "metadata": {},
   "source": [
    "Grafique el comportamiento de $sin^2{x} + cos^2{x}$ entre $[-\\pi, \\pi]$. Comente\n",
    "\n",
    "Puede ser útil\n",
    "\n",
    "```python\n",
    "plt.ylim\n",
    "```"
   ]
  },
  {
   "cell_type": "code",
   "execution_count": 19,
   "metadata": {},
   "outputs": [],
   "source": [
    "# su código va aquí"
   ]
  },
  {
   "cell_type": "markdown",
   "metadata": {},
   "source": [
    "*su comentario va aquí* (para editar, dar doble click al texto)"
   ]
  },
  {
   "cell_type": "markdown",
   "metadata": {},
   "source": [
    "## e)"
   ]
  },
  {
   "cell_type": "markdown",
   "metadata": {},
   "source": [
    "Usando un algoritmo de búsqueda de raíces entre $[-\\pi, \\pi]$, determine:\n",
    "\n",
    "- $x_{\\star}$ tal que: $\\sin{x_{\\star}} = \\frac{\\sqrt{3}}{2}$\n",
    "\n",
    "- $x_{\\star\\star}$ tal que: $\\cos{x_{\\star\\star}} = \\frac{1}{2}$\n",
    "\n",
    "¿Cuántas soluciones encontró para $x_{\\star}$?¿y para $x_{\\star\\star}$?"
   ]
  },
  {
   "cell_type": "code",
   "execution_count": 20,
   "metadata": {},
   "outputs": [],
   "source": [
    "import os\n",
    "\n",
    "if not ('link' in globals()):\n",
    "  link = \"https://raw.githubusercontent.com/ale-cartes/Python-en-Accion---PentaUC/refs/heads/main/utils.py\" \n",
    "  os.system(f\"wget {link}\")\n",
    "\n",
    "from utils import *"
   ]
  },
  {
   "cell_type": "code",
   "execution_count": 21,
   "metadata": {},
   "outputs": [],
   "source": [
    "# su código va aquí\n",
    "# x_\\star"
   ]
  },
  {
   "cell_type": "markdown",
   "metadata": {},
   "source": [
    "*comente aquí: $x_{\\star}$* (para editar, dar doble click al texto)"
   ]
  },
  {
   "cell_type": "code",
   "execution_count": 22,
   "metadata": {},
   "outputs": [],
   "source": [
    "# su código va aquí\n",
    "# x_\\star\\star"
   ]
  },
  {
   "cell_type": "markdown",
   "metadata": {},
   "source": [
    "*comente aquí: $x_{\\star\\star}$* (para editar, dar doble click al texto)"
   ]
  },
  {
   "cell_type": "markdown",
   "metadata": {},
   "source": [
    "## f)"
   ]
  },
  {
   "cell_type": "markdown",
   "metadata": {},
   "source": [
    "\n",
    "El paquete Numpy cuenta con implementaciones de estas funciones: **np.sin** y **np.cos**\n",
    "\n",
    "- Grafique su implementación y su respectiva función en Numpy en un mismo gráfico. ¿Observa diferencias?\n",
    "\n",
    "- Evalúe sus soluciones $x_{\\star}$ y $x_{\\star\\star}$ en la respectiva función de Numpy. ¿Se respetan las soluciones?"
   ]
  },
  {
   "cell_type": "code",
   "execution_count": 23,
   "metadata": {},
   "outputs": [],
   "source": [
    "# su código va aquí\n",
    "# gráfico seno y np.sin"
   ]
  },
  {
   "cell_type": "code",
   "execution_count": 24,
   "metadata": {},
   "outputs": [],
   "source": [
    "# su código va aquí\t\n",
    "# gráfico coseno y np.cos"
   ]
  },
  {
   "cell_type": "markdown",
   "metadata": {},
   "source": [
    "*comente aquí* (para editar, dar doble click al texto)"
   ]
  },
  {
   "cell_type": "code",
   "execution_count": 25,
   "metadata": {},
   "outputs": [],
   "source": [
    "# su código va aquí\n",
    "# x_\\star | np.sin"
   ]
  },
  {
   "cell_type": "code",
   "execution_count": 26,
   "metadata": {},
   "outputs": [],
   "source": [
    "# su código va aquí\n",
    "# x_\\star\\star | np.cos"
   ]
  },
  {
   "cell_type": "markdown",
   "metadata": {},
   "source": [
    "*comente aquí* (para editar, dar doble click al texto)"
   ]
  }
 ],
 "metadata": {
  "kernelspec": {
   "display_name": ".venv",
   "language": "python",
   "name": "python3"
  },
  "language_info": {
   "codemirror_mode": {
    "name": "ipython",
    "version": 3
   },
   "file_extension": ".py",
   "mimetype": "text/x-python",
   "name": "python",
   "nbconvert_exporter": "python",
   "pygments_lexer": "ipython3",
   "version": "3.9.19"
  }
 },
 "nbformat": 4,
 "nbformat_minor": 2
}
